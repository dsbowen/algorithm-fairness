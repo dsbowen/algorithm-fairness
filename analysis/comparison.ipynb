{
 "cells": [
  {
   "cell_type": "code",
   "execution_count": 1,
   "metadata": {
    "ExecuteTime": {
     "end_time": "2020-11-20T04:27:31.279635Z",
     "start_time": "2020-11-20T04:27:30.183164Z"
    }
   },
   "outputs": [],
   "source": [
    "import numpy as np\n",
    "import pandas as pd\n",
    "import statsmodels.api as sm\n",
    "\n",
    "INFILE = '../data/comparison.csv'"
   ]
  },
  {
   "cell_type": "code",
   "execution_count": 2,
   "metadata": {
    "ExecuteTime": {
     "end_time": "2020-11-20T04:27:31.357399Z",
     "start_time": "2020-11-20T04:27:31.282215Z"
    }
   },
   "outputs": [
    {
     "data": {
      "text/html": [
       "<div>\n",
       "<style scoped>\n",
       "    .dataframe tbody tr th:only-of-type {\n",
       "        vertical-align: middle;\n",
       "    }\n",
       "\n",
       "    .dataframe tbody tr th {\n",
       "        vertical-align: top;\n",
       "    }\n",
       "\n",
       "    .dataframe thead th {\n",
       "        text-align: right;\n",
       "    }\n",
       "</style>\n",
       "<table border=\"1\" class=\"dataframe\">\n",
       "  <thead>\n",
       "    <tr style=\"text-align: right;\">\n",
       "      <th></th>\n",
       "      <th>ParticipantID</th>\n",
       "      <th>CompletionCode</th>\n",
       "      <th>ID</th>\n",
       "      <th>EndTime</th>\n",
       "      <th>StartTime</th>\n",
       "      <th>Status</th>\n",
       "      <th>DemographicsTime</th>\n",
       "      <th>Gender</th>\n",
       "      <th>GenderSpecify</th>\n",
       "      <th>AgeBins</th>\n",
       "      <th>...</th>\n",
       "      <th>juv_other_count</th>\n",
       "      <th>priors_count</th>\n",
       "      <th>felony</th>\n",
       "      <th>black</th>\n",
       "      <th>married</th>\n",
       "      <th>output</th>\n",
       "      <th>y</th>\n",
       "      <th>FcastTimer</th>\n",
       "      <th>MostImportantFeature</th>\n",
       "      <th>next</th>\n",
       "    </tr>\n",
       "  </thead>\n",
       "  <tbody>\n",
       "    <tr>\n",
       "      <th>0</th>\n",
       "      <td>test</td>\n",
       "      <td>yxI0jg</td>\n",
       "      <td>1</td>\n",
       "      <td>2020-11-19 23:43:51.969826</td>\n",
       "      <td>2020-11-19 23:32:59.155429</td>\n",
       "      <td>Completed</td>\n",
       "      <td>42.387854</td>\n",
       "      <td>Male</td>\n",
       "      <td>NaN</td>\n",
       "      <td>25-29</td>\n",
       "      <td>...</td>\n",
       "      <td>1.0</td>\n",
       "      <td>1.0</td>\n",
       "      <td>0.0</td>\n",
       "      <td>1.0</td>\n",
       "      <td>0.0</td>\n",
       "      <td>0.766923</td>\n",
       "      <td>1.0</td>\n",
       "      <td>29.173377</td>\n",
       "      <td>NaN</td>\n",
       "      <td>NaN</td>\n",
       "    </tr>\n",
       "    <tr>\n",
       "      <th>1</th>\n",
       "      <td>test</td>\n",
       "      <td>yxI0jg</td>\n",
       "      <td>1</td>\n",
       "      <td>2020-11-19 23:43:51.969826</td>\n",
       "      <td>2020-11-19 23:32:59.155429</td>\n",
       "      <td>Completed</td>\n",
       "      <td>42.387854</td>\n",
       "      <td>Male</td>\n",
       "      <td>NaN</td>\n",
       "      <td>25-29</td>\n",
       "      <td>...</td>\n",
       "      <td>0.0</td>\n",
       "      <td>0.0</td>\n",
       "      <td>0.0</td>\n",
       "      <td>0.0</td>\n",
       "      <td>0.0</td>\n",
       "      <td>0.088920</td>\n",
       "      <td>0.0</td>\n",
       "      <td>145.471718</td>\n",
       "      <td>NaN</td>\n",
       "      <td>NaN</td>\n",
       "    </tr>\n",
       "    <tr>\n",
       "      <th>2</th>\n",
       "      <td>test</td>\n",
       "      <td>yxI0jg</td>\n",
       "      <td>1</td>\n",
       "      <td>2020-11-19 23:43:51.969826</td>\n",
       "      <td>2020-11-19 23:32:59.155429</td>\n",
       "      <td>Completed</td>\n",
       "      <td>42.387854</td>\n",
       "      <td>Male</td>\n",
       "      <td>NaN</td>\n",
       "      <td>25-29</td>\n",
       "      <td>...</td>\n",
       "      <td>0.0</td>\n",
       "      <td>15.0</td>\n",
       "      <td>0.0</td>\n",
       "      <td>1.0</td>\n",
       "      <td>0.0</td>\n",
       "      <td>0.736685</td>\n",
       "      <td>1.0</td>\n",
       "      <td>8.672931</td>\n",
       "      <td>NaN</td>\n",
       "      <td>NaN</td>\n",
       "    </tr>\n",
       "    <tr>\n",
       "      <th>3</th>\n",
       "      <td>test</td>\n",
       "      <td>yxI0jg</td>\n",
       "      <td>1</td>\n",
       "      <td>2020-11-19 23:43:51.969826</td>\n",
       "      <td>2020-11-19 23:32:59.155429</td>\n",
       "      <td>Completed</td>\n",
       "      <td>42.387854</td>\n",
       "      <td>Male</td>\n",
       "      <td>NaN</td>\n",
       "      <td>25-29</td>\n",
       "      <td>...</td>\n",
       "      <td>0.0</td>\n",
       "      <td>1.0</td>\n",
       "      <td>1.0</td>\n",
       "      <td>1.0</td>\n",
       "      <td>0.0</td>\n",
       "      <td>0.443584</td>\n",
       "      <td>0.0</td>\n",
       "      <td>10.088882</td>\n",
       "      <td>NaN</td>\n",
       "      <td>NaN</td>\n",
       "    </tr>\n",
       "    <tr>\n",
       "      <th>4</th>\n",
       "      <td>test</td>\n",
       "      <td>yxI0jg</td>\n",
       "      <td>1</td>\n",
       "      <td>2020-11-19 23:43:51.969826</td>\n",
       "      <td>2020-11-19 23:32:59.155429</td>\n",
       "      <td>Completed</td>\n",
       "      <td>42.387854</td>\n",
       "      <td>Male</td>\n",
       "      <td>NaN</td>\n",
       "      <td>25-29</td>\n",
       "      <td>...</td>\n",
       "      <td>0.0</td>\n",
       "      <td>2.0</td>\n",
       "      <td>1.0</td>\n",
       "      <td>0.0</td>\n",
       "      <td>0.0</td>\n",
       "      <td>0.363658</td>\n",
       "      <td>0.0</td>\n",
       "      <td>17.196649</td>\n",
       "      <td>NaN</td>\n",
       "      <td>NaN</td>\n",
       "    </tr>\n",
       "  </tbody>\n",
       "</table>\n",
       "<p>5 rows × 49 columns</p>\n",
       "</div>"
      ],
      "text/plain": [
       "  ParticipantID CompletionCode  ID                     EndTime  \\\n",
       "0          test         yxI0jg   1  2020-11-19 23:43:51.969826   \n",
       "1          test         yxI0jg   1  2020-11-19 23:43:51.969826   \n",
       "2          test         yxI0jg   1  2020-11-19 23:43:51.969826   \n",
       "3          test         yxI0jg   1  2020-11-19 23:43:51.969826   \n",
       "4          test         yxI0jg   1  2020-11-19 23:43:51.969826   \n",
       "\n",
       "                    StartTime     Status  DemographicsTime Gender  \\\n",
       "0  2020-11-19 23:32:59.155429  Completed         42.387854   Male   \n",
       "1  2020-11-19 23:32:59.155429  Completed         42.387854   Male   \n",
       "2  2020-11-19 23:32:59.155429  Completed         42.387854   Male   \n",
       "3  2020-11-19 23:32:59.155429  Completed         42.387854   Male   \n",
       "4  2020-11-19 23:32:59.155429  Completed         42.387854   Male   \n",
       "\n",
       "   GenderSpecify AgeBins  ...  juv_other_count  priors_count  felony  black  \\\n",
       "0            NaN   25-29  ...              1.0           1.0     0.0    1.0   \n",
       "1            NaN   25-29  ...              0.0           0.0     0.0    0.0   \n",
       "2            NaN   25-29  ...              0.0          15.0     0.0    1.0   \n",
       "3            NaN   25-29  ...              0.0           1.0     1.0    1.0   \n",
       "4            NaN   25-29  ...              0.0           2.0     1.0    0.0   \n",
       "\n",
       "   married    output    y  FcastTimer  MostImportantFeature  next  \n",
       "0      0.0  0.766923  1.0   29.173377                   NaN   NaN  \n",
       "1      0.0  0.088920  0.0  145.471718                   NaN   NaN  \n",
       "2      0.0  0.736685  1.0    8.672931                   NaN   NaN  \n",
       "3      0.0  0.443584  0.0   10.088882                   NaN   NaN  \n",
       "4      0.0  0.363658  0.0   17.196649                   NaN   NaN  \n",
       "\n",
       "[5 rows x 49 columns]"
      ]
     },
     "execution_count": 2,
     "metadata": {},
     "output_type": "execute_result"
    }
   ],
   "source": [
    "df = pd.read_csv(INFILE)\n",
    "df.head()"
   ]
  },
  {
   "cell_type": "code",
   "execution_count": 3,
   "metadata": {
    "ExecuteTime": {
     "end_time": "2020-11-20T04:27:31.386244Z",
     "start_time": "2020-11-20T04:27:31.360747Z"
    }
   },
   "outputs": [
    {
     "name": "stdout",
     "output_type": "stream",
     "text": [
      "N total participants 100\n",
      "N passed comprehension check 78\n"
     ]
    },
    {
     "data": {
      "text/plain": [
       "(780, 50)"
      ]
     },
     "execution_count": 3,
     "metadata": {},
     "output_type": "execute_result"
    }
   ],
   "source": [
    "# select participants who passed comprehension checks\n",
    "df = df[(df.ParticipantID!='test')]\n",
    "print('N total participants', len(pd.unique(df.ParticipantID)))\n",
    "df = df[(df.FcastComprehension==1) & (df.BonusComprehension==1)]\n",
    "print('N passed comprehension check', len(pd.unique(df.ParticipantID)))\n",
    "# select 'actual' forecasts (as opposed to practice forecasts)\n",
    "df = df[df.Practice==0]\n",
    "# scale forecasts to be between 0 and 1 (as opposed to 0 and 100)\n",
    "df['Fcast'] = df['Fcast'] / 100.\n",
    "# compute DVs\n",
    "df['Score'] = (df.y - df.Fcast)**2 - (df.y - df.output)**2\n",
    "df.values.shape"
   ]
  },
  {
   "cell_type": "code",
   "execution_count": 4,
   "metadata": {
    "ExecuteTime": {
     "end_time": "2020-11-20T04:27:31.404322Z",
     "start_time": "2020-11-20T04:27:31.389419Z"
    }
   },
   "outputs": [
    {
     "data": {
      "text/plain": [
       "(762, 50)"
      ]
     },
     "execution_count": 4,
     "metadata": {},
     "output_type": "execute_result"
    }
   ],
   "source": [
    "# not pre-registered cell: added to remove empty values from Score column\n",
    "df = df.dropna(subset=['Score'])\n",
    "df.values.shape"
   ]
  },
  {
   "cell_type": "code",
   "execution_count": 5,
   "metadata": {
    "ExecuteTime": {
     "end_time": "2020-11-20T04:27:31.442176Z",
     "start_time": "2020-11-20T04:27:31.408906Z"
    }
   },
   "outputs": [
    {
     "data": {
      "text/html": [
       "<table class=\"simpletable\">\n",
       "<caption>OLS Regression Results</caption>\n",
       "<tr>\n",
       "  <th>Dep. Variable:</th>          <td>Score</td>      <th>  R-squared:         </th> <td>  -0.000</td>\n",
       "</tr>\n",
       "<tr>\n",
       "  <th>Model:</th>                   <td>OLS</td>       <th>  Adj. R-squared:    </th> <td>  -0.000</td>\n",
       "</tr>\n",
       "<tr>\n",
       "  <th>Method:</th>             <td>Least Squares</td>  <th>  F-statistic:       </th> <td>     nan</td>\n",
       "</tr>\n",
       "<tr>\n",
       "  <th>Date:</th>             <td>Thu, 19 Nov 2020</td> <th>  Prob (F-statistic):</th>  <td>   nan</td> \n",
       "</tr>\n",
       "<tr>\n",
       "  <th>Time:</th>                 <td>23:27:31</td>     <th>  Log-Likelihood:    </th> <td> -34.360</td>\n",
       "</tr>\n",
       "<tr>\n",
       "  <th>No. Observations:</th>      <td>   762</td>      <th>  AIC:               </th> <td>   70.72</td>\n",
       "</tr>\n",
       "<tr>\n",
       "  <th>Df Residuals:</th>          <td>   761</td>      <th>  BIC:               </th> <td>   75.36</td>\n",
       "</tr>\n",
       "<tr>\n",
       "  <th>Df Model:</th>              <td>     0</td>      <th>                     </th>     <td> </td>   \n",
       "</tr>\n",
       "<tr>\n",
       "  <th>Covariance Type:</th>       <td>cluster</td>     <th>                     </th>     <td> </td>   \n",
       "</tr>\n",
       "</table>\n",
       "<table class=\"simpletable\">\n",
       "<tr>\n",
       "    <td></td>       <th>coef</th>     <th>std err</th>      <th>t</th>      <th>P>|t|</th>  <th>[0.025</th>    <th>0.975]</th>  \n",
       "</tr>\n",
       "<tr>\n",
       "  <th>const</th> <td>    0.0602</td> <td>    0.009</td> <td>    6.664</td> <td> 0.000</td> <td>    0.042</td> <td>    0.078</td>\n",
       "</tr>\n",
       "</table>\n",
       "<table class=\"simpletable\">\n",
       "<tr>\n",
       "  <th>Omnibus:</th>       <td>37.384</td> <th>  Durbin-Watson:     </th> <td>   1.976</td>\n",
       "</tr>\n",
       "<tr>\n",
       "  <th>Prob(Omnibus):</th> <td> 0.000</td> <th>  Jarque-Bera (JB):  </th> <td>  46.435</td>\n",
       "</tr>\n",
       "<tr>\n",
       "  <th>Skew:</th>          <td> 0.475</td> <th>  Prob(JB):          </th> <td>8.26e-11</td>\n",
       "</tr>\n",
       "<tr>\n",
       "  <th>Kurtosis:</th>      <td> 3.749</td> <th>  Cond. No.          </th> <td>    1.00</td>\n",
       "</tr>\n",
       "</table><br/><br/>Notes:<br/>[1] Standard Errors are robust to cluster correlation (cluster)"
      ],
      "text/plain": [
       "<class 'statsmodels.iolib.summary.Summary'>\n",
       "\"\"\"\n",
       "                            OLS Regression Results                            \n",
       "==============================================================================\n",
       "Dep. Variable:                  Score   R-squared:                      -0.000\n",
       "Model:                            OLS   Adj. R-squared:                 -0.000\n",
       "Method:                 Least Squares   F-statistic:                       nan\n",
       "Date:                Thu, 19 Nov 2020   Prob (F-statistic):                nan\n",
       "Time:                        23:27:31   Log-Likelihood:                -34.360\n",
       "No. Observations:                 762   AIC:                             70.72\n",
       "Df Residuals:                     761   BIC:                             75.36\n",
       "Df Model:                           0                                         \n",
       "Covariance Type:              cluster                                         \n",
       "==============================================================================\n",
       "                 coef    std err          t      P>|t|      [0.025      0.975]\n",
       "------------------------------------------------------------------------------\n",
       "const          0.0602      0.009      6.664      0.000       0.042       0.078\n",
       "==============================================================================\n",
       "Omnibus:                       37.384   Durbin-Watson:                   1.976\n",
       "Prob(Omnibus):                  0.000   Jarque-Bera (JB):               46.435\n",
       "Skew:                           0.475   Prob(JB):                     8.26e-11\n",
       "Kurtosis:                       3.749   Cond. No.                         1.00\n",
       "==============================================================================\n",
       "\n",
       "Notes:\n",
       "[1] Standard Errors are robust to cluster correlation (cluster)\n",
       "\"\"\""
      ]
     },
     "execution_count": 5,
     "metadata": {},
     "output_type": "execute_result"
    }
   ],
   "source": [
    "# prediction performance hypothesis\n",
    "# positive coef on constant regressor indicates model outperformed human predictions\n",
    "reg = sm.OLS(df.Score, np.array([1]*len(df)))\n",
    "res = reg.fit().get_robustcov_results(cov_type='cluster', groups=df.ParticipantID)\n",
    "res.summary()"
   ]
  },
  {
   "cell_type": "code",
   "execution_count": 6,
   "metadata": {
    "ExecuteTime": {
     "end_time": "2020-11-20T04:27:31.486755Z",
     "start_time": "2020-11-20T04:27:31.445684Z"
    }
   },
   "outputs": [
    {
     "data": {
      "text/html": [
       "<table class=\"simpletable\">\n",
       "<caption>OLS Regression Results</caption>\n",
       "<tr>\n",
       "  <th>Dep. Variable:</th>          <td>Score</td>      <th>  R-squared:         </th> <td>   0.013</td>\n",
       "</tr>\n",
       "<tr>\n",
       "  <th>Model:</th>                   <td>OLS</td>       <th>  Adj. R-squared:    </th> <td>   0.010</td>\n",
       "</tr>\n",
       "<tr>\n",
       "  <th>Method:</th>             <td>Least Squares</td>  <th>  F-statistic:       </th> <td>   4.884</td>\n",
       "</tr>\n",
       "<tr>\n",
       "  <th>Date:</th>             <td>Thu, 19 Nov 2020</td> <th>  Prob (F-statistic):</th>  <td>0.0302</td> \n",
       "</tr>\n",
       "<tr>\n",
       "  <th>Time:</th>                 <td>23:27:31</td>     <th>  Log-Likelihood:    </th> <td> -36.464</td>\n",
       "</tr>\n",
       "<tr>\n",
       "  <th>No. Observations:</th>      <td>   373</td>      <th>  AIC:               </th> <td>   76.93</td>\n",
       "</tr>\n",
       "<tr>\n",
       "  <th>Df Residuals:</th>          <td>   371</td>      <th>  BIC:               </th> <td>   84.77</td>\n",
       "</tr>\n",
       "<tr>\n",
       "  <th>Df Model:</th>              <td>     1</td>      <th>                     </th>     <td> </td>   \n",
       "</tr>\n",
       "<tr>\n",
       "  <th>Covariance Type:</th>       <td>cluster</td>     <th>                     </th>     <td> </td>   \n",
       "</tr>\n",
       "</table>\n",
       "<table class=\"simpletable\">\n",
       "<tr>\n",
       "    <td></td>       <th>coef</th>     <th>std err</th>      <th>t</th>      <th>P>|t|</th>  <th>[0.025</th>    <th>0.975]</th>  \n",
       "</tr>\n",
       "<tr>\n",
       "  <th>const</th> <td>    0.0517</td> <td>    0.024</td> <td>    2.151</td> <td> 0.035</td> <td>    0.004</td> <td>    0.100</td>\n",
       "</tr>\n",
       "<tr>\n",
       "  <th>black</th> <td>    0.0608</td> <td>    0.027</td> <td>    2.210</td> <td> 0.030</td> <td>    0.006</td> <td>    0.116</td>\n",
       "</tr>\n",
       "</table>\n",
       "<table class=\"simpletable\">\n",
       "<tr>\n",
       "  <th>Omnibus:</th>       <td> 9.856</td> <th>  Durbin-Watson:     </th> <td>   1.704</td>\n",
       "</tr>\n",
       "<tr>\n",
       "  <th>Prob(Omnibus):</th> <td> 0.007</td> <th>  Jarque-Bera (JB):  </th> <td>   9.862</td>\n",
       "</tr>\n",
       "<tr>\n",
       "  <th>Skew:</th>          <td> 0.378</td> <th>  Prob(JB):          </th> <td> 0.00722</td>\n",
       "</tr>\n",
       "<tr>\n",
       "  <th>Kurtosis:</th>      <td> 3.253</td> <th>  Cond. No.          </th> <td>    2.57</td>\n",
       "</tr>\n",
       "</table><br/><br/>Notes:<br/>[1] Standard Errors are robust to cluster correlation (cluster)"
      ],
      "text/plain": [
       "<class 'statsmodels.iolib.summary.Summary'>\n",
       "\"\"\"\n",
       "                            OLS Regression Results                            \n",
       "==============================================================================\n",
       "Dep. Variable:                  Score   R-squared:                       0.013\n",
       "Model:                            OLS   Adj. R-squared:                  0.010\n",
       "Method:                 Least Squares   F-statistic:                     4.884\n",
       "Date:                Thu, 19 Nov 2020   Prob (F-statistic):             0.0302\n",
       "Time:                        23:27:31   Log-Likelihood:                -36.464\n",
       "No. Observations:                 373   AIC:                             76.93\n",
       "Df Residuals:                     371   BIC:                             84.77\n",
       "Df Model:                           1                                         \n",
       "Covariance Type:              cluster                                         \n",
       "==============================================================================\n",
       "                 coef    std err          t      P>|t|      [0.025      0.975]\n",
       "------------------------------------------------------------------------------\n",
       "const          0.0517      0.024      2.151      0.035       0.004       0.100\n",
       "black          0.0608      0.027      2.210      0.030       0.006       0.116\n",
       "==============================================================================\n",
       "Omnibus:                        9.856   Durbin-Watson:                   1.704\n",
       "Prob(Omnibus):                  0.007   Jarque-Bera (JB):                9.862\n",
       "Skew:                           0.378   Prob(JB):                      0.00722\n",
       "Kurtosis:                       3.253   Cond. No.                         2.57\n",
       "==============================================================================\n",
       "\n",
       "Notes:\n",
       "[1] Standard Errors are robust to cluster correlation (cluster)\n",
       "\"\"\""
      ]
     },
     "execution_count": 6,
     "metadata": {},
     "output_type": "execute_result"
    }
   ],
   "source": [
    "# fairness hypothesis\n",
    "# positive coef on black indicates that human predictions are less fair than model predictions\n",
    "no_recid_df = df[df.y == 0]\n",
    "X = sm.add_constant(no_recid_df.black)\n",
    "reg = sm.OLS(no_recid_df.Score, X)\n",
    "res = reg.fit().get_robustcov_results(cov_type='cluster', groups=no_recid_df.ParticipantID)\n",
    "res.summary()"
   ]
  },
  {
   "cell_type": "code",
   "execution_count": 7,
   "metadata": {
    "ExecuteTime": {
     "end_time": "2020-11-20T04:27:31.519625Z",
     "start_time": "2020-11-20T04:27:31.490075Z"
    }
   },
   "outputs": [
    {
     "data": {
      "text/html": [
       "<table class=\"simpletable\">\n",
       "<caption>OLS Regression Results</caption>\n",
       "<tr>\n",
       "  <th>Dep. Variable:</th>            <td>y</td>        <th>  R-squared:         </th> <td>   0.014</td>\n",
       "</tr>\n",
       "<tr>\n",
       "  <th>Model:</th>                   <td>OLS</td>       <th>  Adj. R-squared:    </th> <td>   0.011</td>\n",
       "</tr>\n",
       "<tr>\n",
       "  <th>Method:</th>             <td>Least Squares</td>  <th>  F-statistic:       </th> <td>   5.472</td>\n",
       "</tr>\n",
       "<tr>\n",
       "  <th>Date:</th>             <td>Thu, 19 Nov 2020</td> <th>  Prob (F-statistic):</th>  <td>0.0220</td> \n",
       "</tr>\n",
       "<tr>\n",
       "  <th>Time:</th>                 <td>23:27:31</td>     <th>  Log-Likelihood:    </th> <td> -33.897</td>\n",
       "</tr>\n",
       "<tr>\n",
       "  <th>No. Observations:</th>      <td>   373</td>      <th>  AIC:               </th> <td>   71.79</td>\n",
       "</tr>\n",
       "<tr>\n",
       "  <th>Df Residuals:</th>          <td>   371</td>      <th>  BIC:               </th> <td>   79.64</td>\n",
       "</tr>\n",
       "<tr>\n",
       "  <th>Df Model:</th>              <td>     1</td>      <th>                     </th>     <td> </td>   \n",
       "</tr>\n",
       "<tr>\n",
       "  <th>Covariance Type:</th>       <td>cluster</td>     <th>                     </th>     <td> </td>   \n",
       "</tr>\n",
       "</table>\n",
       "<table class=\"simpletable\">\n",
       "<tr>\n",
       "    <td></td>       <th>coef</th>     <th>std err</th>      <th>t</th>      <th>P>|t|</th>  <th>[0.025</th>    <th>0.975]</th>  \n",
       "</tr>\n",
       "<tr>\n",
       "  <th>const</th> <td>    0.0118</td> <td>    0.024</td> <td>    0.502</td> <td> 0.617</td> <td>   -0.035</td> <td>    0.059</td>\n",
       "</tr>\n",
       "<tr>\n",
       "  <th>black</th> <td>    0.0623</td> <td>    0.027</td> <td>    2.339</td> <td> 0.022</td> <td>    0.009</td> <td>    0.115</td>\n",
       "</tr>\n",
       "</table>\n",
       "<table class=\"simpletable\">\n",
       "<tr>\n",
       "  <th>Omnibus:</th>       <td> 0.348</td> <th>  Durbin-Watson:     </th> <td>   1.722</td>\n",
       "</tr>\n",
       "<tr>\n",
       "  <th>Prob(Omnibus):</th> <td> 0.840</td> <th>  Jarque-Bera (JB):  </th> <td>   0.471</td>\n",
       "</tr>\n",
       "<tr>\n",
       "  <th>Skew:</th>          <td>-0.045</td> <th>  Prob(JB):          </th> <td>   0.790</td>\n",
       "</tr>\n",
       "<tr>\n",
       "  <th>Kurtosis:</th>      <td> 2.851</td> <th>  Cond. No.          </th> <td>    2.57</td>\n",
       "</tr>\n",
       "</table><br/><br/>Notes:<br/>[1] Standard Errors are robust to cluster correlation (cluster)"
      ],
      "text/plain": [
       "<class 'statsmodels.iolib.summary.Summary'>\n",
       "\"\"\"\n",
       "                            OLS Regression Results                            \n",
       "==============================================================================\n",
       "Dep. Variable:                      y   R-squared:                       0.014\n",
       "Model:                            OLS   Adj. R-squared:                  0.011\n",
       "Method:                 Least Squares   F-statistic:                     5.472\n",
       "Date:                Thu, 19 Nov 2020   Prob (F-statistic):             0.0220\n",
       "Time:                        23:27:31   Log-Likelihood:                -33.897\n",
       "No. Observations:                 373   AIC:                             71.79\n",
       "Df Residuals:                     371   BIC:                             79.64\n",
       "Df Model:                           1                                         \n",
       "Covariance Type:              cluster                                         \n",
       "==============================================================================\n",
       "                 coef    std err          t      P>|t|      [0.025      0.975]\n",
       "------------------------------------------------------------------------------\n",
       "const          0.0118      0.024      0.502      0.617      -0.035       0.059\n",
       "black          0.0623      0.027      2.339      0.022       0.009       0.115\n",
       "==============================================================================\n",
       "Omnibus:                        0.348   Durbin-Watson:                   1.722\n",
       "Prob(Omnibus):                  0.840   Jarque-Bera (JB):                0.471\n",
       "Skew:                          -0.045   Prob(JB):                        0.790\n",
       "Kurtosis:                       2.851   Cond. No.                         2.57\n",
       "==============================================================================\n",
       "\n",
       "Notes:\n",
       "[1] Standard Errors are robust to cluster correlation (cluster)\n",
       "\"\"\""
      ]
     },
     "execution_count": 7,
     "metadata": {},
     "output_type": "execute_result"
    }
   ],
   "source": [
    "reg = sm.OLS(no_recid_df.Fcast - no_recid_df.output, X)\n",
    "res = reg.fit().get_robustcov_results(cov_type='cluster', groups=no_recid_df.ParticipantID)\n",
    "res.summary()"
   ]
  },
  {
   "cell_type": "code",
   "execution_count": 8,
   "metadata": {
    "ExecuteTime": {
     "end_time": "2020-11-20T04:27:31.548959Z",
     "start_time": "2020-11-20T04:27:31.523925Z"
    }
   },
   "outputs": [
    {
     "data": {
      "text/plain": [
       "black  y  \n",
       "0.0    0.0    0.422680\n",
       "       1.0    0.515203\n",
       "1.0    0.0    0.522905\n",
       "       1.0    0.661826\n",
       "Name: Fcast, dtype: float64"
      ]
     },
     "execution_count": 8,
     "metadata": {},
     "output_type": "execute_result"
    }
   ],
   "source": [
    "df.groupby(['black', 'y']).Fcast.mean()"
   ]
  },
  {
   "cell_type": "code",
   "execution_count": 9,
   "metadata": {
    "ExecuteTime": {
     "end_time": "2020-11-20T04:27:31.567039Z",
     "start_time": "2020-11-20T04:27:31.552561Z"
    }
   },
   "outputs": [
    {
     "data": {
      "text/plain": [
       "black  y  \n",
       "0.0    0.0    0.410850\n",
       "       1.0    0.577980\n",
       "1.0    0.0    0.448818\n",
       "       1.0    0.634106\n",
       "Name: output, dtype: float64"
      ]
     },
     "execution_count": 9,
     "metadata": {},
     "output_type": "execute_result"
    }
   ],
   "source": [
    "df.groupby(['black', 'y']).output.mean()"
   ]
  },
  {
   "cell_type": "code",
   "execution_count": 10,
   "metadata": {
    "ExecuteTime": {
     "end_time": "2020-11-20T04:27:31.593304Z",
     "start_time": "2020-11-20T04:27:31.571965Z"
    }
   },
   "outputs": [],
   "source": [
    "# compute bonuses\n",
    "completed_df = df[df.Status == 'Completed']\n",
    "bonus_df = 1.5 * (1-completed_df.groupby(by='ParticipantID').Score.mean())\n",
    "bonus_df.to_csv('../data/comparison_bonus_1.csv')"
   ]
  },
  {
   "cell_type": "code",
   "execution_count": 11,
   "metadata": {
    "ExecuteTime": {
     "end_time": "2020-11-20T04:27:31.610756Z",
     "start_time": "2020-11-20T04:27:31.595807Z"
    }
   },
   "outputs": [
    {
     "data": {
      "text/plain": [
       "107.14405587449993"
      ]
     },
     "execution_count": 11,
     "metadata": {},
     "output_type": "execute_result"
    }
   ],
   "source": [
    "bonus_df.sum()"
   ]
  },
  {
   "cell_type": "code",
   "execution_count": 13,
   "metadata": {
    "ExecuteTime": {
     "end_time": "2020-11-20T04:32:41.356579Z",
     "start_time": "2020-11-20T04:32:41.350785Z"
    }
   },
   "outputs": [
    {
     "data": {
      "text/plain": [
       "0.2236842105263158"
      ]
     },
     "execution_count": 13,
     "metadata": {},
     "output_type": "execute_result"
    }
   ],
   "source": [
    "(bonus_df > 1.5).mean()"
   ]
  },
  {
   "cell_type": "code",
   "execution_count": null,
   "metadata": {},
   "outputs": [],
   "source": []
  }
 ],
 "metadata": {
  "kernelspec": {
   "display_name": "algorithm-fairness",
   "language": "python",
   "name": "algorithm-fairness"
  },
  "language_info": {
   "codemirror_mode": {
    "name": "ipython",
    "version": 3
   },
   "file_extension": ".py",
   "mimetype": "text/x-python",
   "name": "python",
   "nbconvert_exporter": "python",
   "pygments_lexer": "ipython3",
   "version": "3.6.8"
  },
  "toc": {
   "base_numbering": 1,
   "nav_menu": {},
   "number_sections": true,
   "sideBar": true,
   "skip_h1_title": false,
   "title_cell": "Table of Contents",
   "title_sidebar": "Contents",
   "toc_cell": false,
   "toc_position": {},
   "toc_section_display": true,
   "toc_window_display": false
  },
  "varInspector": {
   "cols": {
    "lenName": 16,
    "lenType": 16,
    "lenVar": 40
   },
   "kernels_config": {
    "python": {
     "delete_cmd_postfix": "",
     "delete_cmd_prefix": "del ",
     "library": "var_list.py",
     "varRefreshCmd": "print(var_dic_list())"
    },
    "r": {
     "delete_cmd_postfix": ") ",
     "delete_cmd_prefix": "rm(",
     "library": "var_list.r",
     "varRefreshCmd": "cat(var_dic_list()) "
    }
   },
   "types_to_exclude": [
    "module",
    "function",
    "builtin_function_or_method",
    "instance",
    "_Feature"
   ],
   "window_display": false
  }
 },
 "nbformat": 4,
 "nbformat_minor": 4
}
