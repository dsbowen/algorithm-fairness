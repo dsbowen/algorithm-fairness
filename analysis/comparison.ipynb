{
 "cells": [
  {
   "cell_type": "code",
   "execution_count": 1,
   "metadata": {
    "ExecuteTime": {
     "end_time": "2020-11-29T14:48:13.041466Z",
     "start_time": "2020-11-29T14:48:11.125840Z"
    }
   },
   "outputs": [],
   "source": [
    "import numpy as np\n",
    "import pandas as pd\n",
    "import statsmodels.api as sm\n",
    "\n",
    "INFILE = '../data/comparison.csv'"
   ]
  },
  {
   "cell_type": "code",
   "execution_count": 2,
   "metadata": {
    "ExecuteTime": {
     "end_time": "2020-11-29T14:48:13.111802Z",
     "start_time": "2020-11-29T14:48:13.044508Z"
    }
   },
   "outputs": [
    {
     "data": {
      "text/html": [
       "<div>\n",
       "<style scoped>\n",
       "    .dataframe tbody tr th:only-of-type {\n",
       "        vertical-align: middle;\n",
       "    }\n",
       "\n",
       "    .dataframe tbody tr th {\n",
       "        vertical-align: top;\n",
       "    }\n",
       "\n",
       "    .dataframe thead th {\n",
       "        text-align: right;\n",
       "    }\n",
       "</style>\n",
       "<table border=\"1\" class=\"dataframe\">\n",
       "  <thead>\n",
       "    <tr style=\"text-align: right;\">\n",
       "      <th></th>\n",
       "      <th>ParticipantID</th>\n",
       "      <th>CompletionCode</th>\n",
       "      <th>ID</th>\n",
       "      <th>EndTime</th>\n",
       "      <th>StartTime</th>\n",
       "      <th>Status</th>\n",
       "      <th>DemographicsTime</th>\n",
       "      <th>Gender</th>\n",
       "      <th>GenderSpecify</th>\n",
       "      <th>AgeBins</th>\n",
       "      <th>...</th>\n",
       "      <th>juv_other_count</th>\n",
       "      <th>priors_count</th>\n",
       "      <th>felony</th>\n",
       "      <th>black</th>\n",
       "      <th>married</th>\n",
       "      <th>output</th>\n",
       "      <th>y</th>\n",
       "      <th>FcastTimer</th>\n",
       "      <th>MostImportantFeature</th>\n",
       "      <th>next</th>\n",
       "    </tr>\n",
       "  </thead>\n",
       "  <tbody>\n",
       "    <tr>\n",
       "      <th>0</th>\n",
       "      <td>test</td>\n",
       "      <td>yxI0jg</td>\n",
       "      <td>1</td>\n",
       "      <td>2020-11-19 23:43:51.969826</td>\n",
       "      <td>2020-11-19 23:32:59.155429</td>\n",
       "      <td>Completed</td>\n",
       "      <td>42.387854</td>\n",
       "      <td>Male</td>\n",
       "      <td>NaN</td>\n",
       "      <td>25-29</td>\n",
       "      <td>...</td>\n",
       "      <td>1.0</td>\n",
       "      <td>1.0</td>\n",
       "      <td>0.0</td>\n",
       "      <td>1.0</td>\n",
       "      <td>0.0</td>\n",
       "      <td>0.766923</td>\n",
       "      <td>1.0</td>\n",
       "      <td>29.173377</td>\n",
       "      <td>NaN</td>\n",
       "      <td>NaN</td>\n",
       "    </tr>\n",
       "    <tr>\n",
       "      <th>1</th>\n",
       "      <td>test</td>\n",
       "      <td>yxI0jg</td>\n",
       "      <td>1</td>\n",
       "      <td>2020-11-19 23:43:51.969826</td>\n",
       "      <td>2020-11-19 23:32:59.155429</td>\n",
       "      <td>Completed</td>\n",
       "      <td>42.387854</td>\n",
       "      <td>Male</td>\n",
       "      <td>NaN</td>\n",
       "      <td>25-29</td>\n",
       "      <td>...</td>\n",
       "      <td>0.0</td>\n",
       "      <td>0.0</td>\n",
       "      <td>0.0</td>\n",
       "      <td>0.0</td>\n",
       "      <td>0.0</td>\n",
       "      <td>0.088920</td>\n",
       "      <td>0.0</td>\n",
       "      <td>145.471718</td>\n",
       "      <td>NaN</td>\n",
       "      <td>NaN</td>\n",
       "    </tr>\n",
       "    <tr>\n",
       "      <th>2</th>\n",
       "      <td>test</td>\n",
       "      <td>yxI0jg</td>\n",
       "      <td>1</td>\n",
       "      <td>2020-11-19 23:43:51.969826</td>\n",
       "      <td>2020-11-19 23:32:59.155429</td>\n",
       "      <td>Completed</td>\n",
       "      <td>42.387854</td>\n",
       "      <td>Male</td>\n",
       "      <td>NaN</td>\n",
       "      <td>25-29</td>\n",
       "      <td>...</td>\n",
       "      <td>0.0</td>\n",
       "      <td>15.0</td>\n",
       "      <td>0.0</td>\n",
       "      <td>1.0</td>\n",
       "      <td>0.0</td>\n",
       "      <td>0.736685</td>\n",
       "      <td>1.0</td>\n",
       "      <td>8.672931</td>\n",
       "      <td>NaN</td>\n",
       "      <td>NaN</td>\n",
       "    </tr>\n",
       "    <tr>\n",
       "      <th>3</th>\n",
       "      <td>test</td>\n",
       "      <td>yxI0jg</td>\n",
       "      <td>1</td>\n",
       "      <td>2020-11-19 23:43:51.969826</td>\n",
       "      <td>2020-11-19 23:32:59.155429</td>\n",
       "      <td>Completed</td>\n",
       "      <td>42.387854</td>\n",
       "      <td>Male</td>\n",
       "      <td>NaN</td>\n",
       "      <td>25-29</td>\n",
       "      <td>...</td>\n",
       "      <td>0.0</td>\n",
       "      <td>1.0</td>\n",
       "      <td>1.0</td>\n",
       "      <td>1.0</td>\n",
       "      <td>0.0</td>\n",
       "      <td>0.443584</td>\n",
       "      <td>0.0</td>\n",
       "      <td>10.088882</td>\n",
       "      <td>NaN</td>\n",
       "      <td>NaN</td>\n",
       "    </tr>\n",
       "    <tr>\n",
       "      <th>4</th>\n",
       "      <td>test</td>\n",
       "      <td>yxI0jg</td>\n",
       "      <td>1</td>\n",
       "      <td>2020-11-19 23:43:51.969826</td>\n",
       "      <td>2020-11-19 23:32:59.155429</td>\n",
       "      <td>Completed</td>\n",
       "      <td>42.387854</td>\n",
       "      <td>Male</td>\n",
       "      <td>NaN</td>\n",
       "      <td>25-29</td>\n",
       "      <td>...</td>\n",
       "      <td>0.0</td>\n",
       "      <td>2.0</td>\n",
       "      <td>1.0</td>\n",
       "      <td>0.0</td>\n",
       "      <td>0.0</td>\n",
       "      <td>0.363658</td>\n",
       "      <td>0.0</td>\n",
       "      <td>17.196649</td>\n",
       "      <td>NaN</td>\n",
       "      <td>NaN</td>\n",
       "    </tr>\n",
       "  </tbody>\n",
       "</table>\n",
       "<p>5 rows × 49 columns</p>\n",
       "</div>"
      ],
      "text/plain": [
       "  ParticipantID CompletionCode  ID                     EndTime  \\\n",
       "0          test         yxI0jg   1  2020-11-19 23:43:51.969826   \n",
       "1          test         yxI0jg   1  2020-11-19 23:43:51.969826   \n",
       "2          test         yxI0jg   1  2020-11-19 23:43:51.969826   \n",
       "3          test         yxI0jg   1  2020-11-19 23:43:51.969826   \n",
       "4          test         yxI0jg   1  2020-11-19 23:43:51.969826   \n",
       "\n",
       "                    StartTime     Status  DemographicsTime Gender  \\\n",
       "0  2020-11-19 23:32:59.155429  Completed         42.387854   Male   \n",
       "1  2020-11-19 23:32:59.155429  Completed         42.387854   Male   \n",
       "2  2020-11-19 23:32:59.155429  Completed         42.387854   Male   \n",
       "3  2020-11-19 23:32:59.155429  Completed         42.387854   Male   \n",
       "4  2020-11-19 23:32:59.155429  Completed         42.387854   Male   \n",
       "\n",
       "   GenderSpecify AgeBins  ...  juv_other_count  priors_count  felony  black  \\\n",
       "0            NaN   25-29  ...              1.0           1.0     0.0    1.0   \n",
       "1            NaN   25-29  ...              0.0           0.0     0.0    0.0   \n",
       "2            NaN   25-29  ...              0.0          15.0     0.0    1.0   \n",
       "3            NaN   25-29  ...              0.0           1.0     1.0    1.0   \n",
       "4            NaN   25-29  ...              0.0           2.0     1.0    0.0   \n",
       "\n",
       "   married    output    y  FcastTimer  MostImportantFeature  next  \n",
       "0      0.0  0.766923  1.0   29.173377                   NaN   NaN  \n",
       "1      0.0  0.088920  0.0  145.471718                   NaN   NaN  \n",
       "2      0.0  0.736685  1.0    8.672931                   NaN   NaN  \n",
       "3      0.0  0.443584  0.0   10.088882                   NaN   NaN  \n",
       "4      0.0  0.363658  0.0   17.196649                   NaN   NaN  \n",
       "\n",
       "[5 rows x 49 columns]"
      ]
     },
     "execution_count": 2,
     "metadata": {},
     "output_type": "execute_result"
    }
   ],
   "source": [
    "df = pd.read_csv(INFILE)\n",
    "df.head()"
   ]
  },
  {
   "cell_type": "code",
   "execution_count": 3,
   "metadata": {
    "ExecuteTime": {
     "end_time": "2020-11-29T14:48:13.139303Z",
     "start_time": "2020-11-29T14:48:13.114405Z"
    }
   },
   "outputs": [
    {
     "name": "stdout",
     "output_type": "stream",
     "text": [
      "N total participants 105\n",
      "N passed comprehension check 84\n"
     ]
    },
    {
     "data": {
      "text/plain": [
       "(840, 50)"
      ]
     },
     "execution_count": 3,
     "metadata": {},
     "output_type": "execute_result"
    }
   ],
   "source": [
    "# select participants who passed comprehension checks\n",
    "df = df[(df.ParticipantID!='test')]\n",
    "print('N total participants', len(pd.unique(df.ParticipantID)))\n",
    "df = df[(df.FcastComprehension==1) & (df.BonusComprehension==1)]\n",
    "print('N passed comprehension check', len(pd.unique(df.ParticipantID)))\n",
    "# select 'actual' forecasts (as opposed to practice forecasts)\n",
    "df = df[df.Practice==0]\n",
    "# scale forecasts to be between 0 and 1 (as opposed to 0 and 100)\n",
    "df['Fcast'] = df['Fcast'] / 100.\n",
    "# compute DVs\n",
    "df['Score'] = (df.y - df.Fcast)**2 - (df.y - df.output)**2\n",
    "df.values.shape"
   ]
  },
  {
   "cell_type": "code",
   "execution_count": 4,
   "metadata": {
    "ExecuteTime": {
     "end_time": "2020-11-29T14:48:13.161702Z",
     "start_time": "2020-11-29T14:48:13.146462Z"
    }
   },
   "outputs": [
    {
     "data": {
      "text/plain": [
       "(822, 50)"
      ]
     },
     "execution_count": 4,
     "metadata": {},
     "output_type": "execute_result"
    }
   ],
   "source": [
    "# not pre-registered cell: added to remove empty values from Score column\n",
    "df = df.dropna(subset=['Score'])\n",
    "df.values.shape"
   ]
  },
  {
   "cell_type": "code",
   "execution_count": 5,
   "metadata": {
    "ExecuteTime": {
     "end_time": "2020-11-29T14:48:13.193341Z",
     "start_time": "2020-11-29T14:48:13.164556Z"
    }
   },
   "outputs": [
    {
     "data": {
      "text/html": [
       "<table class=\"simpletable\">\n",
       "<caption>OLS Regression Results</caption>\n",
       "<tr>\n",
       "  <th>Dep. Variable:</th>          <td>Score</td>      <th>  R-squared:         </th> <td>   0.000</td>\n",
       "</tr>\n",
       "<tr>\n",
       "  <th>Model:</th>                   <td>OLS</td>       <th>  Adj. R-squared:    </th> <td>   0.000</td>\n",
       "</tr>\n",
       "<tr>\n",
       "  <th>Method:</th>             <td>Least Squares</td>  <th>  F-statistic:       </th> <td>     nan</td>\n",
       "</tr>\n",
       "<tr>\n",
       "  <th>Date:</th>             <td>Sun, 29 Nov 2020</td> <th>  Prob (F-statistic):</th>  <td>   nan</td> \n",
       "</tr>\n",
       "<tr>\n",
       "  <th>Time:</th>                 <td>09:48:13</td>     <th>  Log-Likelihood:    </th> <td> -35.139</td>\n",
       "</tr>\n",
       "<tr>\n",
       "  <th>No. Observations:</th>      <td>   822</td>      <th>  AIC:               </th> <td>   72.28</td>\n",
       "</tr>\n",
       "<tr>\n",
       "  <th>Df Residuals:</th>          <td>   821</td>      <th>  BIC:               </th> <td>   76.99</td>\n",
       "</tr>\n",
       "<tr>\n",
       "  <th>Df Model:</th>              <td>     0</td>      <th>                     </th>     <td> </td>   \n",
       "</tr>\n",
       "<tr>\n",
       "  <th>Covariance Type:</th>       <td>cluster</td>     <th>                     </th>     <td> </td>   \n",
       "</tr>\n",
       "</table>\n",
       "<table class=\"simpletable\">\n",
       "<tr>\n",
       "    <td></td>       <th>coef</th>     <th>std err</th>      <th>t</th>      <th>P>|t|</th>  <th>[0.025</th>    <th>0.975]</th>  \n",
       "</tr>\n",
       "<tr>\n",
       "  <th>const</th> <td>    0.0621</td> <td>    0.009</td> <td>    7.294</td> <td> 0.000</td> <td>    0.045</td> <td>    0.079</td>\n",
       "</tr>\n",
       "</table>\n",
       "<table class=\"simpletable\">\n",
       "<tr>\n",
       "  <th>Omnibus:</th>       <td>35.678</td> <th>  Durbin-Watson:     </th> <td>   2.019</td>\n",
       "</tr>\n",
       "<tr>\n",
       "  <th>Prob(Omnibus):</th> <td> 0.000</td> <th>  Jarque-Bera (JB):  </th> <td>  42.977</td>\n",
       "</tr>\n",
       "<tr>\n",
       "  <th>Skew:</th>          <td> 0.450</td> <th>  Prob(JB):          </th> <td>4.65e-10</td>\n",
       "</tr>\n",
       "<tr>\n",
       "  <th>Kurtosis:</th>      <td> 3.668</td> <th>  Cond. No.          </th> <td>    1.00</td>\n",
       "</tr>\n",
       "</table><br/><br/>Notes:<br/>[1] Standard Errors are robust to cluster correlation (cluster)"
      ],
      "text/plain": [
       "<class 'statsmodels.iolib.summary.Summary'>\n",
       "\"\"\"\n",
       "                            OLS Regression Results                            \n",
       "==============================================================================\n",
       "Dep. Variable:                  Score   R-squared:                       0.000\n",
       "Model:                            OLS   Adj. R-squared:                  0.000\n",
       "Method:                 Least Squares   F-statistic:                       nan\n",
       "Date:                Sun, 29 Nov 2020   Prob (F-statistic):                nan\n",
       "Time:                        09:48:13   Log-Likelihood:                -35.139\n",
       "No. Observations:                 822   AIC:                             72.28\n",
       "Df Residuals:                     821   BIC:                             76.99\n",
       "Df Model:                           0                                         \n",
       "Covariance Type:              cluster                                         \n",
       "==============================================================================\n",
       "                 coef    std err          t      P>|t|      [0.025      0.975]\n",
       "------------------------------------------------------------------------------\n",
       "const          0.0621      0.009      7.294      0.000       0.045       0.079\n",
       "==============================================================================\n",
       "Omnibus:                       35.678   Durbin-Watson:                   2.019\n",
       "Prob(Omnibus):                  0.000   Jarque-Bera (JB):               42.977\n",
       "Skew:                           0.450   Prob(JB):                     4.65e-10\n",
       "Kurtosis:                       3.668   Cond. No.                         1.00\n",
       "==============================================================================\n",
       "\n",
       "Notes:\n",
       "[1] Standard Errors are robust to cluster correlation (cluster)\n",
       "\"\"\""
      ]
     },
     "execution_count": 5,
     "metadata": {},
     "output_type": "execute_result"
    }
   ],
   "source": [
    "# prediction performance hypothesis\n",
    "# positive coef on constant regressor indicates model outperformed human predictions\n",
    "reg = sm.OLS(df.Score, np.array([1]*len(df)))\n",
    "res = reg.fit().get_robustcov_results(cov_type='cluster', groups=df.ParticipantID)\n",
    "res.summary()"
   ]
  },
  {
   "cell_type": "code",
   "execution_count": 6,
   "metadata": {
    "ExecuteTime": {
     "end_time": "2020-11-29T14:48:13.231054Z",
     "start_time": "2020-11-29T14:48:13.197630Z"
    }
   },
   "outputs": [
    {
     "data": {
      "text/html": [
       "<table class=\"simpletable\">\n",
       "<caption>OLS Regression Results</caption>\n",
       "<tr>\n",
       "  <th>Dep. Variable:</th>            <td>y</td>        <th>  R-squared:         </th> <td>  -0.000</td>\n",
       "</tr>\n",
       "<tr>\n",
       "  <th>Model:</th>                   <td>OLS</td>       <th>  Adj. R-squared:    </th> <td>  -0.000</td>\n",
       "</tr>\n",
       "<tr>\n",
       "  <th>Method:</th>             <td>Least Squares</td>  <th>  F-statistic:       </th> <td>     nan</td>\n",
       "</tr>\n",
       "<tr>\n",
       "  <th>Date:</th>             <td>Sun, 29 Nov 2020</td> <th>  Prob (F-statistic):</th>  <td>   nan</td> \n",
       "</tr>\n",
       "<tr>\n",
       "  <th>Time:</th>                 <td>09:48:13</td>     <th>  Log-Likelihood:    </th> <td> -55.238</td>\n",
       "</tr>\n",
       "<tr>\n",
       "  <th>No. Observations:</th>      <td>   822</td>      <th>  AIC:               </th> <td>   112.5</td>\n",
       "</tr>\n",
       "<tr>\n",
       "  <th>Df Residuals:</th>          <td>   821</td>      <th>  BIC:               </th> <td>   117.2</td>\n",
       "</tr>\n",
       "<tr>\n",
       "  <th>Df Model:</th>              <td>     0</td>      <th>                     </th>     <td> </td>   \n",
       "</tr>\n",
       "<tr>\n",
       "  <th>Covariance Type:</th>       <td>cluster</td>     <th>                     </th>     <td> </td>   \n",
       "</tr>\n",
       "</table>\n",
       "<table class=\"simpletable\">\n",
       "<tr>\n",
       "    <td></td>       <th>coef</th>     <th>std err</th>      <th>t</th>      <th>P>|t|</th>  <th>[0.025</th>    <th>0.975]</th>  \n",
       "</tr>\n",
       "<tr>\n",
       "  <th>const</th> <td>    0.0266</td> <td>    0.009</td> <td>    2.867</td> <td> 0.005</td> <td>    0.008</td> <td>    0.045</td>\n",
       "</tr>\n",
       "</table>\n",
       "<table class=\"simpletable\">\n",
       "<tr>\n",
       "  <th>Omnibus:</th>       <td> 1.435</td> <th>  Durbin-Watson:     </th> <td>   1.986</td>\n",
       "</tr>\n",
       "<tr>\n",
       "  <th>Prob(Omnibus):</th> <td> 0.488</td> <th>  Jarque-Bera (JB):  </th> <td>   1.387</td>\n",
       "</tr>\n",
       "<tr>\n",
       "  <th>Skew:</th>          <td>-0.006</td> <th>  Prob(JB):          </th> <td>   0.500</td>\n",
       "</tr>\n",
       "<tr>\n",
       "  <th>Kurtosis:</th>      <td> 2.799</td> <th>  Cond. No.          </th> <td>    1.00</td>\n",
       "</tr>\n",
       "</table><br/><br/>Notes:<br/>[1] Standard Errors are robust to cluster correlation (cluster)"
      ],
      "text/plain": [
       "<class 'statsmodels.iolib.summary.Summary'>\n",
       "\"\"\"\n",
       "                            OLS Regression Results                            \n",
       "==============================================================================\n",
       "Dep. Variable:                      y   R-squared:                      -0.000\n",
       "Model:                            OLS   Adj. R-squared:                 -0.000\n",
       "Method:                 Least Squares   F-statistic:                       nan\n",
       "Date:                Sun, 29 Nov 2020   Prob (F-statistic):                nan\n",
       "Time:                        09:48:13   Log-Likelihood:                -55.238\n",
       "No. Observations:                 822   AIC:                             112.5\n",
       "Df Residuals:                     821   BIC:                             117.2\n",
       "Df Model:                           0                                         \n",
       "Covariance Type:              cluster                                         \n",
       "==============================================================================\n",
       "                 coef    std err          t      P>|t|      [0.025      0.975]\n",
       "------------------------------------------------------------------------------\n",
       "const          0.0266      0.009      2.867      0.005       0.008       0.045\n",
       "==============================================================================\n",
       "Omnibus:                        1.435   Durbin-Watson:                   1.986\n",
       "Prob(Omnibus):                  0.488   Jarque-Bera (JB):                1.387\n",
       "Skew:                          -0.006   Prob(JB):                        0.500\n",
       "Kurtosis:                       2.799   Cond. No.                         1.00\n",
       "==============================================================================\n",
       "\n",
       "Notes:\n",
       "[1] Standard Errors are robust to cluster correlation (cluster)\n",
       "\"\"\""
      ]
     },
     "execution_count": 6,
     "metadata": {},
     "output_type": "execute_result"
    }
   ],
   "source": [
    "abs_error = abs(df.y - df.Fcast) - abs(df.y - df.output)\n",
    "reg = sm.OLS(abs_error, np.array([1]*len(df)))\n",
    "res = reg.fit().get_robustcov_results(cov_type='cluster', groups=df.ParticipantID)\n",
    "res.summary()"
   ]
  },
  {
   "cell_type": "code",
   "execution_count": 7,
   "metadata": {
    "ExecuteTime": {
     "end_time": "2020-11-29T14:48:13.265467Z",
     "start_time": "2020-11-29T14:48:13.234096Z"
    }
   },
   "outputs": [
    {
     "data": {
      "text/html": [
       "<table class=\"simpletable\">\n",
       "<caption>OLS Regression Results</caption>\n",
       "<tr>\n",
       "  <th>Dep. Variable:</th>          <td>Score</td>      <th>  R-squared:         </th> <td>   0.014</td>\n",
       "</tr>\n",
       "<tr>\n",
       "  <th>Model:</th>                   <td>OLS</td>       <th>  Adj. R-squared:    </th> <td>   0.012</td>\n",
       "</tr>\n",
       "<tr>\n",
       "  <th>Method:</th>             <td>Least Squares</td>  <th>  F-statistic:       </th> <td>   6.041</td>\n",
       "</tr>\n",
       "<tr>\n",
       "  <th>Date:</th>             <td>Sun, 29 Nov 2020</td> <th>  Prob (F-statistic):</th>  <td>0.0161</td> \n",
       "</tr>\n",
       "<tr>\n",
       "  <th>Time:</th>                 <td>09:48:13</td>     <th>  Log-Likelihood:    </th> <td> -36.977</td>\n",
       "</tr>\n",
       "<tr>\n",
       "  <th>No. Observations:</th>      <td>   402</td>      <th>  AIC:               </th> <td>   77.95</td>\n",
       "</tr>\n",
       "<tr>\n",
       "  <th>Df Residuals:</th>          <td>   400</td>      <th>  BIC:               </th> <td>   85.95</td>\n",
       "</tr>\n",
       "<tr>\n",
       "  <th>Df Model:</th>              <td>     1</td>      <th>                     </th>     <td> </td>   \n",
       "</tr>\n",
       "<tr>\n",
       "  <th>Covariance Type:</th>       <td>cluster</td>     <th>                     </th>     <td> </td>   \n",
       "</tr>\n",
       "</table>\n",
       "<table class=\"simpletable\">\n",
       "<tr>\n",
       "    <td></td>       <th>coef</th>     <th>std err</th>      <th>t</th>      <th>P>|t|</th>  <th>[0.025</th>    <th>0.975]</th>  \n",
       "</tr>\n",
       "<tr>\n",
       "  <th>const</th> <td>    0.0502</td> <td>    0.023</td> <td>    2.173</td> <td> 0.033</td> <td>    0.004</td> <td>    0.096</td>\n",
       "</tr>\n",
       "<tr>\n",
       "  <th>black</th> <td>    0.0637</td> <td>    0.026</td> <td>    2.458</td> <td> 0.016</td> <td>    0.012</td> <td>    0.115</td>\n",
       "</tr>\n",
       "</table>\n",
       "<table class=\"simpletable\">\n",
       "<tr>\n",
       "  <th>Omnibus:</th>       <td>10.041</td> <th>  Durbin-Watson:     </th> <td>   1.725</td>\n",
       "</tr>\n",
       "<tr>\n",
       "  <th>Prob(Omnibus):</th> <td> 0.007</td> <th>  Jarque-Bera (JB):  </th> <td>  10.063</td>\n",
       "</tr>\n",
       "<tr>\n",
       "  <th>Skew:</th>          <td> 0.372</td> <th>  Prob(JB):          </th> <td> 0.00653</td>\n",
       "</tr>\n",
       "<tr>\n",
       "  <th>Kurtosis:</th>      <td> 3.217</td> <th>  Cond. No.          </th> <td>    2.59</td>\n",
       "</tr>\n",
       "</table><br/><br/>Notes:<br/>[1] Standard Errors are robust to cluster correlation (cluster)"
      ],
      "text/plain": [
       "<class 'statsmodels.iolib.summary.Summary'>\n",
       "\"\"\"\n",
       "                            OLS Regression Results                            \n",
       "==============================================================================\n",
       "Dep. Variable:                  Score   R-squared:                       0.014\n",
       "Model:                            OLS   Adj. R-squared:                  0.012\n",
       "Method:                 Least Squares   F-statistic:                     6.041\n",
       "Date:                Sun, 29 Nov 2020   Prob (F-statistic):             0.0161\n",
       "Time:                        09:48:13   Log-Likelihood:                -36.977\n",
       "No. Observations:                 402   AIC:                             77.95\n",
       "Df Residuals:                     400   BIC:                             85.95\n",
       "Df Model:                           1                                         \n",
       "Covariance Type:              cluster                                         \n",
       "==============================================================================\n",
       "                 coef    std err          t      P>|t|      [0.025      0.975]\n",
       "------------------------------------------------------------------------------\n",
       "const          0.0502      0.023      2.173      0.033       0.004       0.096\n",
       "black          0.0637      0.026      2.458      0.016       0.012       0.115\n",
       "==============================================================================\n",
       "Omnibus:                       10.041   Durbin-Watson:                   1.725\n",
       "Prob(Omnibus):                  0.007   Jarque-Bera (JB):               10.063\n",
       "Skew:                           0.372   Prob(JB):                      0.00653\n",
       "Kurtosis:                       3.217   Cond. No.                         2.59\n",
       "==============================================================================\n",
       "\n",
       "Notes:\n",
       "[1] Standard Errors are robust to cluster correlation (cluster)\n",
       "\"\"\""
      ]
     },
     "execution_count": 7,
     "metadata": {},
     "output_type": "execute_result"
    }
   ],
   "source": [
    "# fairness hypothesis\n",
    "# positive coef on black indicates that human predictions are less fair than model predictions\n",
    "no_recid_df = df[df.y == 0]\n",
    "X = sm.add_constant(no_recid_df.black)\n",
    "reg = sm.OLS(no_recid_df.Score, X)\n",
    "res = reg.fit().get_robustcov_results(cov_type='cluster', groups=no_recid_df.ParticipantID)\n",
    "res.summary()"
   ]
  },
  {
   "cell_type": "code",
   "execution_count": 8,
   "metadata": {
    "ExecuteTime": {
     "end_time": "2020-11-29T14:48:13.299343Z",
     "start_time": "2020-11-29T14:48:13.267728Z"
    }
   },
   "outputs": [
    {
     "data": {
      "text/html": [
       "<table class=\"simpletable\">\n",
       "<caption>OLS Regression Results</caption>\n",
       "<tr>\n",
       "  <th>Dep. Variable:</th>            <td>y</td>        <th>  R-squared:         </th> <td>   0.014</td>\n",
       "</tr>\n",
       "<tr>\n",
       "  <th>Model:</th>                   <td>OLS</td>       <th>  Adj. R-squared:    </th> <td>   0.012</td>\n",
       "</tr>\n",
       "<tr>\n",
       "  <th>Method:</th>             <td>Least Squares</td>  <th>  F-statistic:       </th> <td>   6.552</td>\n",
       "</tr>\n",
       "<tr>\n",
       "  <th>Date:</th>             <td>Sun, 29 Nov 2020</td> <th>  Prob (F-statistic):</th>  <td>0.0123</td> \n",
       "</tr>\n",
       "<tr>\n",
       "  <th>Time:</th>                 <td>09:48:13</td>     <th>  Log-Likelihood:    </th> <td> -37.484</td>\n",
       "</tr>\n",
       "<tr>\n",
       "  <th>No. Observations:</th>      <td>   402</td>      <th>  AIC:               </th> <td>   78.97</td>\n",
       "</tr>\n",
       "<tr>\n",
       "  <th>Df Residuals:</th>          <td>   400</td>      <th>  BIC:               </th> <td>   86.96</td>\n",
       "</tr>\n",
       "<tr>\n",
       "  <th>Df Model:</th>              <td>     1</td>      <th>                     </th>     <td> </td>   \n",
       "</tr>\n",
       "<tr>\n",
       "  <th>Covariance Type:</th>       <td>cluster</td>     <th>                     </th>     <td> </td>   \n",
       "</tr>\n",
       "</table>\n",
       "<table class=\"simpletable\">\n",
       "<tr>\n",
       "    <td></td>       <th>coef</th>     <th>std err</th>      <th>t</th>      <th>P>|t|</th>  <th>[0.025</th>    <th>0.975]</th>  \n",
       "</tr>\n",
       "<tr>\n",
       "  <th>const</th> <td>    0.0104</td> <td>    0.023</td> <td>    0.452</td> <td> 0.653</td> <td>   -0.035</td> <td>    0.056</td>\n",
       "</tr>\n",
       "<tr>\n",
       "  <th>black</th> <td>    0.0644</td> <td>    0.025</td> <td>    2.560</td> <td> 0.012</td> <td>    0.014</td> <td>    0.114</td>\n",
       "</tr>\n",
       "</table>\n",
       "<table class=\"simpletable\">\n",
       "<tr>\n",
       "  <th>Omnibus:</th>       <td> 0.717</td> <th>  Durbin-Watson:     </th> <td>   1.721</td>\n",
       "</tr>\n",
       "<tr>\n",
       "  <th>Prob(Omnibus):</th> <td> 0.699</td> <th>  Jarque-Bera (JB):  </th> <td>   0.810</td>\n",
       "</tr>\n",
       "<tr>\n",
       "  <th>Skew:</th>          <td>-0.036</td> <th>  Prob(JB):          </th> <td>   0.667</td>\n",
       "</tr>\n",
       "<tr>\n",
       "  <th>Kurtosis:</th>      <td> 2.792</td> <th>  Cond. No.          </th> <td>    2.59</td>\n",
       "</tr>\n",
       "</table><br/><br/>Notes:<br/>[1] Standard Errors are robust to cluster correlation (cluster)"
      ],
      "text/plain": [
       "<class 'statsmodels.iolib.summary.Summary'>\n",
       "\"\"\"\n",
       "                            OLS Regression Results                            \n",
       "==============================================================================\n",
       "Dep. Variable:                      y   R-squared:                       0.014\n",
       "Model:                            OLS   Adj. R-squared:                  0.012\n",
       "Method:                 Least Squares   F-statistic:                     6.552\n",
       "Date:                Sun, 29 Nov 2020   Prob (F-statistic):             0.0123\n",
       "Time:                        09:48:13   Log-Likelihood:                -37.484\n",
       "No. Observations:                 402   AIC:                             78.97\n",
       "Df Residuals:                     400   BIC:                             86.96\n",
       "Df Model:                           1                                         \n",
       "Covariance Type:              cluster                                         \n",
       "==============================================================================\n",
       "                 coef    std err          t      P>|t|      [0.025      0.975]\n",
       "------------------------------------------------------------------------------\n",
       "const          0.0104      0.023      0.452      0.653      -0.035       0.056\n",
       "black          0.0644      0.025      2.560      0.012       0.014       0.114\n",
       "==============================================================================\n",
       "Omnibus:                        0.717   Durbin-Watson:                   1.721\n",
       "Prob(Omnibus):                  0.699   Jarque-Bera (JB):                0.810\n",
       "Skew:                          -0.036   Prob(JB):                        0.667\n",
       "Kurtosis:                       2.792   Cond. No.                         2.59\n",
       "==============================================================================\n",
       "\n",
       "Notes:\n",
       "[1] Standard Errors are robust to cluster correlation (cluster)\n",
       "\"\"\""
      ]
     },
     "execution_count": 8,
     "metadata": {},
     "output_type": "execute_result"
    }
   ],
   "source": [
    "reg = sm.OLS(no_recid_df.Fcast - no_recid_df.output, X)\n",
    "res = reg.fit().get_robustcov_results(cov_type='cluster', groups=no_recid_df.ParticipantID)\n",
    "res.summary()"
   ]
  },
  {
   "cell_type": "code",
   "execution_count": 9,
   "metadata": {
    "ExecuteTime": {
     "end_time": "2020-11-29T14:48:13.319033Z",
     "start_time": "2020-11-29T14:48:13.301299Z"
    }
   },
   "outputs": [
    {
     "data": {
      "text/plain": [
       "black  y  \n",
       "0.0    0.0    0.417330\n",
       "       1.0    0.512051\n",
       "1.0    0.0    0.523316\n",
       "       1.0    0.650152\n",
       "Name: Fcast, dtype: float64"
      ]
     },
     "execution_count": 9,
     "metadata": {},
     "output_type": "execute_result"
    }
   ],
   "source": [
    "df.groupby(['black', 'y']).Fcast.mean()"
   ]
  },
  {
   "cell_type": "code",
   "execution_count": 10,
   "metadata": {
    "ExecuteTime": {
     "end_time": "2020-11-29T14:48:13.341716Z",
     "start_time": "2020-11-29T14:48:13.322860Z"
    }
   },
   "outputs": [
    {
     "data": {
      "text/plain": [
       "black  y  \n",
       "0.0    0.0    0.406958\n",
       "       1.0    0.576843\n",
       "1.0    0.0    0.448523\n",
       "       1.0    0.631128\n",
       "Name: output, dtype: float64"
      ]
     },
     "execution_count": 10,
     "metadata": {},
     "output_type": "execute_result"
    }
   ],
   "source": [
    "df.groupby(['black', 'y']).output.mean()"
   ]
  },
  {
   "cell_type": "code",
   "execution_count": 11,
   "metadata": {
    "ExecuteTime": {
     "end_time": "2020-11-29T14:48:13.588973Z",
     "start_time": "2020-11-29T14:48:13.344499Z"
    }
   },
   "outputs": [
    {
     "data": {
      "text/plain": [
       "count    1245.000000\n",
       "mean       14.062996\n",
       "std         1.153723\n",
       "min        10.530395\n",
       "25%        13.297698\n",
       "50%        14.211715\n",
       "75%        14.900474\n",
       "max        16.487877\n",
       "Name: Score, dtype: float64"
      ]
     },
     "execution_count": 11,
     "metadata": {},
     "output_type": "execute_result"
    }
   ],
   "source": [
    "import matplotlib.pyplot as plt\n",
    "\n",
    "bonus = df.groupby('ID').Score.mean()\n",
    "15*(1-bonus).describe()"
   ]
  },
  {
   "cell_type": "code",
   "execution_count": 16,
   "metadata": {
    "ExecuteTime": {
     "end_time": "2020-11-29T14:50:11.976857Z",
     "start_time": "2020-11-29T14:50:11.966972Z"
    }
   },
   "outputs": [
    {
     "data": {
      "text/plain": [
       "Ttest_indResult(statistic=5.455431677117664, pvalue=5.751635997897882e-08)"
      ]
     },
     "execution_count": 16,
     "metadata": {},
     "output_type": "execute_result"
    }
   ],
   "source": [
    "from scipy.stats import ttest_ind\n",
    "\n",
    "ttest_ind((df.y-df.Fcast)**2, (df.y-df.output)**2, equal_var=False)"
   ]
  }
 ],
 "metadata": {
  "kernelspec": {
   "display_name": "algorithm-fairness",
   "language": "python",
   "name": "algorithm-fairness"
  },
  "language_info": {
   "codemirror_mode": {
    "name": "ipython",
    "version": 3
   },
   "file_extension": ".py",
   "mimetype": "text/x-python",
   "name": "python",
   "nbconvert_exporter": "python",
   "pygments_lexer": "ipython3",
   "version": "3.6.8"
  },
  "toc": {
   "base_numbering": 1,
   "nav_menu": {},
   "number_sections": true,
   "sideBar": true,
   "skip_h1_title": false,
   "title_cell": "Table of Contents",
   "title_sidebar": "Contents",
   "toc_cell": false,
   "toc_position": {},
   "toc_section_display": true,
   "toc_window_display": false
  },
  "varInspector": {
   "cols": {
    "lenName": 16,
    "lenType": 16,
    "lenVar": 40
   },
   "kernels_config": {
    "python": {
     "delete_cmd_postfix": "",
     "delete_cmd_prefix": "del ",
     "library": "var_list.py",
     "varRefreshCmd": "print(var_dic_list())"
    },
    "r": {
     "delete_cmd_postfix": ") ",
     "delete_cmd_prefix": "rm(",
     "library": "var_list.r",
     "varRefreshCmd": "cat(var_dic_list()) "
    }
   },
   "types_to_exclude": [
    "module",
    "function",
    "builtin_function_or_method",
    "instance",
    "_Feature"
   ],
   "window_display": false
  }
 },
 "nbformat": 4,
 "nbformat_minor": 4
}
