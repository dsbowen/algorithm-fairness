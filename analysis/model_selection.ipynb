{
 "cells": [
  {
   "cell_type": "code",
   "execution_count": 1,
   "metadata": {
    "ExecuteTime": {
     "end_time": "2020-11-14T02:14:06.691281Z",
     "start_time": "2020-11-14T02:14:05.296445Z"
    }
   },
   "outputs": [
    {
     "name": "stderr",
     "output_type": "stream",
     "text": [
      "/home/dsbowen/algorithm-fairness/venv/lib/python3.6/site-packages/tpot/builtins/__init__.py:36: UserWarning: Warning: optional dependency `torch` is not available. - skipping import of NN models.\n",
      "  warnings.warn(\"Warning: optional dependency `torch` is not available. - skipping import of NN models.\")\n"
     ]
    }
   ],
   "source": [
    "import gshap\n",
    "import numpy as np\n",
    "import pandas as pd\n",
    "import seaborn as sns\n",
    "from gshap.datasets import load_recidivism\n",
    "from gshap.intergroup import IntergroupDifference\n",
    "from scipy.stats import ttest_ind\n",
    "from sklearn import metrics\n",
    "from sklearn.metrics import accuracy_score, confusion_matrix\n",
    "from sklearn.model_selection import train_test_split\n",
    "from sklearn.svm import SVC\n",
    "from tpot import TPOTClassifier\n",
    "\n",
    "import pickle\n",
    "import random\n",
    "\n",
    "random.seed(0)\n",
    "np.random.seed(0)"
   ]
  },
  {
   "cell_type": "code",
   "execution_count": 2,
   "metadata": {
    "ExecuteTime": {
     "end_time": "2020-11-14T02:14:06.783792Z",
     "start_time": "2020-11-14T02:14:06.694368Z"
    }
   },
   "outputs": [],
   "source": [
    "recidivism = load_recidivism()\n",
    "X, y = recidivism.data, recidivism.target\n",
    "X = X.drop(columns='high_supervision')\n",
    "X_train, X_test, y_train, y_test = train_test_split(X, y)\n",
    "y_train_black = y_train[X_train['black']==1]\n",
    "y_train_white = y_train[X_train['black']==0]\n",
    "y_test_black = y_test[X_test['black']==1]\n",
    "y_test_white = y_test[X_test['black']==0]"
   ]
  },
  {
   "cell_type": "code",
   "execution_count": 3,
   "metadata": {
    "ExecuteTime": {
     "end_time": "2020-11-14T02:14:06.789925Z",
     "start_time": "2020-11-14T02:14:06.786170Z"
    },
    "scrolled": true
   },
   "outputs": [],
   "source": [
    "# run this cell to fit the TPOT classifier\n",
    "# it will take several hours\n",
    "\n",
    "# optim = TPOTClassifier(verbosity=2)\n",
    "# optim.fit(X_train, y_train)\n",
    "# optim.export('pipeline.py')"
   ]
  },
  {
   "cell_type": "code",
   "execution_count": 4,
   "metadata": {
    "ExecuteTime": {
     "end_time": "2020-11-14T02:14:08.164528Z",
     "start_time": "2020-11-14T02:14:06.792505Z"
    }
   },
   "outputs": [],
   "source": [
    "# this is the pipeline recommended by TPOT\n",
    "\n",
    "from sklearn.ensemble import RandomForestClassifier\n",
    "from sklearn.naive_bayes import MultinomialNB\n",
    "from sklearn.pipeline import make_pipeline, make_union\n",
    "from tpot.builtins import StackingEstimator\n",
    "\n",
    "clf = make_pipeline(\n",
    "    StackingEstimator(estimator=MultinomialNB(alpha=10.0, fit_prior=True)),\n",
    "    StackingEstimator(estimator=MultinomialNB(alpha=0.001, fit_prior=True)),\n",
    "    RandomForestClassifier(bootstrap=True, criterion=\"entropy\", max_features=0.9500000000000001, min_samples_leaf=17, min_samples_split=11, n_estimators=100)\n",
    ")\n",
    "clf.fit(X_train, y_train)\n",
    "# save model\n",
    "with open('../survey/clf.p', 'wb') as f:\n",
    "    pickle.dump(clf, f)"
   ]
  },
  {
   "cell_type": "code",
   "execution_count": 5,
   "metadata": {
    "ExecuteTime": {
     "end_time": "2020-11-14T02:14:08.226428Z",
     "start_time": "2020-11-14T02:14:08.166304Z"
    }
   },
   "outputs": [],
   "source": [
    "# save summary dataframe\n",
    "df = X_train.copy()\n",
    "df['two_year_recid'] = y_train\n",
    "df['juv_offenses'] = df[['juv_fel_count', 'juv_misd_count', 'juv_other_count']].sum(axis=1)\n",
    "df.describe().to_csv('../survey/summary.csv')"
   ]
  },
  {
   "cell_type": "code",
   "execution_count": 6,
   "metadata": {
    "ExecuteTime": {
     "end_time": "2020-11-14T02:14:08.236834Z",
     "start_time": "2020-11-14T02:14:08.229945Z"
    }
   },
   "outputs": [],
   "source": [
    "class Model():\n",
    "    def __init__(self, clf, X, exp=1):\n",
    "        self.clf = clf\n",
    "        self.black_idx = list(X.columns).index('black')\n",
    "        self.exp = exp\n",
    "\n",
    "    def predict_proba(self, X):\n",
    "        X = X.values if isinstance(X, pd.DataFrame) else X\n",
    "        black = X[:, self.black_idx]\n",
    "        output = self.clf.predict_proba(X)[:,1]\n",
    "        return (\n",
    "            (1-black)*(2*output-output**self.exp) \n",
    "            + black*output**self.exp\n",
    "        )\n",
    "\n",
    "#     def predict_proba(self, X):\n",
    "#         X = X.values if isinstance(X, pd.DataFrame) else X\n",
    "#         black = X[:, self.black_idx]\n",
    "#         output = self.clf.predict_proba(X)[:,1]\n",
    "#         return (\n",
    "#             black*(\n",
    "#                (output < .5+self.t)*output*.5/(.5+self.t)\n",
    "#                + (output >= .5+self.t)*(1-(1-output)*.5/(.5-self.t)) \n",
    "#             )\n",
    "#             + (1-black)*(\n",
    "#                 (output < .5-self.t)*output*.5/(.5-self.t)\n",
    "#                 + (output >= .5-self.t)*(1-(1-output)*.5/(.5+self.t))\n",
    "#             )\n",
    "#         )\n",
    "\n",
    "    def predict(self, X):\n",
    "        return self.predict_proba(X) > .5"
   ]
  },
  {
   "cell_type": "code",
   "execution_count": 7,
   "metadata": {
    "ExecuteTime": {
     "end_time": "2020-11-14T02:14:08.354024Z",
     "start_time": "2020-11-14T02:14:08.243842Z"
    }
   },
   "outputs": [
    {
     "name": "stdout",
     "output_type": "stream",
     "text": [
      "Overall accuracy: 0.7219\n",
      "Accuracy for Blacks: 0.7271\n",
      "Accuracy for Whites: 0.7154\n",
      "AUC: 0.8075\n",
      "\n",
      "Confusion matrix for Blacks\n",
      "[[0.63022222 0.36977778]\n",
      " [0.20169713 0.79830287]]\n",
      "\n",
      "Confusion matrix for Whites\n",
      "[[0.78249788 0.21750212]\n",
      " [0.3648374  0.6351626 ]]\n",
      "\n",
      "Risk for Whites who did not recidivate: 0.3591\n",
      "Risk for Blacks who did not recidivate: 0.4428\n",
      "Difference in false positive predictions: 0.2330\n",
      "p=0.0000\n"
     ]
    }
   ],
   "source": [
    "class Metrics():\n",
    "    def __init__(self, clf, X, y):\n",
    "        self.clf, self.X, self.y = clf, X, y\n",
    "        self.white = X['black']==0\n",
    "        self.black = X['black']==1\n",
    "        self.y_white = y[self.white]\n",
    "        self.y_black = y[self.black]\n",
    "        self.compute_output()\n",
    "        \n",
    "    def compute_output(self):\n",
    "        self.output = self.clf.predict_proba(self.X)\n",
    "        self.y_pred = self.output > .5\n",
    "        self.output_white = self.output[self.white]\n",
    "        self.y_pred_white = self.y_pred[self.white]\n",
    "        self.output_black = self.output[self.black]\n",
    "        self.y_pred_black = self.y_pred[self.black]\n",
    "        self.y_fp_white = self.y_pred_white[self.y_white==0]\n",
    "        self.output_fp_white = self.output_white[self.y_white==0]\n",
    "        self.y_fp_black = self.y_pred_black[self.y_black==0]\n",
    "        self.output_fp_black = self.output_black[self.y_black==0]\n",
    "        \n",
    "    def report(self):\n",
    "        y, y_pred = self.y, self.y_pred\n",
    "        y_black, y_pred_black = self.y_black, self.y_pred_black\n",
    "        y_white, y_pred_white = self.y_white, self.y_pred_white\n",
    "        print('Overall accuracy: %.4f' % accuracy_score(y, y_pred))\n",
    "        print('Accuracy for Blacks: %.4f' % accuracy_score(y_black, y_pred_black))\n",
    "        print('Accuracy for Whites: %.4f' % accuracy_score(y_white, y_pred_white))\n",
    "        fpr, tpr, thresholds = metrics.roc_curve(y, self.output)\n",
    "        print('AUC: %.4f' % metrics.auc(fpr, tpr))\n",
    "        print('\\nConfusion matrix for Blacks')\n",
    "        print(confusion_matrix(y_black, y_pred_black, normalize='true'))\n",
    "        print('\\nConfusion matrix for Whites')\n",
    "        print(confusion_matrix(y_white, y_pred_white, normalize='true'))\n",
    "#         fp_diff_ = fp_diff(y_pred_white, y_pred_black, y_white, y_black)\n",
    "        print('\\nRisk for Whites who did not recidivate: %.4f' % self.output_fp_white.mean())\n",
    "        print('Risk for Blacks who did not recidivate: %.4f' % self.output_fp_black.mean())\n",
    "        fp_diff_ = fp_diff(self.output_white, self.output_black, y_white, y_black)\n",
    "        print('Difference in false positive predictions: %.4f' % fp_diff_)\n",
    "        print('p=%.4f' % ttest_ind(self.output_fp_white, self.output_fp_black, equal_var=False)[1])\n",
    "        \n",
    "\n",
    "def fp_diff(y_pred_white, y_pred_black, y_white=y_test_white, y_black=y_test_black):\n",
    "    fp_black = confusion_matrix(y_black, y_pred_black, normalize='true')[0,1]\n",
    "    fp_white = confusion_matrix(y_white, y_pred_white, normalize='true')[0,1]\n",
    "    return fp_black / fp_white - 1\n",
    "\n",
    "def fp_diff(output_white, output_black, y_white=y_train_white, y_black=y_train_black):\n",
    "    output_white = output_white[y_white==0]\n",
    "    output_black = output_black[y_black==0]\n",
    "    return output_black.mean() / output_white.mean() - 1\n",
    "\n",
    "model = Model(clf, X)\n",
    "Metrics(model, X_train, y_train).report()"
   ]
  },
  {
   "cell_type": "code",
   "execution_count": 8,
   "metadata": {
    "ExecuteTime": {
     "end_time": "2020-11-14T02:14:45.156657Z",
     "start_time": "2020-11-14T02:14:08.356553Z"
    }
   },
   "outputs": [
    {
     "name": "stdout",
     "output_type": "stream",
     "text": [
      "[0.00098634 0.06185528 0.00324327 0.00494016 0.00049028 0.10015736\n",
      " 0.01339489 0.04964898 0.00801046] 0.24272701144780573\n"
     ]
    },
    {
     "data": {
      "image/png": "[encoded data removed]",
      "text/plain": [
       "<Figure size 432x288 with 1 Axes>"
      ]
     },
     "metadata": {
      "needs_background": "light"
     },
     "output_type": "display_data"
    }
   ],
   "source": [
    "g = IntergroupDifference(group=X_train['black'], distance=fp_diff)\n",
    "explainer = gshap.KernelExplainer(model.predict_proba, X_train, g)\n",
    "gshap_values = explainer.gshap_values(X_train, nsamples=32)\n",
    "df = pd.DataFrame({'Variables': X.columns, 'Importance': 100*gshap_values})\n",
    "df = df.sort_values('Importance', ascending=False)\n",
    "fig = sns.barplot(y='Variables', x='Importance', data=df)\n",
    "fig.figure.savefig('figures/original_model_gshap.png', bbox_inches = \"tight\")\n",
    "print(gshap_values, gshap_values.sum())"
   ]
  },
  {
   "cell_type": "code",
   "execution_count": 9,
   "metadata": {
    "ExecuteTime": {
     "end_time": "2020-11-14T02:14:46.008415Z",
     "start_time": "2020-11-14T02:14:45.158586Z"
    }
   },
   "outputs": [
    {
     "name": "stdout",
     "output_type": "stream",
     "text": [
      "\n",
      "Model exponent: 1.01\n",
      "Difference in risk scores: 0.2130\n",
      "\n",
      "Model exponent: 1.02\n",
      "Difference in risk scores: 0.1936\n",
      "\n",
      "Model exponent: 1.03\n",
      "Difference in risk scores: 0.1747\n",
      "\n",
      "Model exponent: 1.04\n",
      "Difference in risk scores: 0.1564\n",
      "\n",
      "Model exponent: 1.05\n",
      "Difference in risk scores: 0.1385\n",
      "\n",
      "Model exponent: 1.06\n",
      "Difference in risk scores: 0.1211\n",
      "\n",
      "Model exponent: 1.07\n",
      "Difference in risk scores: 0.1041\n",
      "\n",
      "Model exponent: 1.08\n",
      "Difference in risk scores: 0.0876\n",
      "\n",
      "Model exponent: 1.09\n",
      "Difference in risk scores: 0.0715\n",
      "\n",
      "Model exponent: 1.10\n",
      "Difference in risk scores: 0.0559\n",
      "\n",
      "Model exponent: 1.11\n",
      "Difference in risk scores: 0.0406\n",
      "\n",
      "Model exponent: 1.12\n",
      "Difference in risk scores: 0.0257\n",
      "\n",
      "Model exponent: 1.13\n",
      "Difference in risk scores: 0.0111\n",
      "\n",
      "Model exponent: 1.14\n",
      "Difference in risk scores: -0.0031\n",
      "\n",
      "Final exponent: 1.14\n",
      "Overall accuracy: 0.7227\n",
      "Accuracy for Blacks: 0.7268\n",
      "Accuracy for Whites: 0.7177\n",
      "AUC: 0.8044\n",
      "\n",
      "Confusion matrix for Blacks\n",
      "[[0.65155556 0.34844444]\n",
      " [0.21801567 0.78198433]]\n",
      "\n",
      "Confusion matrix for Whites\n",
      "[[0.73491929 0.26508071]\n",
      " [0.30284553 0.69715447]]\n",
      "\n",
      "Risk for Whites who did not recidivate: 0.4017\n",
      "Risk for Blacks who did not recidivate: 0.4005\n",
      "Difference in false positive predictions: -0.0031\n",
      "p=0.8671\n"
     ]
    }
   ],
   "source": [
    "fp_diff_ = np.inf\n",
    "while fp_diff_ > 0:\n",
    "    prev_fp_diff_ = fp_diff_\n",
    "    model.exp += .01\n",
    "    print('\\nModel exponent: %.2f' % model.exp)\n",
    "    output = model.predict_proba(X_train)\n",
    "    output_white = output[X_train.black == 0]\n",
    "    output_black = output[X_train.black == 1]\n",
    "    fp_diff_ = fp_diff(output_white, output_black, y_train_white, y_train_black)\n",
    "    print('Difference in risk scores: %.4f' % fp_diff_)\n",
    "    \n",
    "if abs(fp_diff_) > abs(prev_fp_diff_):\n",
    "    model.t -= .01\n",
    "   \n",
    "print('\\nFinal exponent: %.2f' % model.exp)\n",
    "Metrics(model, X_train, y_train).report()"
   ]
  },
  {
   "cell_type": "code",
   "execution_count": 10,
   "metadata": {
    "ExecuteTime": {
     "end_time": "2020-11-14T02:15:21.898478Z",
     "start_time": "2020-11-14T02:14:46.010225Z"
    }
   },
   "outputs": [
    {
     "name": "stdout",
     "output_type": "stream",
     "text": [
      "[-0.00051652  0.03376798  0.00350941  0.00483793 -0.0022564   0.06619675\n",
      "  0.00855001 -0.13534027  0.00724317] -0.014007947028183969\n"
     ]
    },
    {
     "data": {
      "image/png": "[encoded data removed]",
      "text/plain": [
       "<Figure size 432x288 with 1 Axes>"
      ]
     },
     "metadata": {
      "needs_background": "light"
     },
     "output_type": "display_data"
    }
   ],
   "source": [
    "g = IntergroupDifference(group=X_train['black'], distance=fp_diff)\n",
    "explainer = gshap.KernelExplainer(model.predict_proba, X_train, g)\n",
    "gshap_values = explainer.gshap_values(X_train, nsamples=32)\n",
    "df = pd.DataFrame({'Variables': X.columns, 'Importance': 100*gshap_values})\n",
    "df = df.sort_values('Importance', ascending=False)\n",
    "fig = sns.barplot(y='Variables', x='Importance', data=df)\n",
    "fig.figure.savefig('figures/adjusted_model_gshap.png', bbox_inches = \"tight\")\n",
    "print(gshap_values, gshap_values.sum())"
   ]
  },
  {
   "cell_type": "code",
   "execution_count": 11,
   "metadata": {
    "ExecuteTime": {
     "end_time": "2020-11-14T02:15:21.952197Z",
     "start_time": "2020-11-14T02:15:21.900919Z"
    }
   },
   "outputs": [
    {
     "name": "stdout",
     "output_type": "stream",
     "text": [
      "Overall accuracy: 0.6731\n",
      "Accuracy for Blacks: 0.6872\n",
      "Accuracy for Whites: 0.6547\n",
      "AUC: 0.7314\n",
      "\n",
      "Confusion matrix for Blacks\n",
      "[[0.58673469 0.41326531]\n",
      " [0.23643411 0.76356589]]\n",
      "\n",
      "Confusion matrix for Whites\n",
      "[[0.67546174 0.32453826]\n",
      " [0.36990596 0.63009404]]\n",
      "\n",
      "Risk for Whites who did not recidivate: 0.4253\n",
      "Risk for Blacks who did not recidivate: 0.4351\n",
      "Difference in false positive predictions: 0.0231\n",
      "p=0.4847\n"
     ]
    }
   ],
   "source": [
    "def fp_diff(output_white, output_black, y_white=y_test_white, y_black=y_test_black):\n",
    "    output_white = output_white[y_white==0]\n",
    "    output_black = output_black[y_black==0]\n",
    "    return output_black.mean() / output_white.mean() - 1\n",
    "\n",
    "Metrics(model, X_test, y_test).report()"
   ]
  },
  {
   "cell_type": "code",
   "execution_count": 12,
   "metadata": {
    "ExecuteTime": {
     "end_time": "2020-11-14T02:15:21.997645Z",
     "start_time": "2020-11-14T02:15:21.954856Z"
    }
   },
   "outputs": [
    {
     "name": "stdout",
     "output_type": "stream",
     "text": [
      "Overall accuracy: 0.6681\n",
      "Accuracy for Blacks: 0.6806\n",
      "Accuracy for Whites: 0.6519\n",
      "AUC: 0.7349\n",
      "\n",
      "Confusion matrix for Blacks\n",
      "[[0.55357143 0.44642857]\n",
      " [0.22286822 0.77713178]]\n",
      "\n",
      "Confusion matrix for Whites\n",
      "[[0.71503958 0.28496042]\n",
      " [0.42319749 0.57680251]]\n",
      "\n",
      "Risk for Whites who did not recidivate: 0.3837\n",
      "Risk for Blacks who did not recidivate: 0.4762\n",
      "Difference in false positive predictions: 0.2412\n",
      "p=0.0000\n"
     ]
    }
   ],
   "source": [
    "model = Model(clf, X)\n",
    "Metrics(model, X_test, y_test).report()"
   ]
  },
  {
   "cell_type": "code",
   "execution_count": 13,
   "metadata": {
    "ExecuteTime": {
     "end_time": "2020-11-14T02:15:22.012420Z",
     "start_time": "2020-11-14T02:15:21.999688Z"
    }
   },
   "outputs": [
    {
     "data": {
      "text/html": [
       "<div>\n",
       "<style scoped>\n",
       "    .dataframe tbody tr th:only-of-type {\n",
       "        vertical-align: middle;\n",
       "    }\n",
       "\n",
       "    .dataframe tbody tr th {\n",
       "        vertical-align: top;\n",
       "    }\n",
       "\n",
       "    .dataframe thead th {\n",
       "        text-align: right;\n",
       "    }\n",
       "</style>\n",
       "<table border=\"1\" class=\"dataframe\">\n",
       "  <thead>\n",
       "    <tr style=\"text-align: right;\">\n",
       "      <th></th>\n",
       "      <th>male</th>\n",
       "      <th>age</th>\n",
       "      <th>juv_fel_count</th>\n",
       "      <th>juv_misd_count</th>\n",
       "      <th>juv_other_count</th>\n",
       "      <th>priors_count</th>\n",
       "      <th>felony</th>\n",
       "      <th>black</th>\n",
       "      <th>married</th>\n",
       "    </tr>\n",
       "  </thead>\n",
       "  <tbody>\n",
       "    <tr>\n",
       "      <th>1916</th>\n",
       "      <td>0</td>\n",
       "      <td>35</td>\n",
       "      <td>0</td>\n",
       "      <td>0</td>\n",
       "      <td>0</td>\n",
       "      <td>2</td>\n",
       "      <td>1</td>\n",
       "      <td>1</td>\n",
       "      <td>0</td>\n",
       "    </tr>\n",
       "    <tr>\n",
       "      <th>1096</th>\n",
       "      <td>1</td>\n",
       "      <td>24</td>\n",
       "      <td>0</td>\n",
       "      <td>0</td>\n",
       "      <td>0</td>\n",
       "      <td>1</td>\n",
       "      <td>1</td>\n",
       "      <td>0</td>\n",
       "      <td>0</td>\n",
       "    </tr>\n",
       "    <tr>\n",
       "      <th>2894</th>\n",
       "      <td>1</td>\n",
       "      <td>26</td>\n",
       "      <td>0</td>\n",
       "      <td>1</td>\n",
       "      <td>3</td>\n",
       "      <td>14</td>\n",
       "      <td>1</td>\n",
       "      <td>1</td>\n",
       "      <td>0</td>\n",
       "    </tr>\n",
       "    <tr>\n",
       "      <th>733</th>\n",
       "      <td>1</td>\n",
       "      <td>30</td>\n",
       "      <td>0</td>\n",
       "      <td>0</td>\n",
       "      <td>0</td>\n",
       "      <td>1</td>\n",
       "      <td>1</td>\n",
       "      <td>0</td>\n",
       "      <td>0</td>\n",
       "    </tr>\n",
       "    <tr>\n",
       "      <th>2210</th>\n",
       "      <td>1</td>\n",
       "      <td>29</td>\n",
       "      <td>0</td>\n",
       "      <td>2</td>\n",
       "      <td>0</td>\n",
       "      <td>12</td>\n",
       "      <td>1</td>\n",
       "      <td>1</td>\n",
       "      <td>0</td>\n",
       "    </tr>\n",
       "  </tbody>\n",
       "</table>\n",
       "</div>"
      ],
      "text/plain": [
       "      male  age  juv_fel_count  juv_misd_count  juv_other_count  priors_count  \\\n",
       "1916     0   35              0               0                0             2   \n",
       "1096     1   24              0               0                0             1   \n",
       "2894     1   26              0               1                3            14   \n",
       "733      1   30              0               0                0             1   \n",
       "2210     1   29              0               2                0            12   \n",
       "\n",
       "      felony  black  married  \n",
       "1916       1      1        0  \n",
       "1096       1      0        0  \n",
       "2894       1      1        0  \n",
       "733        1      0        0  \n",
       "2210       1      1        0  "
      ]
     },
     "execution_count": 13,
     "metadata": {},
     "output_type": "execute_result"
    }
   ],
   "source": [
    "X_test.head()"
   ]
  },
  {
   "cell_type": "code",
   "execution_count": 14,
   "metadata": {
    "ExecuteTime": {
     "end_time": "2020-11-14T02:15:22.023606Z",
     "start_time": "2020-11-14T02:15:22.014635Z"
    }
   },
   "outputs": [
    {
     "data": {
      "text/plain": [
       "1916    0\n",
       "1096    1\n",
       "2894    1\n",
       "733     1\n",
       "2210    1\n",
       "Name: two_year_recid, dtype: int64"
      ]
     },
     "execution_count": 14,
     "metadata": {},
     "output_type": "execute_result"
    }
   ],
   "source": [
    "y_test.head()"
   ]
  },
  {
   "cell_type": "code",
   "execution_count": 15,
   "metadata": {
    "ExecuteTime": {
     "end_time": "2020-11-14T02:15:39.537313Z",
     "start_time": "2020-11-14T02:15:22.026026Z"
    }
   },
   "outputs": [
    {
     "name": "stdout",
     "output_type": "stream",
     "text": [
      "[-1.46797949e-02 -1.28405961e-01  9.52563828e-05 -3.88166464e-03\n",
      " -4.49941273e-03  2.24729129e-02  1.89616267e-02  6.50924473e-04\n",
      "  7.89920435e-03] -0.10138690792757021\n"
     ]
    },
    {
     "data": {
      "image/png": "[encoded data removed]",
      "text/plain": [
       "<Figure size 432x288 with 1 Axes>"
      ]
     },
     "metadata": {
      "needs_background": "light"
     },
     "output_type": "display_data"
    }
   ],
   "source": [
    "x = X_test.values[0].reshape(1, -1)\n",
    "explainer = gshap.KernelExplainer(model.predict_proba, X_train)\n",
    "gshap_values = explainer.gshap_values(x, nsamples=100)\n",
    "df = pd.DataFrame({'Variables': X.columns, 'Importance': 100*gshap_values})\n",
    "df = df.sort_values('Importance', ascending=False)\n",
    "ax = sns.barplot(y='Variables', x='Importance', data=df)\n",
    "ax.figure.savefig('figures/example_SHAP.png', bbox_inches = \"tight\")\n",
    "print(gshap_values, gshap_values.sum())"
   ]
  },
  {
   "cell_type": "code",
   "execution_count": 16,
   "metadata": {
    "ExecuteTime": {
     "end_time": "2020-11-14T02:15:51.074399Z",
     "start_time": "2020-11-14T02:15:39.539679Z"
    }
   },
   "outputs": [
    {
     "data": {
      "text/plain": [
       "(0.3551544940727163, 0.5290176273525814)"
      ]
     },
     "execution_count": 16,
     "metadata": {},
     "output_type": "execute_result"
    }
   ],
   "source": [
    "explainer.compare(x)"
   ]
  },
  {
   "cell_type": "code",
   "execution_count": null,
   "metadata": {},
   "outputs": [],
   "source": []
  }
 ],
 "metadata": {
  "kernelspec": {
   "display_name": "algorithm-fairness",
   "language": "python",
   "name": "algorithm-fairness"
  },
  "language_info": {
   "codemirror_mode": {
    "name": "ipython",
    "version": 3
   },
   "file_extension": ".py",
   "mimetype": "text/x-python",
   "name": "python",
   "nbconvert_exporter": "python",
   "pygments_lexer": "ipython3",
   "version": "3.6.8"
  },
  "toc": {
   "base_numbering": 1,
   "nav_menu": {},
   "number_sections": true,
   "sideBar": true,
   "skip_h1_title": false,
   "title_cell": "Table of Contents",
   "title_sidebar": "Contents",
   "toc_cell": false,
   "toc_position": {},
   "toc_section_display": true,
   "toc_window_display": false
  },
  "varInspector": {
   "cols": {
    "lenName": 16,
    "lenType": 16,
    "lenVar": 40
   },
   "kernels_config": {
    "python": {
     "delete_cmd_postfix": "",
     "delete_cmd_prefix": "del ",
     "library": "var_list.py",
     "varRefreshCmd": "print(var_dic_list())"
    },
    "r": {
     "delete_cmd_postfix": ") ",
     "delete_cmd_prefix": "rm(",
     "library": "var_list.r",
     "varRefreshCmd": "cat(var_dic_list()) "
    }
   },
   "types_to_exclude": [
    "module",
    "function",
    "builtin_function_or_method",
    "instance",
    "_Feature"
   ],
   "window_display": false
  }
 },
 "nbformat": 4,
 "nbformat_minor": 4
}
