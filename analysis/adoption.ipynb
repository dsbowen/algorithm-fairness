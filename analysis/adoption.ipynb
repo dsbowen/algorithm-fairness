{
 "cells": [
  {
   "cell_type": "code",
   "execution_count": 1,
   "metadata": {
    "ExecuteTime": {
     "end_time": "2020-11-27T14:34:07.570208Z",
     "start_time": "2020-11-27T14:34:03.862836Z"
    }
   },
   "outputs": [],
   "source": [
    "import numpy as np\n",
    "import pandas as pd\n",
    "import statsmodels.api as sm\n",
    "\n",
    "INFILE = '../data/adoption.csv'"
   ]
  },
  {
   "cell_type": "code",
   "execution_count": 2,
   "metadata": {
    "ExecuteTime": {
     "end_time": "2020-11-27T14:34:07.650357Z",
     "start_time": "2020-11-27T14:34:07.581889Z"
    }
   },
   "outputs": [
    {
     "data": {
      "text/html": [
       "<div>\n",
       "<style scoped>\n",
       "    .dataframe tbody tr th:only-of-type {\n",
       "        vertical-align: middle;\n",
       "    }\n",
       "\n",
       "    .dataframe tbody tr th {\n",
       "        vertical-align: top;\n",
       "    }\n",
       "\n",
       "    .dataframe thead th {\n",
       "        text-align: right;\n",
       "    }\n",
       "</style>\n",
       "<table border=\"1\" class=\"dataframe\">\n",
       "  <thead>\n",
       "    <tr style=\"text-align: right;\">\n",
       "      <th></th>\n",
       "      <th>Test</th>\n",
       "      <th>WorkerId</th>\n",
       "      <th>Explanation</th>\n",
       "      <th>Adopt</th>\n",
       "      <th>WTP</th>\n",
       "      <th>OtherBid</th>\n",
       "      <th>WonAuction</th>\n",
       "      <th>SurveyCode</th>\n",
       "      <th>ID</th>\n",
       "      <th>EndTime</th>\n",
       "      <th>...</th>\n",
       "      <th>juv_fel_count</th>\n",
       "      <th>juv_misd_count</th>\n",
       "      <th>juv_other_count</th>\n",
       "      <th>priors_count</th>\n",
       "      <th>felony</th>\n",
       "      <th>black</th>\n",
       "      <th>married</th>\n",
       "      <th>output</th>\n",
       "      <th>y</th>\n",
       "      <th>FcastTimer</th>\n",
       "    </tr>\n",
       "  </thead>\n",
       "  <tbody>\n",
       "    <tr>\n",
       "      <th>0</th>\n",
       "      <td>1.0</td>\n",
       "      <td>test</td>\n",
       "      <td>0.0</td>\n",
       "      <td>1.0</td>\n",
       "      <td>19.69</td>\n",
       "      <td>0.00</td>\n",
       "      <td>1.0</td>\n",
       "      <td>x0vRDP</td>\n",
       "      <td>1</td>\n",
       "      <td>2020-11-25 17:08:29.712628</td>\n",
       "      <td>...</td>\n",
       "      <td>0.0</td>\n",
       "      <td>0.0</td>\n",
       "      <td>0.0</td>\n",
       "      <td>0.0</td>\n",
       "      <td>0.0</td>\n",
       "      <td>0.0</td>\n",
       "      <td>1.0</td>\n",
       "      <td>0.271688</td>\n",
       "      <td>0.0</td>\n",
       "      <td>3.264869</td>\n",
       "    </tr>\n",
       "    <tr>\n",
       "      <th>1</th>\n",
       "      <td>1.0</td>\n",
       "      <td>test</td>\n",
       "      <td>0.0</td>\n",
       "      <td>1.0</td>\n",
       "      <td>19.69</td>\n",
       "      <td>0.00</td>\n",
       "      <td>1.0</td>\n",
       "      <td>x0vRDP</td>\n",
       "      <td>1</td>\n",
       "      <td>2020-11-25 17:08:29.712628</td>\n",
       "      <td>...</td>\n",
       "      <td>0.0</td>\n",
       "      <td>0.0</td>\n",
       "      <td>0.0</td>\n",
       "      <td>1.0</td>\n",
       "      <td>0.0</td>\n",
       "      <td>1.0</td>\n",
       "      <td>0.0</td>\n",
       "      <td>0.246545</td>\n",
       "      <td>0.0</td>\n",
       "      <td>4.695119</td>\n",
       "    </tr>\n",
       "    <tr>\n",
       "      <th>2</th>\n",
       "      <td>1.0</td>\n",
       "      <td>test</td>\n",
       "      <td>0.0</td>\n",
       "      <td>1.0</td>\n",
       "      <td>19.69</td>\n",
       "      <td>0.00</td>\n",
       "      <td>1.0</td>\n",
       "      <td>x0vRDP</td>\n",
       "      <td>1</td>\n",
       "      <td>2020-11-25 17:08:29.712628</td>\n",
       "      <td>...</td>\n",
       "      <td>0.0</td>\n",
       "      <td>1.0</td>\n",
       "      <td>0.0</td>\n",
       "      <td>1.0</td>\n",
       "      <td>0.0</td>\n",
       "      <td>1.0</td>\n",
       "      <td>0.0</td>\n",
       "      <td>0.631654</td>\n",
       "      <td>0.0</td>\n",
       "      <td>3.275935</td>\n",
       "    </tr>\n",
       "    <tr>\n",
       "      <th>3</th>\n",
       "      <td>1.0</td>\n",
       "      <td>test</td>\n",
       "      <td>0.0</td>\n",
       "      <td>1.0</td>\n",
       "      <td>19.69</td>\n",
       "      <td>0.00</td>\n",
       "      <td>1.0</td>\n",
       "      <td>x0vRDP</td>\n",
       "      <td>1</td>\n",
       "      <td>2020-11-25 17:08:29.712628</td>\n",
       "      <td>...</td>\n",
       "      <td>0.0</td>\n",
       "      <td>0.0</td>\n",
       "      <td>0.0</td>\n",
       "      <td>0.0</td>\n",
       "      <td>0.0</td>\n",
       "      <td>0.0</td>\n",
       "      <td>0.0</td>\n",
       "      <td>0.226197</td>\n",
       "      <td>0.0</td>\n",
       "      <td>2.000720</td>\n",
       "    </tr>\n",
       "    <tr>\n",
       "      <th>4</th>\n",
       "      <td>1.0</td>\n",
       "      <td>test</td>\n",
       "      <td>1.0</td>\n",
       "      <td>1.0</td>\n",
       "      <td>20.83</td>\n",
       "      <td>19.69</td>\n",
       "      <td>1.0</td>\n",
       "      <td>O8L9sI</td>\n",
       "      <td>2</td>\n",
       "      <td>2020-11-25 17:09:49.355854</td>\n",
       "      <td>...</td>\n",
       "      <td>0.0</td>\n",
       "      <td>0.0</td>\n",
       "      <td>0.0</td>\n",
       "      <td>11.0</td>\n",
       "      <td>1.0</td>\n",
       "      <td>1.0</td>\n",
       "      <td>0.0</td>\n",
       "      <td>0.816362</td>\n",
       "      <td>1.0</td>\n",
       "      <td>3.299280</td>\n",
       "    </tr>\n",
       "  </tbody>\n",
       "</table>\n",
       "<p>5 rows × 53 columns</p>\n",
       "</div>"
      ],
      "text/plain": [
       "   Test WorkerId  Explanation  Adopt    WTP  OtherBid  WonAuction SurveyCode  \\\n",
       "0   1.0     test          0.0    1.0  19.69      0.00         1.0     x0vRDP   \n",
       "1   1.0     test          0.0    1.0  19.69      0.00         1.0     x0vRDP   \n",
       "2   1.0     test          0.0    1.0  19.69      0.00         1.0     x0vRDP   \n",
       "3   1.0     test          0.0    1.0  19.69      0.00         1.0     x0vRDP   \n",
       "4   1.0     test          1.0    1.0  20.83     19.69         1.0     O8L9sI   \n",
       "\n",
       "   ID                     EndTime  ... juv_fel_count juv_misd_count  \\\n",
       "0   1  2020-11-25 17:08:29.712628  ...           0.0            0.0   \n",
       "1   1  2020-11-25 17:08:29.712628  ...           0.0            0.0   \n",
       "2   1  2020-11-25 17:08:29.712628  ...           0.0            1.0   \n",
       "3   1  2020-11-25 17:08:29.712628  ...           0.0            0.0   \n",
       "4   2  2020-11-25 17:09:49.355854  ...           0.0            0.0   \n",
       "\n",
       "   juv_other_count priors_count  felony black  married    output    y  \\\n",
       "0              0.0          0.0     0.0   0.0      1.0  0.271688  0.0   \n",
       "1              0.0          1.0     0.0   1.0      0.0  0.246545  0.0   \n",
       "2              0.0          1.0     0.0   1.0      0.0  0.631654  0.0   \n",
       "3              0.0          0.0     0.0   0.0      0.0  0.226197  0.0   \n",
       "4              0.0         11.0     1.0   1.0      0.0  0.816362  1.0   \n",
       "\n",
       "   FcastTimer  \n",
       "0    3.264869  \n",
       "1    4.695119  \n",
       "2    3.275935  \n",
       "3    2.000720  \n",
       "4    3.299280  \n",
       "\n",
       "[5 rows x 53 columns]"
      ]
     },
     "execution_count": 2,
     "metadata": {},
     "output_type": "execute_result"
    }
   ],
   "source": [
    "df = pd.read_csv(INFILE)\n",
    "df.head()"
   ]
  },
  {
   "cell_type": "code",
   "execution_count": 3,
   "metadata": {
    "ExecuteTime": {
     "end_time": "2020-11-27T14:34:07.694282Z",
     "start_time": "2020-11-27T14:34:07.653243Z"
    }
   },
   "outputs": [
    {
     "name": "stdout",
     "output_type": "stream",
     "text": [
      "N total participants 34\n",
      "N passed comprehension check 32\n",
      "N auction results matched adoption condition 32\n"
     ]
    },
    {
     "data": {
      "text/plain": [
       "(64, 56)"
      ]
     },
     "execution_count": 3,
     "metadata": {},
     "output_type": "execute_result"
    }
   ],
   "source": [
    "# select participants who passed comprehension checks\n",
    "df = df[(df.WorkerId!='test')]\n",
    "print('N total participants', len(pd.unique(df.ID)))\n",
    "# remove participants who failed comprehension checks\n",
    "df = df[(df.FcastComprehension==1) & (df.BonusComprehension==1)]\n",
    "print('N passed comprehension check', len(pd.unique(df.ID)))\n",
    "# remove participants who bid more than $10 (the high bid for the no-adoption condition)\n",
    "df = df[df.WTP < 29.99]\n",
    "print('N auction results matched adoption condition', len(pd.unique(df.ID)))\n",
    "# select 'actual' forecasts (as opposed to practice forecasts)\n",
    "df = df[df.Practice==0]\n",
    "# scale forecasts to be between 0 and 1 (as opposed to 0 and 100)\n",
    "df['Fcast'] = df['Fcast'] / 100.\n",
    "# compute score and interaction variable\n",
    "df['Exp_x_Adopt'] = df.Explanation * df.Adopt\n",
    "df['Exp_x_black'] = df.Explanation * df.black\n",
    "df['Score'] = (df.y - df.Fcast)**2 - (df.y - df.output)**2\n",
    "df.values.shape"
   ]
  },
  {
   "cell_type": "code",
   "execution_count": 4,
   "metadata": {
    "ExecuteTime": {
     "end_time": "2020-11-27T14:34:07.708400Z",
     "start_time": "2020-11-27T14:34:07.697241Z"
    }
   },
   "outputs": [
    {
     "data": {
      "text/plain": [
       "(64, 56)"
      ]
     },
     "execution_count": 4,
     "metadata": {},
     "output_type": "execute_result"
    }
   ],
   "source": [
    "# remove empty values from the score column\n",
    "df = df.dropna(subset=['Score'])\n",
    "df.values.shape"
   ]
  },
  {
   "cell_type": "code",
   "execution_count": 5,
   "metadata": {
    "ExecuteTime": {
     "end_time": "2020-11-27T14:34:07.775075Z",
     "start_time": "2020-11-27T14:34:07.715455Z"
    }
   },
   "outputs": [
    {
     "data": {
      "text/html": [
       "<table class=\"simpletable\">\n",
       "<caption>OLS Regression Results</caption>\n",
       "<tr>\n",
       "  <th>Dep. Variable:</th>          <td>Score</td>      <th>  R-squared:         </th> <td>   0.048</td>\n",
       "</tr>\n",
       "<tr>\n",
       "  <th>Model:</th>                   <td>OLS</td>       <th>  Adj. R-squared:    </th> <td>   0.018</td>\n",
       "</tr>\n",
       "<tr>\n",
       "  <th>Method:</th>             <td>Least Squares</td>  <th>  F-statistic:       </th> <td>   1.982</td>\n",
       "</tr>\n",
       "<tr>\n",
       "  <th>Date:</th>             <td>Fri, 27 Nov 2020</td> <th>  Prob (F-statistic):</th>  <td> 0.178</td> \n",
       "</tr>\n",
       "<tr>\n",
       "  <th>Time:</th>                 <td>09:34:07</td>     <th>  Log-Likelihood:    </th> <td> -16.776</td>\n",
       "</tr>\n",
       "<tr>\n",
       "  <th>No. Observations:</th>      <td>    34</td>      <th>  AIC:               </th> <td>   37.55</td>\n",
       "</tr>\n",
       "<tr>\n",
       "  <th>Df Residuals:</th>          <td>    32</td>      <th>  BIC:               </th> <td>   40.60</td>\n",
       "</tr>\n",
       "<tr>\n",
       "  <th>Df Model:</th>              <td>     1</td>      <th>                     </th>     <td> </td>   \n",
       "</tr>\n",
       "<tr>\n",
       "  <th>Covariance Type:</th>       <td>cluster</td>     <th>                     </th>     <td> </td>   \n",
       "</tr>\n",
       "</table>\n",
       "<table class=\"simpletable\">\n",
       "<tr>\n",
       "       <td></td>          <th>coef</th>     <th>std err</th>      <th>t</th>      <th>P>|t|</th>  <th>[0.025</th>    <th>0.975]</th>  \n",
       "</tr>\n",
       "<tr>\n",
       "  <th>const</th>       <td>    0.1989</td> <td>    0.072</td> <td>    2.761</td> <td> 0.014</td> <td>    0.046</td> <td>    0.352</td>\n",
       "</tr>\n",
       "<tr>\n",
       "  <th>Explanation</th> <td>   -0.1779</td> <td>    0.126</td> <td>   -1.408</td> <td> 0.178</td> <td>   -0.446</td> <td>    0.090</td>\n",
       "</tr>\n",
       "</table>\n",
       "<table class=\"simpletable\">\n",
       "<tr>\n",
       "  <th>Omnibus:</th>       <td> 0.577</td> <th>  Durbin-Watson:     </th> <td>   2.275</td>\n",
       "</tr>\n",
       "<tr>\n",
       "  <th>Prob(Omnibus):</th> <td> 0.749</td> <th>  Jarque-Bera (JB):  </th> <td>   0.487</td>\n",
       "</tr>\n",
       "<tr>\n",
       "  <th>Skew:</th>          <td>-0.273</td> <th>  Prob(JB):          </th> <td>   0.784</td>\n",
       "</tr>\n",
       "<tr>\n",
       "  <th>Kurtosis:</th>      <td> 2.786</td> <th>  Cond. No.          </th> <td>    2.55</td>\n",
       "</tr>\n",
       "</table><br/><br/>Notes:<br/>[1] Standard Errors are robust to cluster correlation (cluster)"
      ],
      "text/plain": [
       "<class 'statsmodels.iolib.summary.Summary'>\n",
       "\"\"\"\n",
       "                            OLS Regression Results                            \n",
       "==============================================================================\n",
       "Dep. Variable:                  Score   R-squared:                       0.048\n",
       "Model:                            OLS   Adj. R-squared:                  0.018\n",
       "Method:                 Least Squares   F-statistic:                     1.982\n",
       "Date:                Fri, 27 Nov 2020   Prob (F-statistic):              0.178\n",
       "Time:                        09:34:07   Log-Likelihood:                -16.776\n",
       "No. Observations:                  34   AIC:                             37.55\n",
       "Df Residuals:                      32   BIC:                             40.60\n",
       "Df Model:                           1                                         \n",
       "Covariance Type:              cluster                                         \n",
       "===============================================================================\n",
       "                  coef    std err          t      P>|t|      [0.025      0.975]\n",
       "-------------------------------------------------------------------------------\n",
       "const           0.1989      0.072      2.761      0.014       0.046       0.352\n",
       "Explanation    -0.1779      0.126     -1.408      0.178      -0.446       0.090\n",
       "==============================================================================\n",
       "Omnibus:                        0.577   Durbin-Watson:                   2.275\n",
       "Prob(Omnibus):                  0.749   Jarque-Bera (JB):                0.487\n",
       "Skew:                          -0.273   Prob(JB):                        0.784\n",
       "Kurtosis:                       2.786   Cond. No.                         2.55\n",
       "==============================================================================\n",
       "\n",
       "Notes:\n",
       "[1] Standard Errors are robust to cluster correlation (cluster)\n",
       "\"\"\""
      ]
     },
     "execution_count": 5,
     "metadata": {},
     "output_type": "execute_result"
    }
   ],
   "source": [
    "# effect of explanation on performance if everyone adopted the model\n",
    "# negative coef on interaction indicates the explanation improved performance\n",
    "# positive coef on interaction indicates the explanation harmed performance\n",
    "adopt_df = df[df.Adopt==1]\n",
    "X = sm.add_constant(adopt_df.Explanation)\n",
    "reg = sm.OLS(adopt_df.Score, X)\n",
    "res = reg.fit().get_robustcov_results(cov_type='cluster', groups=adopt_df.ID)\n",
    "res.summary()"
   ]
  },
  {
   "cell_type": "code",
   "execution_count": 6,
   "metadata": {
    "ExecuteTime": {
     "end_time": "2020-11-27T14:34:07.830820Z",
     "start_time": "2020-11-27T14:34:07.782932Z"
    }
   },
   "outputs": [
    {
     "data": {
      "text/html": [
       "<table class=\"simpletable\">\n",
       "<caption>OLS Regression Results</caption>\n",
       "<tr>\n",
       "  <th>Dep. Variable:</th>          <td>Score</td>      <th>  R-squared:         </th> <td>   0.036</td>\n",
       "</tr>\n",
       "<tr>\n",
       "  <th>Model:</th>                   <td>OLS</td>       <th>  Adj. R-squared:    </th> <td>  -0.144</td>\n",
       "</tr>\n",
       "<tr>\n",
       "  <th>Method:</th>             <td>Least Squares</td>  <th>  F-statistic:       </th> <td>  0.3572</td>\n",
       "</tr>\n",
       "<tr>\n",
       "  <th>Date:</th>             <td>Fri, 27 Nov 2020</td> <th>  Prob (F-statistic):</th>  <td> 0.785</td> \n",
       "</tr>\n",
       "<tr>\n",
       "  <th>Time:</th>                 <td>09:34:07</td>     <th>  Log-Likelihood:    </th> <td> -9.1514</td>\n",
       "</tr>\n",
       "<tr>\n",
       "  <th>No. Observations:</th>      <td>    20</td>      <th>  AIC:               </th> <td>   26.30</td>\n",
       "</tr>\n",
       "<tr>\n",
       "  <th>Df Residuals:</th>          <td>    16</td>      <th>  BIC:               </th> <td>   30.29</td>\n",
       "</tr>\n",
       "<tr>\n",
       "  <th>Df Model:</th>              <td>     3</td>      <th>                     </th>     <td> </td>   \n",
       "</tr>\n",
       "<tr>\n",
       "  <th>Covariance Type:</th>       <td>cluster</td>     <th>                     </th>     <td> </td>   \n",
       "</tr>\n",
       "</table>\n",
       "<table class=\"simpletable\">\n",
       "<tr>\n",
       "       <td></td>          <th>coef</th>     <th>std err</th>      <th>t</th>      <th>P>|t|</th>  <th>[0.025</th>    <th>0.975]</th>  \n",
       "</tr>\n",
       "<tr>\n",
       "  <th>const</th>       <td>    0.2257</td> <td>    0.145</td> <td>    1.561</td> <td> 0.141</td> <td>   -0.084</td> <td>    0.536</td>\n",
       "</tr>\n",
       "<tr>\n",
       "  <th>Explanation</th> <td>   -0.1696</td> <td>    0.202</td> <td>   -0.839</td> <td> 0.415</td> <td>   -0.603</td> <td>    0.264</td>\n",
       "</tr>\n",
       "<tr>\n",
       "  <th>black</th>       <td>    0.0039</td> <td>    0.260</td> <td>    0.015</td> <td> 0.988</td> <td>   -0.553</td> <td>    0.561</td>\n",
       "</tr>\n",
       "<tr>\n",
       "  <th>Exp_x_black</th> <td>    0.1029</td> <td>    0.367</td> <td>    0.281</td> <td> 0.783</td> <td>   -0.684</td> <td>    0.889</td>\n",
       "</tr>\n",
       "</table>\n",
       "<table class=\"simpletable\">\n",
       "<tr>\n",
       "  <th>Omnibus:</th>       <td> 0.211</td> <th>  Durbin-Watson:     </th> <td>   2.139</td>\n",
       "</tr>\n",
       "<tr>\n",
       "  <th>Prob(Omnibus):</th> <td> 0.900</td> <th>  Jarque-Bera (JB):  </th> <td>   0.410</td>\n",
       "</tr>\n",
       "<tr>\n",
       "  <th>Skew:</th>          <td>-0.088</td> <th>  Prob(JB):          </th> <td>   0.815</td>\n",
       "</tr>\n",
       "<tr>\n",
       "  <th>Kurtosis:</th>      <td> 2.321</td> <th>  Cond. No.          </th> <td>    6.60</td>\n",
       "</tr>\n",
       "</table><br/><br/>Notes:<br/>[1] Standard Errors are robust to cluster correlation (cluster)"
      ],
      "text/plain": [
       "<class 'statsmodels.iolib.summary.Summary'>\n",
       "\"\"\"\n",
       "                            OLS Regression Results                            \n",
       "==============================================================================\n",
       "Dep. Variable:                  Score   R-squared:                       0.036\n",
       "Model:                            OLS   Adj. R-squared:                 -0.144\n",
       "Method:                 Least Squares   F-statistic:                    0.3572\n",
       "Date:                Fri, 27 Nov 2020   Prob (F-statistic):              0.785\n",
       "Time:                        09:34:07   Log-Likelihood:                -9.1514\n",
       "No. Observations:                  20   AIC:                             26.30\n",
       "Df Residuals:                      16   BIC:                             30.29\n",
       "Df Model:                           3                                         \n",
       "Covariance Type:              cluster                                         \n",
       "===============================================================================\n",
       "                  coef    std err          t      P>|t|      [0.025      0.975]\n",
       "-------------------------------------------------------------------------------\n",
       "const           0.2257      0.145      1.561      0.141      -0.084       0.536\n",
       "Explanation    -0.1696      0.202     -0.839      0.415      -0.603       0.264\n",
       "black           0.0039      0.260      0.015      0.988      -0.553       0.561\n",
       "Exp_x_black     0.1029      0.367      0.281      0.783      -0.684       0.889\n",
       "==============================================================================\n",
       "Omnibus:                        0.211   Durbin-Watson:                   2.139\n",
       "Prob(Omnibus):                  0.900   Jarque-Bera (JB):                0.410\n",
       "Skew:                          -0.088   Prob(JB):                        0.815\n",
       "Kurtosis:                       2.321   Cond. No.                         6.60\n",
       "==============================================================================\n",
       "\n",
       "Notes:\n",
       "[1] Standard Errors are robust to cluster correlation (cluster)\n",
       "\"\"\""
      ]
     },
     "execution_count": 6,
     "metadata": {},
     "output_type": "execute_result"
    }
   ],
   "source": [
    "# effect of explanation on fairness if everyone adopted the model\n",
    "# negative coef on interaction indicates the explanation improved fairness\n",
    "# positive coef on interaction indicates the explanation harmed fairness\n",
    "\n",
    "# select observations where the offender did not recidivate and the model was adopted\n",
    "no_recid_df = adopt_df[adopt_df.y == 0]\n",
    "X = sm.add_constant(no_recid_df[['Explanation', 'black', 'Exp_x_black']])\n",
    "reg = sm.OLS(no_recid_df.Score, X)\n",
    "res = reg.fit().get_robustcov_results(cov_type='cluster', groups=no_recid_df.ID)\n",
    "res.summary()"
   ]
  },
  {
   "cell_type": "code",
   "execution_count": 7,
   "metadata": {
    "ExecuteTime": {
     "end_time": "2020-11-27T14:34:07.974369Z",
     "start_time": "2020-11-27T14:34:07.833880Z"
    },
    "scrolled": false
   },
   "outputs": [
    {
     "name": "stdout",
     "output_type": "stream",
     "text": [
      "\n",
      "Negative coefficient on explanation indicates that explanation improved performance\n",
      "Positive coefficient on explanation indicates that explanation harmed performance\n",
      "\n",
      "                            OLS Regression Results                            \n",
      "==============================================================================\n",
      "Dep. Variable:                  Score   R-squared:                       0.000\n",
      "Model:                            OLS   Adj. R-squared:                 -0.031\n",
      "Method:                 Least Squares   F-statistic:                  0.004813\n",
      "Date:                Fri, 27 Nov 2020   Prob (F-statistic):              0.946\n",
      "Time:                        09:34:07   Log-Likelihood:                -15.769\n",
      "No. Observations:                  34   AIC:                             35.54\n",
      "Df Residuals:                      32   BIC:                             38.59\n",
      "Df Model:                           1                                         \n",
      "Covariance Type:              cluster                                         \n",
      "===============================================================================\n",
      "                  coef    std err          t      P>|t|      [0.025      0.975]\n",
      "-------------------------------------------------------------------------------\n",
      "const           0.1055      0.081      1.297      0.213      -0.067       0.278\n",
      "Explanation     0.0092      0.133      0.069      0.946      -0.272       0.290\n",
      "==============================================================================\n",
      "Omnibus:                        1.126   Durbin-Watson:                   2.169\n",
      "Prob(Omnibus):                  0.570   Jarque-Bera (JB):                0.749\n",
      "Skew:                          -0.363   Prob(JB):                        0.687\n",
      "Kurtosis:                       2.944   Cond. No.                         2.46\n",
      "==============================================================================\n",
      "\n",
      "Notes:\n",
      "[1] Standard Errors are robust to cluster correlation (cluster)\n",
      "\n",
      "Negative coefficient on interaction indicates that explanation improved fairness\n",
      "Positive coefficient on interaction indicates that explanation harmed fairness\n",
      "\n",
      "                            OLS Regression Results                            \n",
      "==============================================================================\n",
      "Dep. Variable:                  Score   R-squared:                       0.218\n",
      "Model:                            OLS   Adj. R-squared:                  0.037\n",
      "Method:                 Least Squares   F-statistic:                    0.9455\n",
      "Date:                Fri, 27 Nov 2020   Prob (F-statistic):              0.449\n",
      "Time:                        09:34:07   Log-Likelihood:                -3.7715\n",
      "No. Observations:                  17   AIC:                             15.54\n",
      "Df Residuals:                      13   BIC:                             18.88\n",
      "Df Model:                           3                                         \n",
      "Covariance Type:              cluster                                         \n",
      "===============================================================================\n",
      "                  coef    std err          t      P>|t|      [0.025      0.975]\n",
      "-------------------------------------------------------------------------------\n",
      "const           0.3135      0.112      2.807      0.016       0.070       0.557\n",
      "Explanation    -0.1428      0.167     -0.854      0.410      -0.507       0.221\n",
      "black          -0.2834      0.249     -1.137      0.278      -0.826       0.260\n",
      "Exp_x_black     0.5938      0.354      1.680      0.119      -0.177       1.364\n",
      "==============================================================================\n",
      "Omnibus:                        0.639   Durbin-Watson:                   2.307\n",
      "Prob(Omnibus):                  0.726   Jarque-Bera (JB):                0.679\n",
      "Skew:                           0.299   Prob(JB):                        0.712\n",
      "Kurtosis:                       2.224   Cond. No.                         6.58\n",
      "==============================================================================\n",
      "\n",
      "Notes:\n",
      "[1] Standard Errors are robust to cluster correlation (cluster)\n",
      "\n",
      "Positive coefficient on explanation indicates the explanation increased adoption\n",
      "Negative coefficient on explanation indicates that explanation decreased adoption\n",
      "\n",
      "                            OLS Regression Results                            \n",
      "==============================================================================\n",
      "Dep. Variable:                  Adopt   R-squared:                       0.005\n",
      "Model:                            OLS   Adj. R-squared:                 -0.061\n",
      "Method:                 Least Squares   F-statistic:                   0.08505\n",
      "Date:                Fri, 27 Nov 2020   Prob (F-statistic):              0.775\n",
      "Time:                        09:34:07   Log-Likelihood:                -12.267\n",
      "No. Observations:                  17   AIC:                             28.53\n",
      "Df Residuals:                      15   BIC:                             30.20\n",
      "Df Model:                           1                                         \n",
      "Covariance Type:                  HC0                                         \n",
      "===============================================================================\n",
      "                  coef    std err          t      P>|t|      [0.025      0.975]\n",
      "-------------------------------------------------------------------------------\n",
      "const           0.5000      0.158      3.162      0.006       0.163       0.837\n",
      "Explanation     0.0714      0.245      0.292      0.775      -0.451       0.593\n",
      "==============================================================================\n",
      "Omnibus:                       30.090   Durbin-Watson:                   1.877\n",
      "Prob(Omnibus):                  0.000   Jarque-Bera (JB):                2.778\n",
      "Skew:                          -0.117   Prob(JB):                        0.249\n",
      "Kurtosis:                       1.034   Cond. No.                         2.46\n",
      "==============================================================================\n",
      "\n",
      "Notes:\n",
      "[1] Standard Errors are heteroscedasticity robust (HC0)\n",
      "                            OLS Regression Results                            \n",
      "==============================================================================\n",
      "Dep. Variable:                  Score   R-squared:                       0.027\n",
      "Model:                            OLS   Adj. R-squared:                 -0.071\n",
      "Method:                 Least Squares   F-statistic:                    0.3498\n",
      "Date:                Fri, 27 Nov 2020   Prob (F-statistic):              0.790\n",
      "Time:                        09:34:07   Log-Likelihood:                -15.312\n",
      "No. Observations:                  34   AIC:                             38.62\n",
      "Df Residuals:                      30   BIC:                             44.73\n",
      "Df Model:                           3                                         \n",
      "Covariance Type:              cluster                                         \n",
      "===============================================================================\n",
      "                  coef    std err          t      P>|t|      [0.025      0.975]\n",
      "-------------------------------------------------------------------------------\n",
      "const           0.0267      0.107      0.249      0.806      -0.200       0.254\n",
      "Explanation     0.0589      0.138      0.428      0.675      -0.233       0.351\n",
      "Adopt           0.1577      0.159      0.991      0.337      -0.180       0.495\n",
      "Exp_x_Adopt    -0.1066      0.253     -0.421      0.679      -0.644       0.430\n",
      "==============================================================================\n",
      "Omnibus:                        2.717   Durbin-Watson:                   2.185\n",
      "Prob(Omnibus):                  0.257   Jarque-Bera (JB):                1.807\n",
      "Skew:                          -0.557   Prob(JB):                        0.405\n",
      "Kurtosis:                       3.191   Cond. No.                         6.69\n",
      "==============================================================================\n",
      "\n",
      "Notes:\n",
      "[1] Standard Errors are robust to cluster correlation (cluster)\n"
     ]
    },
    {
     "name": "stderr",
     "output_type": "stream",
     "text": [
      "/home/dsbowen/algorithm-fairness/venv/lib/python3.6/site-packages/ipykernel_launcher.py:19: SettingWithCopyWarning: \n",
      "A value is trying to be set on a copy of a slice from a DataFrame.\n",
      "Try using .loc[row_indexer,col_indexer] = value instead\n",
      "\n",
      "See the caveats in the documentation: https://pandas.pydata.org/pandas-docs/stable/user_guide/indexing.html#returning-a-view-versus-a-copy\n",
      "/home/dsbowen/algorithm-fairness/venv/lib/python3.6/site-packages/scipy/stats/stats.py:1604: UserWarning: kurtosistest only valid for n>=20 ... continuing anyway, n=17\n",
      "  \"anyway, n=%i\" % int(n))\n",
      "/home/dsbowen/algorithm-fairness/venv/lib/python3.6/site-packages/scipy/stats/stats.py:1604: UserWarning: kurtosistest only valid for n>=20 ... continuing anyway, n=17\n",
      "  \"anyway, n=%i\" % int(n))\n"
     ]
    }
   ],
   "source": [
    "def simulate_market(df, price):\n",
    "    # indicates the participant would have adopted the model in this simulation\n",
    "    df = df[df.Adopt == (df.WTP > price)]\n",
    "    compute_performance_effect(df, price)\n",
    "    compute_fairness_effect(df, price)\n",
    "    compute_adoption_effect(df, price)\n",
    "    decompose(df, price)\n",
    "    \n",
    "def compute_performance_effect(df, price):\n",
    "    X = sm.add_constant(df.Explanation)\n",
    "    reg = sm.OLS(df.Score, X)\n",
    "    res = reg.fit().get_robustcov_results(cov_type='cluster', groups=df.ID)\n",
    "    print('\\nNegative coefficient on explanation indicates that explanation improved performance')\n",
    "    print('Positive coefficient on explanation indicates that explanation harmed performance\\n')\n",
    "    print(res.summary())\n",
    "    \n",
    "def compute_fairness_effect(df, price):\n",
    "    df = df[df.y == 0]\n",
    "    df['Exp_x_black'] = df.Explanation * df.black\n",
    "    X = sm.add_constant(df[['Explanation', 'black', 'Exp_x_black']])\n",
    "    reg = sm.OLS(df.Score, X)\n",
    "    res = reg.fit().get_robustcov_results(cov_type='cluster', groups=df.ID)\n",
    "    print('\\nNegative coefficient on interaction indicates that explanation improved fairness')\n",
    "    print('Positive coefficient on interaction indicates that explanation harmed fairness\\n')\n",
    "    print(res.summary())\n",
    "    \n",
    "def compute_adoption_effect(df, price):\n",
    "    df = df.drop_duplicates(subset=['ID'])\n",
    "    X = sm.add_constant(df.Explanation)\n",
    "    reg = sm.OLS(df.Adopt, X)\n",
    "    res = reg.fit().get_robustcov_results(cov_type='HC0')\n",
    "    print('\\nPositive coefficient on explanation indicates the explanation increased adoption')\n",
    "    print('Negative coefficient on explanation indicates that explanation decreased adoption\\n')\n",
    "    print(res.summary())\n",
    "    \n",
    "def decompose(df, price):\n",
    "    X = sm.add_constant(df[['Explanation', 'Adopt', 'Exp_x_Adopt']])\n",
    "    reg = sm.OLS(df.Score, X)\n",
    "    res = reg.fit().get_robustcov_results(cov_type='cluster', groups=df.ID)\n",
    "    print(res.summary())\n",
    "    \n",
    "median_bid = df.drop_duplicates(subset='ID').WTP.median()\n",
    "simulate_market(df, median_bid)"
   ]
  },
  {
   "cell_type": "code",
   "execution_count": 8,
   "metadata": {
    "ExecuteTime": {
     "end_time": "2020-11-27T14:34:07.985604Z",
     "start_time": "2020-11-27T14:34:07.976492Z"
    }
   },
   "outputs": [
    {
     "data": {
      "text/plain": [
       "Explanation  y  \n",
       "0.0          0.0    0.501429\n",
       "             1.0    0.483333\n",
       "1.0          0.0    0.378333\n",
       "             1.0    0.585714\n",
       "Name: Fcast, dtype: float64"
      ]
     },
     "execution_count": 8,
     "metadata": {},
     "output_type": "execute_result"
    }
   ],
   "source": [
    "df.groupby(['Explanation', 'y']).Fcast.mean()"
   ]
  },
  {
   "cell_type": "code",
   "execution_count": 9,
   "metadata": {
    "ExecuteTime": {
     "end_time": "2020-11-27T14:34:08.002820Z",
     "start_time": "2020-11-27T14:34:07.988020Z"
    }
   },
   "outputs": [
    {
     "data": {
      "text/plain": [
       "Explanation  black  y  \n",
       "0.0          0.0    0.0    0.525714\n",
       "                    1.0    0.626667\n",
       "             1.0    0.0    0.477143\n",
       "                    1.0    0.411667\n",
       "1.0          0.0    0.0    0.338000\n",
       "                    1.0    0.647143\n",
       "             1.0    0.0    0.428750\n",
       "                    1.0    0.524286\n",
       "Name: Fcast, dtype: float64"
      ]
     },
     "execution_count": 9,
     "metadata": {},
     "output_type": "execute_result"
    }
   ],
   "source": [
    "df.groupby(['Explanation', 'black', 'y']).Fcast.mean()"
   ]
  },
  {
   "cell_type": "code",
   "execution_count": 10,
   "metadata": {
    "ExecuteTime": {
     "end_time": "2020-11-27T14:34:08.037283Z",
     "start_time": "2020-11-27T14:34:08.009340Z"
    }
   },
   "outputs": [
    {
     "data": {
      "text/plain": [
       "black  y  \n",
       "0.0    0.0    0.327136\n",
       "       1.0    0.619252\n",
       "1.0    0.0    0.347933\n",
       "       1.0    0.634622\n",
       "Name: output, dtype: float64"
      ]
     },
     "execution_count": 10,
     "metadata": {},
     "output_type": "execute_result"
    }
   ],
   "source": [
    "df.groupby(['black', 'y']).output.mean()"
   ]
  },
  {
   "cell_type": "code",
   "execution_count": null,
   "metadata": {},
   "outputs": [],
   "source": []
  }
 ],
 "metadata": {
  "kernelspec": {
   "display_name": "algorithm-fairness",
   "language": "python",
   "name": "algorithm-fairness"
  },
  "language_info": {
   "codemirror_mode": {
    "name": "ipython",
    "version": 3
   },
   "file_extension": ".py",
   "mimetype": "text/x-python",
   "name": "python",
   "nbconvert_exporter": "python",
   "pygments_lexer": "ipython3",
   "version": "3.6.8"
  },
  "toc": {
   "base_numbering": 1,
   "nav_menu": {},
   "number_sections": true,
   "sideBar": true,
   "skip_h1_title": false,
   "title_cell": "Table of Contents",
   "title_sidebar": "Contents",
   "toc_cell": false,
   "toc_position": {},
   "toc_section_display": true,
   "toc_window_display": false
  },
  "varInspector": {
   "cols": {
    "lenName": 16,
    "lenType": 16,
    "lenVar": 40
   },
   "kernels_config": {
    "python": {
     "delete_cmd_postfix": "",
     "delete_cmd_prefix": "del ",
     "library": "var_list.py",
     "varRefreshCmd": "print(var_dic_list())"
    },
    "r": {
     "delete_cmd_postfix": ") ",
     "delete_cmd_prefix": "rm(",
     "library": "var_list.r",
     "varRefreshCmd": "cat(var_dic_list()) "
    }
   },
   "types_to_exclude": [
    "module",
    "function",
    "builtin_function_or_method",
    "instance",
    "_Feature"
   ],
   "window_display": false
  }
 },
 "nbformat": 4,
 "nbformat_minor": 4
}
