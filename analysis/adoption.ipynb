{
 "cells": [
  {
   "cell_type": "code",
   "execution_count": null,
   "metadata": {
    "ExecuteTime": {
     "end_time": "2020-11-25T21:47:53.627759Z",
     "start_time": "2020-11-25T21:47:52.554209Z"
    }
   },
   "outputs": [],
   "source": [
    "import numpy as np\n",
    "import pandas as pd\n",
    "import statsmodels.api as sm\n",
    "\n",
    "INFILE = '../data/adoption.csv'"
   ]
  },
  {
   "cell_type": "code",
   "execution_count": null,
   "metadata": {
    "ExecuteTime": {
     "end_time": "2020-11-25T21:47:53.696920Z",
     "start_time": "2020-11-25T21:47:53.630331Z"
    }
   },
   "outputs": [],
   "source": [
    "df = pd.read_csv(INFILE)\n",
    "df.head()"
   ]
  },
  {
   "cell_type": "code",
   "execution_count": null,
   "metadata": {
    "ExecuteTime": {
     "end_time": "2020-11-25T21:47:53.731472Z",
     "start_time": "2020-11-25T21:47:53.699821Z"
    }
   },
   "outputs": [],
   "source": [
    "# select participants who passed comprehension checks\n",
    "# df = df[(df.WorkerId!='test')]\n",
    "print('N total participants', len(pd.unique(df.ID)))\n",
    "# remove participants who failed comprehension checks\n",
    "df = df[(df.FcastComprehension==1) & (df.BonusComprehension==1)]\n",
    "print('N passed comprehension check', len(pd.unique(df.ID)))\n",
    "# remove participants in the adopt condition who lost the auction\n",
    "# and participants not in the adopt condition who won the auction\n",
    "df = df[df.Adopt == df.WonAuction]\n",
    "print('N auction results matched adoption condition', len(pd.unique(df.ID)))\n",
    "# select 'actual' forecasts (as opposed to practice forecasts)\n",
    "df = df[df.Practice==0]\n",
    "# scale forecasts to be between 0 and 1 (as opposed to 0 and 100)\n",
    "df['Fcast'] = df['Fcast'] / 100.\n",
    "# compute score and interaction variable\n",
    "df['Exp_x_Adopt'] = df.Explanation * df.Adopt\n",
    "df['Exp_x_black'] = df.Explanation * df.black\n",
    "df['Exp_x_Adopt_x_black'] = df.Explanation * df.Adopt * df.black\n",
    "df['Adopt_x_black'] = df.Adopt * df.black\n",
    "df['Score'] = (df.y - df.Fcast)**2 - (df.y - df.output)**2\n",
    "df.values.shape"
   ]
  },
  {
   "cell_type": "code",
   "execution_count": null,
   "metadata": {
    "ExecuteTime": {
     "end_time": "2020-11-25T21:47:53.757410Z",
     "start_time": "2020-11-25T21:47:53.734348Z"
    }
   },
   "outputs": [],
   "source": [
    "# remove empty values from the score column\n",
    "df = df.dropna(subset=['Score'])\n",
    "df.values.shape"
   ]
  },
  {
   "cell_type": "code",
   "execution_count": null,
   "metadata": {
    "ExecuteTime": {
     "end_time": "2020-11-25T21:47:53.799066Z",
     "start_time": "2020-11-25T21:47:53.760190Z"
    }
   },
   "outputs": [],
   "source": [
    "# effect of explanation on performance if everyone adopted the model\n",
    "# negative coef on interaction indicates the explanation improved performance\n",
    "# positive coef on interaction indicates the explanation harmed performance\n",
    "X = sm.add_constant(df[['Explanation', 'Adopt', 'Exp_x_Adopt']])\n",
    "reg = sm.OLS(df.Score, X)\n",
    "res = reg.fit().get_robustcov_results(cov_type='cluster', groups=df.ID)\n",
    "res.summary()"
   ]
  },
  {
   "cell_type": "code",
   "execution_count": null,
   "metadata": {
    "ExecuteTime": {
     "end_time": "2020-11-25T21:47:53.854689Z",
     "start_time": "2020-11-25T21:47:53.811024Z"
    }
   },
   "outputs": [],
   "source": [
    "# effect of explanation on fairness if everyone adopted the model\n",
    "# negative coef on interaction indicates the explanation improved fairness\n",
    "# positive coef on interaction indicates the explanation harmed fairness\n",
    "\n",
    "# select observations where the offender did not recidivate and the model was adopted\n",
    "no_recid_df = df[(df.y == 0) & (df.Adopt==1)]\n",
    "X = sm.add_constant(no_recid_df[['Explanation', 'black', 'Exp_x_black']])\n",
    "reg = sm.OLS(no_recid_df.Score, X)\n",
    "res = reg.fit().get_robustcov_results(cov_type='cluster', groups=no_recid_df.ID)\n",
    "res.summary()"
   ]
  },
  {
   "cell_type": "code",
   "execution_count": null,
   "metadata": {
    "ExecuteTime": {
     "end_time": "2020-11-25T21:47:53.995275Z",
     "start_time": "2020-11-25T21:47:53.859858Z"
    },
    "scrolled": false
   },
   "outputs": [],
   "source": [
    "def simulate_market(df, price):\n",
    "    # indicates the participant would have adopted the model in this simulation\n",
    "    df['SimulateAdopt'] = df.WTP > price\n",
    "    compute_performance_effect(df, price)\n",
    "    compute_fairness_effect(df, price)\n",
    "    compute_adoption_effect(df, price)\n",
    "    decompose(df, price)\n",
    "    \n",
    "def compute_performance_effect(df, price):\n",
    "    df = df[df.Adopt == df.SimulateAdopt]\n",
    "    X = sm.add_constant(df.Explanation)\n",
    "    reg = sm.OLS(df.Score, X)\n",
    "    res = reg.fit().get_robustcov_results(cov_type='cluster', groups=df.ID)\n",
    "    print('\\nNegative coefficient on explanation indicates that explanation improved performance')\n",
    "    print('Positive coefficient on explanation indicates that explanation harmed performance\\n')\n",
    "    print(res.summary())\n",
    "    \n",
    "def compute_fairness_effect(df, price):\n",
    "    df = df[(df.Adopt == df.SimulateAdopt) & (df.y == 0)]\n",
    "    df['Exp_x_black'] = df.Explanation * df.black\n",
    "    X = sm.add_constant(df[['Explanation', 'black', 'Exp_x_black']])\n",
    "    reg = sm.OLS(df.Score, X)\n",
    "    res = reg.fit().get_robustcov_results(cov_type='cluster', groups=df.ID)\n",
    "    print('\\nNegative coefficient on interaction indicates that explanation improved fairness')\n",
    "    print('Positive coefficient on interaction indicates that explanation harmed fairness\\n')\n",
    "    print(res.summary())\n",
    "    \n",
    "def compute_adoption_effect(df, price):\n",
    "    df = df.drop_duplicates(subset=['ID'])\n",
    "    X = sm.add_constant(df.Explanation)\n",
    "    reg = sm.OLS(df.Adopt, X)\n",
    "    res = reg.fit().get_robustcov_results(cov_type='HC0')\n",
    "    print('\\nPositive coefficient on explanation indicates the explanation increased adoption')\n",
    "    print('Negative coefficient on explanation indicates that explanation decreased adoption\\n')\n",
    "    print(res.summary())\n",
    "    \n",
    "def decompose(df, price):\n",
    "    df = df[df.Adopt == df.SimulateAdopt]\n",
    "    X = sm.add_constant(df[['Explanation', 'Adopt', 'Exp_x_Adopt']])\n",
    "    reg = sm.OLS(df.Score, X)\n",
    "    res = reg.fit().get_robustcov_results(cov_type='cluster', groups=df.ID)\n",
    "    print(res.summary())\n",
    "    \n",
    "median_bid = df.drop_duplicates(subset='ID').WTP.median()\n",
    "simulate_market(df, median_bid)"
   ]
  },
  {
   "cell_type": "code",
   "execution_count": null,
   "metadata": {
    "ExecuteTime": {
     "end_time": "2020-11-25T21:47:54.010830Z",
     "start_time": "2020-11-25T21:47:54.000212Z"
    }
   },
   "outputs": [],
   "source": [
    "df.groupby(['Explanation', 'y']).Fcast.mean()"
   ]
  },
  {
   "cell_type": "code",
   "execution_count": null,
   "metadata": {
    "ExecuteTime": {
     "end_time": "2020-11-25T21:47:54.036378Z",
     "start_time": "2020-11-25T21:47:54.014604Z"
    }
   },
   "outputs": [],
   "source": [
    "df.groupby(['Explanation', 'black', 'y']).Fcast.mean()"
   ]
  },
  {
   "cell_type": "code",
   "execution_count": null,
   "metadata": {
    "ExecuteTime": {
     "end_time": "2020-11-25T21:47:54.069007Z",
     "start_time": "2020-11-25T21:47:54.041873Z"
    }
   },
   "outputs": [],
   "source": [
    "df.groupby(['black', 'y']).output.mean()"
   ]
  },
  {
   "cell_type": "code",
   "execution_count": null,
   "metadata": {},
   "outputs": [],
   "source": []
  }
 ],
 "metadata": {
  "kernelspec": {
   "display_name": "algorithm-fairness",
   "language": "python",
   "name": "algorithm-fairness"
  },
  "language_info": {
   "codemirror_mode": {
    "name": "ipython",
    "version": 3
   },
   "file_extension": ".py",
   "mimetype": "text/x-python",
   "name": "python",
   "nbconvert_exporter": "python",
   "pygments_lexer": "ipython3",
   "version": "3.6.8"
  },
  "toc": {
   "base_numbering": 1,
   "nav_menu": {},
   "number_sections": true,
   "sideBar": true,
   "skip_h1_title": false,
   "title_cell": "Table of Contents",
   "title_sidebar": "Contents",
   "toc_cell": false,
   "toc_position": {},
   "toc_section_display": true,
   "toc_window_display": false
  },
  "varInspector": {
   "cols": {
    "lenName": 16,
    "lenType": 16,
    "lenVar": 40
   },
   "kernels_config": {
    "python": {
     "delete_cmd_postfix": "",
     "delete_cmd_prefix": "del ",
     "library": "var_list.py",
     "varRefreshCmd": "print(var_dic_list())"
    },
    "r": {
     "delete_cmd_postfix": ") ",
     "delete_cmd_prefix": "rm(",
     "library": "var_list.r",
     "varRefreshCmd": "cat(var_dic_list()) "
    }
   },
   "types_to_exclude": [
    "module",
    "function",
    "builtin_function_or_method",
    "instance",
    "_Feature"
   ],
   "window_display": false
  }
 },
 "nbformat": 4,
 "nbformat_minor": 4
}
