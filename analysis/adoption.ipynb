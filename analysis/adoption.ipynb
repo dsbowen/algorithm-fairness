{
 "cells": [
  {
   "cell_type": "code",
   "execution_count": 1,
   "metadata": {
    "ExecuteTime": {
     "end_time": "2020-12-02T16:22:12.354400Z",
     "start_time": "2020-12-02T16:22:04.322805Z"
    }
   },
   "outputs": [],
   "source": [
    "import numpy as np\n",
    "import pandas as pd\n",
    "import statsmodels.api as sm\n",
    "\n",
    "INFILE = '../data/adoption.csv'"
   ]
  },
  {
   "cell_type": "code",
   "execution_count": 2,
   "metadata": {
    "ExecuteTime": {
     "end_time": "2020-12-02T16:22:12.509388Z",
     "start_time": "2020-12-02T16:22:12.356536Z"
    }
   },
   "outputs": [
    {
     "data": {
      "text/html": [
       "<div>\n",
       "<style scoped>\n",
       "    .dataframe tbody tr th:only-of-type {\n",
       "        vertical-align: middle;\n",
       "    }\n",
       "\n",
       "    .dataframe tbody tr th {\n",
       "        vertical-align: top;\n",
       "    }\n",
       "\n",
       "    .dataframe thead th {\n",
       "        text-align: right;\n",
       "    }\n",
       "</style>\n",
       "<table border=\"1\" class=\"dataframe\">\n",
       "  <thead>\n",
       "    <tr style=\"text-align: right;\">\n",
       "      <th></th>\n",
       "      <th>WorkerId</th>\n",
       "      <th>Explanation</th>\n",
       "      <th>Adopt</th>\n",
       "      <th>WTP</th>\n",
       "      <th>OtherBid</th>\n",
       "      <th>WonAuction</th>\n",
       "      <th>SurveyCode</th>\n",
       "      <th>ID</th>\n",
       "      <th>EndTime</th>\n",
       "      <th>StartTime</th>\n",
       "      <th>...</th>\n",
       "      <th>married</th>\n",
       "      <th>output</th>\n",
       "      <th>y</th>\n",
       "      <th>FcastTimer</th>\n",
       "      <th>MostImportantFeature</th>\n",
       "      <th>Berlin2aTime</th>\n",
       "      <th>Berlin2a</th>\n",
       "      <th>Berlin3Time</th>\n",
       "      <th>Berlin3</th>\n",
       "      <th>next</th>\n",
       "    </tr>\n",
       "  </thead>\n",
       "  <tbody>\n",
       "    <tr>\n",
       "      <th>0</th>\n",
       "      <td>test</td>\n",
       "      <td>0.0</td>\n",
       "      <td>1.0</td>\n",
       "      <td>0.75</td>\n",
       "      <td>0.0</td>\n",
       "      <td>1.0</td>\n",
       "      <td>q8gTgr</td>\n",
       "      <td>1</td>\n",
       "      <td>2020-11-28 14:34:26.675514</td>\n",
       "      <td>2020-11-28 14:21:48.145937</td>\n",
       "      <td>...</td>\n",
       "      <td>0.0</td>\n",
       "      <td>0.583456</td>\n",
       "      <td>0.0</td>\n",
       "      <td>23.719714</td>\n",
       "      <td>priors_count</td>\n",
       "      <td>NaN</td>\n",
       "      <td>NaN</td>\n",
       "      <td>NaN</td>\n",
       "      <td>NaN</td>\n",
       "      <td>NaN</td>\n",
       "    </tr>\n",
       "    <tr>\n",
       "      <th>1</th>\n",
       "      <td>test</td>\n",
       "      <td>0.0</td>\n",
       "      <td>1.0</td>\n",
       "      <td>0.75</td>\n",
       "      <td>0.0</td>\n",
       "      <td>1.0</td>\n",
       "      <td>q8gTgr</td>\n",
       "      <td>1</td>\n",
       "      <td>2020-11-28 14:34:26.675514</td>\n",
       "      <td>2020-11-28 14:21:48.145937</td>\n",
       "      <td>...</td>\n",
       "      <td>0.0</td>\n",
       "      <td>0.929194</td>\n",
       "      <td>1.0</td>\n",
       "      <td>15.386664</td>\n",
       "      <td>priors_count</td>\n",
       "      <td>NaN</td>\n",
       "      <td>NaN</td>\n",
       "      <td>NaN</td>\n",
       "      <td>NaN</td>\n",
       "      <td>NaN</td>\n",
       "    </tr>\n",
       "    <tr>\n",
       "      <th>2</th>\n",
       "      <td>test</td>\n",
       "      <td>0.0</td>\n",
       "      <td>1.0</td>\n",
       "      <td>0.75</td>\n",
       "      <td>0.0</td>\n",
       "      <td>1.0</td>\n",
       "      <td>q8gTgr</td>\n",
       "      <td>1</td>\n",
       "      <td>2020-11-28 14:34:26.675514</td>\n",
       "      <td>2020-11-28 14:21:48.145937</td>\n",
       "      <td>...</td>\n",
       "      <td>0.0</td>\n",
       "      <td>0.671215</td>\n",
       "      <td>1.0</td>\n",
       "      <td>21.148548</td>\n",
       "      <td>age</td>\n",
       "      <td>NaN</td>\n",
       "      <td>NaN</td>\n",
       "      <td>NaN</td>\n",
       "      <td>NaN</td>\n",
       "      <td>NaN</td>\n",
       "    </tr>\n",
       "    <tr>\n",
       "      <th>3</th>\n",
       "      <td>test</td>\n",
       "      <td>0.0</td>\n",
       "      <td>1.0</td>\n",
       "      <td>0.75</td>\n",
       "      <td>0.0</td>\n",
       "      <td>1.0</td>\n",
       "      <td>q8gTgr</td>\n",
       "      <td>1</td>\n",
       "      <td>2020-11-28 14:34:26.675514</td>\n",
       "      <td>2020-11-28 14:21:48.145937</td>\n",
       "      <td>...</td>\n",
       "      <td>0.0</td>\n",
       "      <td>0.763803</td>\n",
       "      <td>0.0</td>\n",
       "      <td>20.864336</td>\n",
       "      <td>age</td>\n",
       "      <td>NaN</td>\n",
       "      <td>NaN</td>\n",
       "      <td>NaN</td>\n",
       "      <td>NaN</td>\n",
       "      <td>NaN</td>\n",
       "    </tr>\n",
       "    <tr>\n",
       "      <th>4</th>\n",
       "      <td>test</td>\n",
       "      <td>0.0</td>\n",
       "      <td>1.0</td>\n",
       "      <td>0.75</td>\n",
       "      <td>0.0</td>\n",
       "      <td>1.0</td>\n",
       "      <td>q8gTgr</td>\n",
       "      <td>1</td>\n",
       "      <td>2020-11-28 14:34:26.675514</td>\n",
       "      <td>2020-11-28 14:21:48.145937</td>\n",
       "      <td>...</td>\n",
       "      <td>0.0</td>\n",
       "      <td>0.393829</td>\n",
       "      <td>0.0</td>\n",
       "      <td>15.924950</td>\n",
       "      <td>age</td>\n",
       "      <td>NaN</td>\n",
       "      <td>NaN</td>\n",
       "      <td>NaN</td>\n",
       "      <td>NaN</td>\n",
       "      <td>NaN</td>\n",
       "    </tr>\n",
       "  </tbody>\n",
       "</table>\n",
       "<p>5 rows × 79 columns</p>\n",
       "</div>"
      ],
      "text/plain": [
       "  WorkerId  Explanation  Adopt   WTP  OtherBid  WonAuction SurveyCode  ID  \\\n",
       "0     test          0.0    1.0  0.75       0.0         1.0     q8gTgr   1   \n",
       "1     test          0.0    1.0  0.75       0.0         1.0     q8gTgr   1   \n",
       "2     test          0.0    1.0  0.75       0.0         1.0     q8gTgr   1   \n",
       "3     test          0.0    1.0  0.75       0.0         1.0     q8gTgr   1   \n",
       "4     test          0.0    1.0  0.75       0.0         1.0     q8gTgr   1   \n",
       "\n",
       "                      EndTime                   StartTime  ... married  \\\n",
       "0  2020-11-28 14:34:26.675514  2020-11-28 14:21:48.145937  ...     0.0   \n",
       "1  2020-11-28 14:34:26.675514  2020-11-28 14:21:48.145937  ...     0.0   \n",
       "2  2020-11-28 14:34:26.675514  2020-11-28 14:21:48.145937  ...     0.0   \n",
       "3  2020-11-28 14:34:26.675514  2020-11-28 14:21:48.145937  ...     0.0   \n",
       "4  2020-11-28 14:34:26.675514  2020-11-28 14:21:48.145937  ...     0.0   \n",
       "\n",
       "     output    y  FcastTimer MostImportantFeature  Berlin2aTime  Berlin2a  \\\n",
       "0  0.583456  0.0   23.719714         priors_count           NaN       NaN   \n",
       "1  0.929194  1.0   15.386664         priors_count           NaN       NaN   \n",
       "2  0.671215  1.0   21.148548                  age           NaN       NaN   \n",
       "3  0.763803  0.0   20.864336                  age           NaN       NaN   \n",
       "4  0.393829  0.0   15.924950                  age           NaN       NaN   \n",
       "\n",
       "   Berlin3Time  Berlin3  next  \n",
       "0          NaN      NaN   NaN  \n",
       "1          NaN      NaN   NaN  \n",
       "2          NaN      NaN   NaN  \n",
       "3          NaN      NaN   NaN  \n",
       "4          NaN      NaN   NaN  \n",
       "\n",
       "[5 rows x 79 columns]"
      ]
     },
     "execution_count": 2,
     "metadata": {},
     "output_type": "execute_result"
    }
   ],
   "source": [
    "df = pd.read_csv(INFILE)\n",
    "df.head()"
   ]
  },
  {
   "cell_type": "code",
   "execution_count": 3,
   "metadata": {
    "ExecuteTime": {
     "end_time": "2020-12-02T16:22:12.586847Z",
     "start_time": "2020-12-02T16:22:12.512586Z"
    }
   },
   "outputs": [
    {
     "name": "stdout",
     "output_type": "stream",
     "text": [
      "N total participants 647\n",
      "N passed comprehension check 328\n",
      "N auction results matched adoption condition 328\n"
     ]
    },
    {
     "data": {
      "text/plain": [
       "(3280, 83)"
      ]
     },
     "execution_count": 3,
     "metadata": {},
     "output_type": "execute_result"
    }
   ],
   "source": [
    "# select participants who passed comprehension checks\n",
    "df = df[(df.WorkerId!='test')]\n",
    "print('N total participants', len(pd.unique(df.ID)))\n",
    "# remove participants who failed comprehension checks\n",
    "df = df[(df.FcastComprehension==1) & (df.BonusComprehension==1)]\n",
    "print('N passed comprehension check', len(pd.unique(df.ID)))\n",
    "# remove participants who bid more than $10 (the high bid for the no-adoption condition)\n",
    "# df = df[df.WTP <= 29.99]\n",
    "print('N auction results matched adoption condition', len(pd.unique(df.ID)))\n",
    "# select 'actual' forecasts (as opposed to practice forecasts)\n",
    "df = df[df.Practice==0]\n",
    "# scale forecasts to be between 0 and 1 (as opposed to 0 and 100)\n",
    "df['Fcast'] = df['Fcast'] / 100.\n",
    "# compute score and interaction variable\n",
    "df['Exp_x_Adopt'] = df.Explanation * df.Adopt\n",
    "df['Exp_x_black'] = df.Explanation * df.black\n",
    "df['Adopt_x_black'] = df.Adopt * df.black\n",
    "df['Score'] = (df.y - df.Fcast)**2 - (df.y - df.output)**2\n",
    "df.values.shape"
   ]
  },
  {
   "cell_type": "code",
   "execution_count": 4,
   "metadata": {
    "ExecuteTime": {
     "end_time": "2020-12-02T16:22:14.333141Z",
     "start_time": "2020-12-02T16:22:12.590104Z"
    }
   },
   "outputs": [
    {
     "data": {
      "text/plain": [
       "(array([   9.,   42.,  132.,  382., 1393.,  397.,  195.,  118.,   45.,\n",
       "          17.]),\n",
       " array([-0.78596718, -0.6099641 , -0.43396102, -0.25795794, -0.08195486,\n",
       "         0.09404822,  0.27005131,  0.44605439,  0.62205747,  0.79806055,\n",
       "         0.97406363]),\n",
       " <BarContainer object of 10 artists>)"
      ]
     },
     "execution_count": 4,
     "metadata": {},
     "output_type": "execute_result"
    },
    {
     "data": {
      "image/png": "[encoded data removed]",
      "text/plain": [
       "<Figure size 432x288 with 1 Axes>"
      ]
     },
     "metadata": {
      "needs_background": "light"
     },
     "output_type": "display_data"
    }
   ],
   "source": [
    "import matplotlib.pyplot as plt\n",
    "\n",
    "plt.hist(df.Score)"
   ]
  },
  {
   "cell_type": "code",
   "execution_count": 5,
   "metadata": {
    "ExecuteTime": {
     "end_time": "2020-12-02T16:22:14.374162Z",
     "start_time": "2020-12-02T16:22:14.335580Z"
    }
   },
   "outputs": [
    {
     "data": {
      "text/plain": [
       "(2730, 83)"
      ]
     },
     "execution_count": 5,
     "metadata": {},
     "output_type": "execute_result"
    }
   ],
   "source": [
    "# remove empty values from the score column\n",
    "df = df.dropna(subset=['Score'])\n",
    "df.values.shape"
   ]
  },
  {
   "cell_type": "code",
   "execution_count": 6,
   "metadata": {
    "ExecuteTime": {
     "end_time": "2020-12-02T16:22:14.432879Z",
     "start_time": "2020-12-02T16:22:14.379246Z"
    }
   },
   "outputs": [
    {
     "name": "stdout",
     "output_type": "stream",
     "text": [
      "median WTP is 0.5\n"
     ]
    },
    {
     "data": {
      "text/html": [
       "<div>\n",
       "<style scoped>\n",
       "    .dataframe tbody tr th:only-of-type {\n",
       "        vertical-align: middle;\n",
       "    }\n",
       "\n",
       "    .dataframe tbody tr th {\n",
       "        vertical-align: top;\n",
       "    }\n",
       "\n",
       "    .dataframe thead th {\n",
       "        text-align: right;\n",
       "    }\n",
       "</style>\n",
       "<table border=\"1\" class=\"dataframe\">\n",
       "  <thead>\n",
       "    <tr style=\"text-align: right;\">\n",
       "      <th></th>\n",
       "      <th>count</th>\n",
       "      <th>mean</th>\n",
       "      <th>std</th>\n",
       "      <th>min</th>\n",
       "      <th>25%</th>\n",
       "      <th>50%</th>\n",
       "      <th>75%</th>\n",
       "      <th>max</th>\n",
       "    </tr>\n",
       "    <tr>\n",
       "      <th>Explanation</th>\n",
       "      <th></th>\n",
       "      <th></th>\n",
       "      <th></th>\n",
       "      <th></th>\n",
       "      <th></th>\n",
       "      <th></th>\n",
       "      <th></th>\n",
       "      <th></th>\n",
       "    </tr>\n",
       "  </thead>\n",
       "  <tbody>\n",
       "    <tr>\n",
       "      <th>0.0</th>\n",
       "      <td>1380.0</td>\n",
       "      <td>2.152246</td>\n",
       "      <td>5.412665</td>\n",
       "      <td>0.0</td>\n",
       "      <td>0.2</td>\n",
       "      <td>0.5</td>\n",
       "      <td>1.0</td>\n",
       "      <td>30.0</td>\n",
       "    </tr>\n",
       "    <tr>\n",
       "      <th>1.0</th>\n",
       "      <td>1350.0</td>\n",
       "      <td>4.278815</td>\n",
       "      <td>8.072855</td>\n",
       "      <td>0.0</td>\n",
       "      <td>0.2</td>\n",
       "      <td>0.5</td>\n",
       "      <td>1.5</td>\n",
       "      <td>30.0</td>\n",
       "    </tr>\n",
       "  </tbody>\n",
       "</table>\n",
       "</div>"
      ],
      "text/plain": [
       "              count      mean       std  min  25%  50%  75%   max\n",
       "Explanation                                                      \n",
       "0.0          1380.0  2.152246  5.412665  0.0  0.2  0.5  1.0  30.0\n",
       "1.0          1350.0  4.278815  8.072855  0.0  0.2  0.5  1.5  30.0"
      ]
     },
     "execution_count": 6,
     "metadata": {},
     "output_type": "execute_result"
    }
   ],
   "source": [
    "print(\"median WTP is\", df.WTP.median())\n",
    "df.groupby('Explanation').WTP.describe()"
   ]
  },
  {
   "cell_type": "code",
   "execution_count": 7,
   "metadata": {
    "ExecuteTime": {
     "end_time": "2020-12-02T16:22:14.497895Z",
     "start_time": "2020-12-02T16:22:14.436443Z"
    }
   },
   "outputs": [
    {
     "name": "stderr",
     "output_type": "stream",
     "text": [
      "/home/dsbowen/algorithm-fairness/venv/lib/python3.6/site-packages/ipykernel_launcher.py:2: SettingWithCopyWarning: \n",
      "A value is trying to be set on a copy of a slice from a DataFrame.\n",
      "Try using .loc[row_indexer,col_indexer] = value instead\n",
      "\n",
      "See the caveats in the documentation: https://pandas.pydata.org/pandas-docs/stable/user_guide/indexing.html#returning-a-view-versus-a-copy\n",
      "  \n"
     ]
    },
    {
     "data": {
      "text/html": [
       "<table class=\"simpletable\">\n",
       "<caption>OLS Regression Results</caption>\n",
       "<tr>\n",
       "  <th>Dep. Variable:</th>           <td>WTP</td>       <th>  R-squared:         </th> <td>   0.022</td>\n",
       "</tr>\n",
       "<tr>\n",
       "  <th>Model:</th>                   <td>OLS</td>       <th>  Adj. R-squared:    </th> <td>   0.018</td>\n",
       "</tr>\n",
       "<tr>\n",
       "  <th>Method:</th>             <td>Least Squares</td>  <th>  F-statistic:       </th> <td>   6.092</td>\n",
       "</tr>\n",
       "<tr>\n",
       "  <th>Date:</th>             <td>Wed, 02 Dec 2020</td> <th>  Prob (F-statistic):</th>  <td>0.0142</td> \n",
       "</tr>\n",
       "<tr>\n",
       "  <th>Time:</th>                 <td>11:22:14</td>     <th>  Log-Likelihood:    </th> <td> -714.34</td>\n",
       "</tr>\n",
       "<tr>\n",
       "  <th>No. Observations:</th>      <td>   273</td>      <th>  AIC:               </th> <td>   1433.</td>\n",
       "</tr>\n",
       "<tr>\n",
       "  <th>Df Residuals:</th>          <td>   271</td>      <th>  BIC:               </th> <td>   1440.</td>\n",
       "</tr>\n",
       "<tr>\n",
       "  <th>Df Model:</th>              <td>     1</td>      <th>                     </th>     <td> </td>   \n",
       "</tr>\n",
       "<tr>\n",
       "  <th>Covariance Type:</th>         <td>HC0</td>       <th>                     </th>     <td> </td>   \n",
       "</tr>\n",
       "</table>\n",
       "<table class=\"simpletable\">\n",
       "<tr>\n",
       "       <td></td>          <th>coef</th>     <th>std err</th>      <th>t</th>      <th>P>|t|</th>  <th>[0.025</th>    <th>0.975]</th>  \n",
       "</tr>\n",
       "<tr>\n",
       "  <th>const</th>       <td>    1.4856</td> <td>    0.232</td> <td>    6.417</td> <td> 0.000</td> <td>    1.030</td> <td>    1.941</td>\n",
       "</tr>\n",
       "<tr>\n",
       "  <th>Explanation</th> <td>    0.9932</td> <td>    0.402</td> <td>    2.468</td> <td> 0.014</td> <td>    0.201</td> <td>    1.786</td>\n",
       "</tr>\n",
       "</table>\n",
       "<table class=\"simpletable\">\n",
       "<tr>\n",
       "  <th>Omnibus:</th>       <td>89.166</td> <th>  Durbin-Watson:     </th> <td>   1.859</td>\n",
       "</tr>\n",
       "<tr>\n",
       "  <th>Prob(Omnibus):</th> <td> 0.000</td> <th>  Jarque-Bera (JB):  </th> <td> 174.243</td>\n",
       "</tr>\n",
       "<tr>\n",
       "  <th>Skew:</th>          <td> 1.792</td> <th>  Prob(JB):          </th> <td>1.46e-38</td>\n",
       "</tr>\n",
       "<tr>\n",
       "  <th>Kurtosis:</th>      <td> 4.571</td> <th>  Cond. No.          </th> <td>    2.61</td>\n",
       "</tr>\n",
       "</table><br/><br/>Notes:<br/>[1] Standard Errors are heteroscedasticity robust (HC0)"
      ],
      "text/plain": [
       "<class 'statsmodels.iolib.summary.Summary'>\n",
       "\"\"\"\n",
       "                            OLS Regression Results                            \n",
       "==============================================================================\n",
       "Dep. Variable:                    WTP   R-squared:                       0.022\n",
       "Model:                            OLS   Adj. R-squared:                  0.018\n",
       "Method:                 Least Squares   F-statistic:                     6.092\n",
       "Date:                Wed, 02 Dec 2020   Prob (F-statistic):             0.0142\n",
       "Time:                        11:22:14   Log-Likelihood:                -714.34\n",
       "No. Observations:                 273   AIC:                             1433.\n",
       "Df Residuals:                     271   BIC:                             1440.\n",
       "Df Model:                           1                                         \n",
       "Covariance Type:                  HC0                                         \n",
       "===============================================================================\n",
       "                  coef    std err          t      P>|t|      [0.025      0.975]\n",
       "-------------------------------------------------------------------------------\n",
       "const           1.4856      0.232      6.417      0.000       1.030       1.941\n",
       "Explanation     0.9932      0.402      2.468      0.014       0.201       1.786\n",
       "==============================================================================\n",
       "Omnibus:                       89.166   Durbin-Watson:                   1.859\n",
       "Prob(Omnibus):                  0.000   Jarque-Bera (JB):              174.243\n",
       "Skew:                           1.792   Prob(JB):                     1.46e-38\n",
       "Kurtosis:                       4.571   Cond. No.                         2.61\n",
       "==============================================================================\n",
       "\n",
       "Notes:\n",
       "[1] Standard Errors are heteroscedasticity robust (HC0)\n",
       "\"\"\""
      ]
     },
     "execution_count": 7,
     "metadata": {},
     "output_type": "execute_result"
    }
   ],
   "source": [
    "tmp_df = df.drop_duplicates(['ID'])\n",
    "tmp_df['WTP'] = tmp_df.WTP.clip(0, 10)\n",
    "X = sm.add_constant(tmp_df.Explanation)\n",
    "reg = sm.OLS(tmp_df.WTP, X)\n",
    "res = reg.fit().get_robustcov_results(cov_type='HC0')\n",
    "res.summary()"
   ]
  },
  {
   "cell_type": "code",
   "execution_count": 8,
   "metadata": {
    "ExecuteTime": {
     "end_time": "2020-12-02T16:22:15.302399Z",
     "start_time": "2020-12-02T16:22:14.502101Z"
    }
   },
   "outputs": [
    {
     "data": {
      "text/plain": [
       "<seaborn.axisgrid.FacetGrid at 0x7f691fbcd400>"
      ]
     },
     "execution_count": 8,
     "metadata": {},
     "output_type": "execute_result"
    },
    {
     "data": {
      "image/png": "[encoded data removed]",
      "text/plain": [
       "<Figure size 360x360 with 1 Axes>"
      ]
     },
     "metadata": {
      "needs_background": "light"
     },
     "output_type": "display_data"
    }
   ],
   "source": [
    "import seaborn as sns\n",
    "\n",
    "sns.catplot(x='Explanation', y='WTP', data=tmp_df)"
   ]
  },
  {
   "cell_type": "code",
   "execution_count": 9,
   "metadata": {
    "ExecuteTime": {
     "end_time": "2020-12-02T16:22:15.333723Z",
     "start_time": "2020-12-02T16:22:15.305431Z"
    }
   },
   "outputs": [
    {
     "data": {
      "text/html": [
       "<table class=\"simpletable\">\n",
       "<caption>OLS Regression Results</caption>\n",
       "<tr>\n",
       "  <th>Dep. Variable:</th>          <td>Score</td>      <th>  R-squared:         </th> <td>   0.000</td>\n",
       "</tr>\n",
       "<tr>\n",
       "  <th>Model:</th>                   <td>OLS</td>       <th>  Adj. R-squared:    </th> <td>  -0.001</td>\n",
       "</tr>\n",
       "<tr>\n",
       "  <th>Method:</th>             <td>Least Squares</td>  <th>  F-statistic:       </th> <td> 0.07361</td>\n",
       "</tr>\n",
       "<tr>\n",
       "  <th>Date:</th>             <td>Wed, 02 Dec 2020</td> <th>  Prob (F-statistic):</th>  <td> 0.787</td> \n",
       "</tr>\n",
       "<tr>\n",
       "  <th>Time:</th>                 <td>11:22:15</td>     <th>  Log-Likelihood:    </th> <td>  311.91</td>\n",
       "</tr>\n",
       "<tr>\n",
       "  <th>No. Observations:</th>      <td>  1510</td>      <th>  AIC:               </th> <td>  -619.8</td>\n",
       "</tr>\n",
       "<tr>\n",
       "  <th>Df Residuals:</th>          <td>  1508</td>      <th>  BIC:               </th> <td>  -609.2</td>\n",
       "</tr>\n",
       "<tr>\n",
       "  <th>Df Model:</th>              <td>     1</td>      <th>                     </th>     <td> </td>   \n",
       "</tr>\n",
       "<tr>\n",
       "  <th>Covariance Type:</th>       <td>cluster</td>     <th>                     </th>     <td> </td>   \n",
       "</tr>\n",
       "</table>\n",
       "<table class=\"simpletable\">\n",
       "<tr>\n",
       "       <td></td>          <th>coef</th>     <th>std err</th>      <th>t</th>      <th>P>|t|</th>  <th>[0.025</th>    <th>0.975]</th>  \n",
       "</tr>\n",
       "<tr>\n",
       "  <th>const</th>       <td>    0.0305</td> <td>    0.009</td> <td>    3.282</td> <td> 0.001</td> <td>    0.012</td> <td>    0.049</td>\n",
       "</tr>\n",
       "<tr>\n",
       "  <th>Explanation</th> <td>   -0.0032</td> <td>    0.012</td> <td>   -0.271</td> <td> 0.787</td> <td>   -0.027</td> <td>    0.020</td>\n",
       "</tr>\n",
       "</table>\n",
       "<table class=\"simpletable\">\n",
       "<tr>\n",
       "  <th>Omnibus:</th>       <td>308.505</td> <th>  Durbin-Watson:     </th> <td>   1.830</td> \n",
       "</tr>\n",
       "<tr>\n",
       "  <th>Prob(Omnibus):</th> <td> 0.000</td>  <th>  Jarque-Bera (JB):  </th> <td>1071.207</td> \n",
       "</tr>\n",
       "<tr>\n",
       "  <th>Skew:</th>          <td> 0.980</td>  <th>  Prob(JB):          </th> <td>2.46e-233</td>\n",
       "</tr>\n",
       "<tr>\n",
       "  <th>Kurtosis:</th>      <td> 6.631</td>  <th>  Cond. No.          </th> <td>    2.66</td> \n",
       "</tr>\n",
       "</table><br/><br/>Notes:<br/>[1] Standard Errors are robust to cluster correlation (cluster)"
      ],
      "text/plain": [
       "<class 'statsmodels.iolib.summary.Summary'>\n",
       "\"\"\"\n",
       "                            OLS Regression Results                            \n",
       "==============================================================================\n",
       "Dep. Variable:                  Score   R-squared:                       0.000\n",
       "Model:                            OLS   Adj. R-squared:                 -0.001\n",
       "Method:                 Least Squares   F-statistic:                   0.07361\n",
       "Date:                Wed, 02 Dec 2020   Prob (F-statistic):              0.787\n",
       "Time:                        11:22:15   Log-Likelihood:                 311.91\n",
       "No. Observations:                1510   AIC:                            -619.8\n",
       "Df Residuals:                    1508   BIC:                            -609.2\n",
       "Df Model:                           1                                         \n",
       "Covariance Type:              cluster                                         \n",
       "===============================================================================\n",
       "                  coef    std err          t      P>|t|      [0.025      0.975]\n",
       "-------------------------------------------------------------------------------\n",
       "const           0.0305      0.009      3.282      0.001       0.012       0.049\n",
       "Explanation    -0.0032      0.012     -0.271      0.787      -0.027       0.020\n",
       "==============================================================================\n",
       "Omnibus:                      308.505   Durbin-Watson:                   1.830\n",
       "Prob(Omnibus):                  0.000   Jarque-Bera (JB):             1071.207\n",
       "Skew:                           0.980   Prob(JB):                    2.46e-233\n",
       "Kurtosis:                       6.631   Cond. No.                         2.66\n",
       "==============================================================================\n",
       "\n",
       "Notes:\n",
       "[1] Standard Errors are robust to cluster correlation (cluster)\n",
       "\"\"\""
      ]
     },
     "execution_count": 9,
     "metadata": {},
     "output_type": "execute_result"
    }
   ],
   "source": [
    "# effect of explanation on performance if everyone adopted the model\n",
    "# negative coef on interaction indicates the explanation improved performance\n",
    "# positive coef on interaction indicates the explanation harmed performance\n",
    "adopt_df = df[df.Adopt==1]\n",
    "X = sm.add_constant(adopt_df.Explanation)\n",
    "reg = sm.OLS(adopt_df.Score, X)\n",
    "res = reg.fit().get_robustcov_results(cov_type='cluster', groups=adopt_df.ID)\n",
    "res.summary()"
   ]
  },
  {
   "cell_type": "code",
   "execution_count": 10,
   "metadata": {
    "ExecuteTime": {
     "end_time": "2020-12-02T16:22:15.367503Z",
     "start_time": "2020-12-02T16:22:15.335687Z"
    }
   },
   "outputs": [
    {
     "data": {
      "text/html": [
       "<table class=\"simpletable\">\n",
       "<caption>OLS Regression Results</caption>\n",
       "<tr>\n",
       "  <th>Dep. Variable:</th>          <td>Score</td>      <th>  R-squared:         </th> <td>   0.017</td>\n",
       "</tr>\n",
       "<tr>\n",
       "  <th>Model:</th>                   <td>OLS</td>       <th>  Adj. R-squared:    </th> <td>   0.013</td>\n",
       "</tr>\n",
       "<tr>\n",
       "  <th>Method:</th>             <td>Least Squares</td>  <th>  F-statistic:       </th> <td>   3.636</td>\n",
       "</tr>\n",
       "<tr>\n",
       "  <th>Date:</th>             <td>Wed, 02 Dec 2020</td> <th>  Prob (F-statistic):</th>  <td>0.0143</td> \n",
       "</tr>\n",
       "<tr>\n",
       "  <th>Time:</th>                 <td>11:22:15</td>     <th>  Log-Likelihood:    </th> <td>  170.45</td>\n",
       "</tr>\n",
       "<tr>\n",
       "  <th>No. Observations:</th>      <td>   740</td>      <th>  AIC:               </th> <td>  -332.9</td>\n",
       "</tr>\n",
       "<tr>\n",
       "  <th>Df Residuals:</th>          <td>   736</td>      <th>  BIC:               </th> <td>  -314.5</td>\n",
       "</tr>\n",
       "<tr>\n",
       "  <th>Df Model:</th>              <td>     3</td>      <th>                     </th>     <td> </td>   \n",
       "</tr>\n",
       "<tr>\n",
       "  <th>Covariance Type:</th>       <td>cluster</td>     <th>                     </th>     <td> </td>   \n",
       "</tr>\n",
       "</table>\n",
       "<table class=\"simpletable\">\n",
       "<tr>\n",
       "       <td></td>          <th>coef</th>     <th>std err</th>      <th>t</th>      <th>P>|t|</th>  <th>[0.025</th>    <th>0.975]</th>  \n",
       "</tr>\n",
       "<tr>\n",
       "  <th>const</th>       <td>    0.0143</td> <td>    0.020</td> <td>    0.726</td> <td> 0.469</td> <td>   -0.025</td> <td>    0.053</td>\n",
       "</tr>\n",
       "<tr>\n",
       "  <th>Explanation</th> <td> 2.231e-05</td> <td>    0.027</td> <td>    0.001</td> <td> 0.999</td> <td>   -0.052</td> <td>    0.053</td>\n",
       "</tr>\n",
       "<tr>\n",
       "  <th>black</th>       <td>    0.0521</td> <td>    0.023</td> <td>    2.278</td> <td> 0.024</td> <td>    0.007</td> <td>    0.097</td>\n",
       "</tr>\n",
       "<tr>\n",
       "  <th>Exp_x_black</th> <td>   -0.0048</td> <td>    0.030</td> <td>   -0.156</td> <td> 0.876</td> <td>   -0.065</td> <td>    0.055</td>\n",
       "</tr>\n",
       "</table>\n",
       "<table class=\"simpletable\">\n",
       "<tr>\n",
       "  <th>Omnibus:</th>       <td>91.263</td> <th>  Durbin-Watson:     </th> <td>   1.588</td>\n",
       "</tr>\n",
       "<tr>\n",
       "  <th>Prob(Omnibus):</th> <td> 0.000</td> <th>  Jarque-Bera (JB):  </th> <td> 204.832</td>\n",
       "</tr>\n",
       "<tr>\n",
       "  <th>Skew:</th>          <td> 0.693</td> <th>  Prob(JB):          </th> <td>3.32e-45</td>\n",
       "</tr>\n",
       "<tr>\n",
       "  <th>Kurtosis:</th>      <td> 5.173</td> <th>  Cond. No.          </th> <td>    7.09</td>\n",
       "</tr>\n",
       "</table><br/><br/>Notes:<br/>[1] Standard Errors are robust to cluster correlation (cluster)"
      ],
      "text/plain": [
       "<class 'statsmodels.iolib.summary.Summary'>\n",
       "\"\"\"\n",
       "                            OLS Regression Results                            \n",
       "==============================================================================\n",
       "Dep. Variable:                  Score   R-squared:                       0.017\n",
       "Model:                            OLS   Adj. R-squared:                  0.013\n",
       "Method:                 Least Squares   F-statistic:                     3.636\n",
       "Date:                Wed, 02 Dec 2020   Prob (F-statistic):             0.0143\n",
       "Time:                        11:22:15   Log-Likelihood:                 170.45\n",
       "No. Observations:                 740   AIC:                            -332.9\n",
       "Df Residuals:                     736   BIC:                            -314.5\n",
       "Df Model:                           3                                         \n",
       "Covariance Type:              cluster                                         \n",
       "===============================================================================\n",
       "                  coef    std err          t      P>|t|      [0.025      0.975]\n",
       "-------------------------------------------------------------------------------\n",
       "const           0.0143      0.020      0.726      0.469      -0.025       0.053\n",
       "Explanation  2.231e-05      0.027      0.001      0.999      -0.052       0.053\n",
       "black           0.0521      0.023      2.278      0.024       0.007       0.097\n",
       "Exp_x_black    -0.0048      0.030     -0.156      0.876      -0.065       0.055\n",
       "==============================================================================\n",
       "Omnibus:                       91.263   Durbin-Watson:                   1.588\n",
       "Prob(Omnibus):                  0.000   Jarque-Bera (JB):              204.832\n",
       "Skew:                           0.693   Prob(JB):                     3.32e-45\n",
       "Kurtosis:                       5.173   Cond. No.                         7.09\n",
       "==============================================================================\n",
       "\n",
       "Notes:\n",
       "[1] Standard Errors are robust to cluster correlation (cluster)\n",
       "\"\"\""
      ]
     },
     "execution_count": 10,
     "metadata": {},
     "output_type": "execute_result"
    }
   ],
   "source": [
    "# effect of explanation on fairness if everyone adopted the model\n",
    "# negative coef on interaction indicates the explanation improved fairness\n",
    "# positive coef on interaction indicates the explanation harmed fairness\n",
    "\n",
    "# select observations where the offender did not recidivate and the model was adopted\n",
    "no_recid_df = adopt_df[adopt_df.y == 0]\n",
    "X = sm.add_constant(no_recid_df[['Explanation', 'black', 'Exp_x_black']])\n",
    "reg = sm.OLS(no_recid_df.Score, X)\n",
    "res = reg.fit().get_robustcov_results(cov_type='cluster', groups=no_recid_df.ID)\n",
    "res.summary()"
   ]
  },
  {
   "cell_type": "code",
   "execution_count": 11,
   "metadata": {
    "ExecuteTime": {
     "end_time": "2020-12-02T16:22:15.480500Z",
     "start_time": "2020-12-02T16:22:15.369777Z"
    },
    "scrolled": false
   },
   "outputs": [
    {
     "name": "stdout",
     "output_type": "stream",
     "text": [
      "\n",
      "Negative coefficient on explanation indicates that explanation improved performance\n",
      "Positive coefficient on explanation indicates that explanation harmed performance\n",
      "\n",
      "                            OLS Regression Results                            \n",
      "==============================================================================\n",
      "Dep. Variable:                  Score   R-squared:                       0.000\n",
      "Model:                            OLS   Adj. R-squared:                 -0.001\n",
      "Method:                 Least Squares   F-statistic:                    0.1967\n",
      "Date:                Wed, 02 Dec 2020   Prob (F-statistic):              0.658\n",
      "Time:                        11:22:15   Log-Likelihood:                 84.807\n",
      "No. Observations:                1370   AIC:                            -165.6\n",
      "Df Residuals:                    1368   BIC:                            -155.2\n",
      "Df Model:                           1                                         \n",
      "Covariance Type:              cluster                                         \n",
      "===============================================================================\n",
      "                  coef    std err          t      P>|t|      [0.025      0.975]\n",
      "-------------------------------------------------------------------------------\n",
      "const           0.0362      0.010      3.743      0.000       0.017       0.055\n",
      "Explanation     0.0058      0.013      0.443      0.658      -0.020       0.032\n",
      "==============================================================================\n",
      "Omnibus:                      135.322   Durbin-Watson:                   1.917\n",
      "Prob(Omnibus):                  0.000   Jarque-Bera (JB):              269.654\n",
      "Skew:                           0.626   Prob(JB):                     2.79e-59\n",
      "Kurtosis:                       4.777   Cond. No.                         2.63\n",
      "==============================================================================\n",
      "\n",
      "Notes:\n",
      "[1] Standard Errors are robust to cluster correlation (cluster)\n",
      "\n",
      "Negative coefficient on interaction indicates that explanation improved fairness\n",
      "Positive coefficient on interaction indicates that explanation harmed fairness\n",
      "\n",
      "                            OLS Regression Results                            \n",
      "==============================================================================\n",
      "Dep. Variable:                  Score   R-squared:                       0.017\n",
      "Model:                            OLS   Adj. R-squared:                  0.013\n",
      "Method:                 Least Squares   F-statistic:                     3.946\n",
      "Date:                Wed, 02 Dec 2020   Prob (F-statistic):            0.00979\n",
      "Time:                        11:22:15   Log-Likelihood:                 46.365\n",
      "No. Observations:                 620   AIC:                            -84.73\n",
      "Df Residuals:                     616   BIC:                            -67.01\n",
      "Df Model:                           3                                         \n",
      "Covariance Type:              cluster                                         \n",
      "===============================================================================\n",
      "                  coef    std err          t      P>|t|      [0.025      0.975]\n",
      "-------------------------------------------------------------------------------\n",
      "const           0.0428      0.022      1.954      0.053      -0.001       0.086\n",
      "Explanation    -0.0188      0.030     -0.632      0.529      -0.078       0.040\n",
      "black           0.0289      0.025      1.158      0.249      -0.020       0.078\n",
      "Exp_x_black     0.0509      0.035      1.447      0.150      -0.019       0.120\n",
      "==============================================================================\n",
      "Omnibus:                       34.763   Durbin-Watson:                   1.638\n",
      "Prob(Omnibus):                  0.000   Jarque-Bera (JB):               44.954\n",
      "Skew:                           0.497   Prob(JB):                     1.73e-10\n",
      "Kurtosis:                       3.866   Cond. No.                         6.95\n",
      "==============================================================================\n",
      "\n",
      "Notes:\n",
      "[1] Standard Errors are robust to cluster correlation (cluster)\n",
      "\n",
      "Positive coefficient on explanation indicates the explanation increased adoption\n",
      "Negative coefficient on explanation indicates that explanation decreased adoption\n",
      "\n",
      "                            OLS Regression Results                            \n",
      "==============================================================================\n",
      "Dep. Variable:                  Adopt   R-squared:                       0.003\n",
      "Model:                            OLS   Adj. R-squared:                 -0.005\n",
      "Method:                 Least Squares   F-statistic:                    0.3527\n",
      "Date:                Wed, 02 Dec 2020   Prob (F-statistic):              0.554\n",
      "Time:                        11:22:15   Log-Likelihood:                -98.814\n",
      "No. Observations:                 137   AIC:                             201.6\n",
      "Df Residuals:                     135   BIC:                             207.5\n",
      "Df Model:                           1                                         \n",
      "Covariance Type:                  HC0                                         \n",
      "===============================================================================\n",
      "                  coef    std err          t      P>|t|      [0.025      0.975]\n",
      "-------------------------------------------------------------------------------\n",
      "const           0.5147      0.061      8.492      0.000       0.395       0.635\n",
      "Explanation     0.0505      0.085      0.594      0.554      -0.118       0.219\n",
      "==============================================================================\n",
      "Omnibus:                      921.122   Durbin-Watson:                   2.348\n",
      "Prob(Omnibus):                  0.000   Jarque-Bera (JB):               22.604\n",
      "Skew:                          -0.160   Prob(JB):                     1.23e-05\n",
      "Kurtosis:                       1.036   Cond. No.                         2.63\n",
      "==============================================================================\n",
      "\n",
      "Notes:\n",
      "[1] Standard Errors are heteroscedasticity robust (HC0)\n",
      "                            OLS Regression Results                            \n",
      "==============================================================================\n",
      "Dep. Variable:                  Score   R-squared:                       0.001\n",
      "Model:                            OLS   Adj. R-squared:                 -0.001\n",
      "Method:                 Least Squares   F-statistic:                    0.3554\n",
      "Date:                Wed, 02 Dec 2020   Prob (F-statistic):              0.785\n",
      "Time:                        11:22:15   Log-Likelihood:                 85.402\n",
      "No. Observations:                1370   AIC:                            -162.8\n",
      "Df Residuals:                    1366   BIC:                            -141.9\n",
      "Df Model:                           3                                         \n",
      "Covariance Type:              cluster                                         \n",
      "===============================================================================\n",
      "                  coef    std err          t      P>|t|      [0.025      0.975]\n",
      "-------------------------------------------------------------------------------\n",
      "const           0.0394      0.013      2.973      0.003       0.013       0.066\n",
      "Explanation     0.0127      0.021      0.610      0.543      -0.028       0.054\n",
      "Adopt          -0.0064      0.019     -0.331      0.741      -0.045       0.032\n",
      "Exp_x_Adopt    -0.0116      0.027     -0.430      0.668      -0.065       0.042\n",
      "==============================================================================\n",
      "Omnibus:                      129.960   Durbin-Watson:                   1.919\n",
      "Prob(Omnibus):                  0.000   Jarque-Bera (JB):              257.951\n",
      "Skew:                           0.606   Prob(JB):                     9.70e-57\n",
      "Kurtosis:                       4.747   Cond. No.                         7.15\n",
      "==============================================================================\n",
      "\n",
      "Notes:\n",
      "[1] Standard Errors are robust to cluster correlation (cluster)\n"
     ]
    },
    {
     "name": "stderr",
     "output_type": "stream",
     "text": [
      "/home/dsbowen/algorithm-fairness/venv/lib/python3.6/site-packages/ipykernel_launcher.py:19: SettingWithCopyWarning: \n",
      "A value is trying to be set on a copy of a slice from a DataFrame.\n",
      "Try using .loc[row_indexer,col_indexer] = value instead\n",
      "\n",
      "See the caveats in the documentation: https://pandas.pydata.org/pandas-docs/stable/user_guide/indexing.html#returning-a-view-versus-a-copy\n"
     ]
    }
   ],
   "source": [
    "def simulate_market(df, price):\n",
    "    # indicates the participant would have adopted the model in this simulation\n",
    "    df = df[df.Adopt == (df.WTP > price)]\n",
    "    compute_performance_effect(df, price)\n",
    "    compute_fairness_effect(df, price)\n",
    "    compute_adoption_effect(df, price)\n",
    "    decompose(df, price)\n",
    "    \n",
    "def compute_performance_effect(df, price):\n",
    "    X = sm.add_constant(df.Explanation)\n",
    "    reg = sm.OLS(df.Score, X)\n",
    "    res = reg.fit().get_robustcov_results(cov_type='cluster', groups=df.ID)\n",
    "    print('\\nNegative coefficient on explanation indicates that explanation improved performance')\n",
    "    print('Positive coefficient on explanation indicates that explanation harmed performance\\n')\n",
    "    print(res.summary())\n",
    "    \n",
    "def compute_fairness_effect(df, price):\n",
    "    df = df[df.y == 0]\n",
    "    df['Exp_x_black'] = df.Explanation * df.black\n",
    "    X = sm.add_constant(df[['Explanation', 'black', 'Exp_x_black']])\n",
    "    reg = sm.OLS(df.Score, X)\n",
    "    res = reg.fit().get_robustcov_results(cov_type='cluster', groups=df.ID)\n",
    "    print('\\nNegative coefficient on interaction indicates that explanation improved fairness')\n",
    "    print('Positive coefficient on interaction indicates that explanation harmed fairness\\n')\n",
    "    print(res.summary())\n",
    "    \n",
    "def compute_adoption_effect(df, price):\n",
    "    df = df.drop_duplicates(subset=['ID'])\n",
    "    X = sm.add_constant(df.Explanation)\n",
    "    reg = sm.OLS(df.Adopt, X)\n",
    "    res = reg.fit().get_robustcov_results(cov_type='HC0')\n",
    "    print('\\nPositive coefficient on explanation indicates the explanation increased adoption')\n",
    "    print('Negative coefficient on explanation indicates that explanation decreased adoption\\n')\n",
    "    print(res.summary())\n",
    "    \n",
    "def decompose(df, price):\n",
    "    X = sm.add_constant(df[['Explanation', 'Adopt', 'Exp_x_Adopt']])\n",
    "    reg = sm.OLS(df.Score, X)\n",
    "    res = reg.fit().get_robustcov_results(cov_type='cluster', groups=df.ID)\n",
    "    print(res.summary())\n",
    "    \n",
    "price = df.drop_duplicates(subset='ID').WTP.median()\n",
    "# price = df.WTP.quantile(.7)\n",
    "simulate_market(df, price)"
   ]
  },
  {
   "cell_type": "code",
   "execution_count": 12,
   "metadata": {
    "ExecuteTime": {
     "end_time": "2020-12-02T16:22:15.523029Z",
     "start_time": "2020-12-02T16:22:15.484226Z"
    }
   },
   "outputs": [
    {
     "data": {
      "text/html": [
       "<table class=\"simpletable\">\n",
       "<caption>OLS Regression Results</caption>\n",
       "<tr>\n",
       "  <th>Dep. Variable:</th>          <td>Trust</td>      <th>  R-squared:         </th> <td>   0.030</td>\n",
       "</tr>\n",
       "<tr>\n",
       "  <th>Model:</th>                   <td>OLS</td>       <th>  Adj. R-squared:    </th> <td>   0.029</td>\n",
       "</tr>\n",
       "<tr>\n",
       "  <th>Method:</th>             <td>Least Squares</td>  <th>  F-statistic:       </th> <td>   9.544</td>\n",
       "</tr>\n",
       "<tr>\n",
       "  <th>Date:</th>             <td>Wed, 02 Dec 2020</td> <th>  Prob (F-statistic):</th> <td>5.16e-06</td>\n",
       "</tr>\n",
       "<tr>\n",
       "  <th>Time:</th>                 <td>11:22:15</td>     <th>  Log-Likelihood:    </th> <td>  2746.6</td>\n",
       "</tr>\n",
       "<tr>\n",
       "  <th>No. Observations:</th>      <td>  2730</td>      <th>  AIC:               </th> <td>  -5485.</td>\n",
       "</tr>\n",
       "<tr>\n",
       "  <th>Df Residuals:</th>          <td>  2726</td>      <th>  BIC:               </th> <td>  -5462.</td>\n",
       "</tr>\n",
       "<tr>\n",
       "  <th>Df Model:</th>              <td>     3</td>      <th>                     </th>     <td> </td>   \n",
       "</tr>\n",
       "<tr>\n",
       "  <th>Covariance Type:</th>       <td>cluster</td>     <th>                     </th>     <td> </td>   \n",
       "</tr>\n",
       "</table>\n",
       "<table class=\"simpletable\">\n",
       "<tr>\n",
       "       <td></td>          <th>coef</th>     <th>std err</th>      <th>t</th>      <th>P>|t|</th>  <th>[0.025</th>    <th>0.975]</th>  \n",
       "</tr>\n",
       "<tr>\n",
       "  <th>const</th>       <td>    0.0664</td> <td>    0.005</td> <td>   13.104</td> <td> 0.000</td> <td>    0.056</td> <td>    0.076</td>\n",
       "</tr>\n",
       "<tr>\n",
       "  <th>Explanation</th> <td>    0.0090</td> <td>    0.009</td> <td>    1.015</td> <td> 0.311</td> <td>   -0.008</td> <td>    0.026</td>\n",
       "</tr>\n",
       "<tr>\n",
       "  <th>Adopt</th>       <td>   -0.0231</td> <td>    0.007</td> <td>   -3.137</td> <td> 0.002</td> <td>   -0.038</td> <td>   -0.009</td>\n",
       "</tr>\n",
       "<tr>\n",
       "  <th>Exp_x_Adopt</th> <td>   -0.0154</td> <td>    0.012</td> <td>   -1.316</td> <td> 0.189</td> <td>   -0.038</td> <td>    0.008</td>\n",
       "</tr>\n",
       "</table>\n",
       "<table class=\"simpletable\">\n",
       "<tr>\n",
       "  <th>Omnibus:</th>       <td>1637.470</td> <th>  Durbin-Watson:     </th> <td>   1.591</td> \n",
       "</tr>\n",
       "<tr>\n",
       "  <th>Prob(Omnibus):</th>  <td> 0.000</td>  <th>  Jarque-Bera (JB):  </th> <td>14114.259</td>\n",
       "</tr>\n",
       "<tr>\n",
       "  <th>Skew:</th>           <td> 2.804</td>  <th>  Prob(JB):          </th> <td>    0.00</td> \n",
       "</tr>\n",
       "<tr>\n",
       "  <th>Kurtosis:</th>       <td>12.624</td>  <th>  Cond. No.          </th> <td>    7.19</td> \n",
       "</tr>\n",
       "</table><br/><br/>Notes:<br/>[1] Standard Errors are robust to cluster correlation (cluster)"
      ],
      "text/plain": [
       "<class 'statsmodels.iolib.summary.Summary'>\n",
       "\"\"\"\n",
       "                            OLS Regression Results                            \n",
       "==============================================================================\n",
       "Dep. Variable:                  Trust   R-squared:                       0.030\n",
       "Model:                            OLS   Adj. R-squared:                  0.029\n",
       "Method:                 Least Squares   F-statistic:                     9.544\n",
       "Date:                Wed, 02 Dec 2020   Prob (F-statistic):           5.16e-06\n",
       "Time:                        11:22:15   Log-Likelihood:                 2746.6\n",
       "No. Observations:                2730   AIC:                            -5485.\n",
       "Df Residuals:                    2726   BIC:                            -5462.\n",
       "Df Model:                           3                                         \n",
       "Covariance Type:              cluster                                         \n",
       "===============================================================================\n",
       "                  coef    std err          t      P>|t|      [0.025      0.975]\n",
       "-------------------------------------------------------------------------------\n",
       "const           0.0664      0.005     13.104      0.000       0.056       0.076\n",
       "Explanation     0.0090      0.009      1.015      0.311      -0.008       0.026\n",
       "Adopt          -0.0231      0.007     -3.137      0.002      -0.038      -0.009\n",
       "Exp_x_Adopt    -0.0154      0.012     -1.316      0.189      -0.038       0.008\n",
       "==============================================================================\n",
       "Omnibus:                     1637.470   Durbin-Watson:                   1.591\n",
       "Prob(Omnibus):                  0.000   Jarque-Bera (JB):            14114.259\n",
       "Skew:                           2.804   Prob(JB):                         0.00\n",
       "Kurtosis:                      12.624   Cond. No.                         7.19\n",
       "==============================================================================\n",
       "\n",
       "Notes:\n",
       "[1] Standard Errors are robust to cluster correlation (cluster)\n",
       "\"\"\""
      ]
     },
     "execution_count": 12,
     "metadata": {},
     "output_type": "execute_result"
    }
   ],
   "source": [
    "df['Trust'] = (df.output - df.Fcast)**2\n",
    "X = sm.add_constant(df[['Explanation', 'Adopt', 'Exp_x_Adopt']])\n",
    "reg = sm.OLS(df.Trust, X)\n",
    "res = reg.fit().get_robustcov_results(cov_type='cluster', groups=df.ID)\n",
    "res.summary()"
   ]
  },
  {
   "cell_type": "code",
   "execution_count": 13,
   "metadata": {
    "ExecuteTime": {
     "end_time": "2020-12-02T16:22:15.571895Z",
     "start_time": "2020-12-02T16:22:15.525456Z"
    }
   },
   "outputs": [
    {
     "data": {
      "text/html": [
       "<table class=\"simpletable\">\n",
       "<caption>OLS Regression Results</caption>\n",
       "<tr>\n",
       "  <th>Dep. Variable:</th>          <td>Score</td>      <th>  R-squared:         </th> <td>   0.003</td>\n",
       "</tr>\n",
       "<tr>\n",
       "  <th>Model:</th>                   <td>OLS</td>       <th>  Adj. R-squared:    </th> <td>   0.003</td>\n",
       "</tr>\n",
       "<tr>\n",
       "  <th>Method:</th>             <td>Least Squares</td>  <th>  F-statistic:       </th> <td>   7.153</td>\n",
       "</tr>\n",
       "<tr>\n",
       "  <th>Date:</th>             <td>Wed, 02 Dec 2020</td> <th>  Prob (F-statistic):</th>  <td>0.00794</td>\n",
       "</tr>\n",
       "<tr>\n",
       "  <th>Time:</th>                 <td>11:22:15</td>     <th>  Log-Likelihood:    </th> <td>  160.84</td>\n",
       "</tr>\n",
       "<tr>\n",
       "  <th>No. Observations:</th>      <td>  2730</td>      <th>  AIC:               </th> <td>  -317.7</td>\n",
       "</tr>\n",
       "<tr>\n",
       "  <th>Df Residuals:</th>          <td>  2728</td>      <th>  BIC:               </th> <td>  -305.8</td>\n",
       "</tr>\n",
       "<tr>\n",
       "  <th>Df Model:</th>              <td>     1</td>      <th>                     </th>     <td> </td>   \n",
       "</tr>\n",
       "<tr>\n",
       "  <th>Covariance Type:</th>       <td>cluster</td>     <th>                     </th>     <td> </td>   \n",
       "</tr>\n",
       "</table>\n",
       "<table class=\"simpletable\">\n",
       "<tr>\n",
       "    <td></td>       <th>coef</th>     <th>std err</th>      <th>t</th>      <th>P>|t|</th>  <th>[0.025</th>    <th>0.975]</th>  \n",
       "</tr>\n",
       "<tr>\n",
       "  <th>const</th> <td>    0.0548</td> <td>    0.008</td> <td>    7.099</td> <td> 0.000</td> <td>    0.040</td> <td>    0.070</td>\n",
       "</tr>\n",
       "<tr>\n",
       "  <th>Adopt</th> <td>   -0.0259</td> <td>    0.010</td> <td>   -2.674</td> <td> 0.008</td> <td>   -0.045</td> <td>   -0.007</td>\n",
       "</tr>\n",
       "</table>\n",
       "<table class=\"simpletable\">\n",
       "<tr>\n",
       "  <th>Omnibus:</th>       <td>284.874</td> <th>  Durbin-Watson:     </th> <td>   1.934</td> \n",
       "</tr>\n",
       "<tr>\n",
       "  <th>Prob(Omnibus):</th> <td> 0.000</td>  <th>  Jarque-Bera (JB):  </th> <td> 600.182</td> \n",
       "</tr>\n",
       "<tr>\n",
       "  <th>Skew:</th>          <td> 0.651</td>  <th>  Prob(JB):          </th> <td>4.70e-131</td>\n",
       "</tr>\n",
       "<tr>\n",
       "  <th>Kurtosis:</th>      <td> 4.892</td>  <th>  Cond. No.          </th> <td>    2.76</td> \n",
       "</tr>\n",
       "</table><br/><br/>Notes:<br/>[1] Standard Errors are robust to cluster correlation (cluster)"
      ],
      "text/plain": [
       "<class 'statsmodels.iolib.summary.Summary'>\n",
       "\"\"\"\n",
       "                            OLS Regression Results                            \n",
       "==============================================================================\n",
       "Dep. Variable:                  Score   R-squared:                       0.003\n",
       "Model:                            OLS   Adj. R-squared:                  0.003\n",
       "Method:                 Least Squares   F-statistic:                     7.153\n",
       "Date:                Wed, 02 Dec 2020   Prob (F-statistic):            0.00794\n",
       "Time:                        11:22:15   Log-Likelihood:                 160.84\n",
       "No. Observations:                2730   AIC:                            -317.7\n",
       "Df Residuals:                    2728   BIC:                            -305.8\n",
       "Df Model:                           1                                         \n",
       "Covariance Type:              cluster                                         \n",
       "==============================================================================\n",
       "                 coef    std err          t      P>|t|      [0.025      0.975]\n",
       "------------------------------------------------------------------------------\n",
       "const          0.0548      0.008      7.099      0.000       0.040       0.070\n",
       "Adopt         -0.0259      0.010     -2.674      0.008      -0.045      -0.007\n",
       "==============================================================================\n",
       "Omnibus:                      284.874   Durbin-Watson:                   1.934\n",
       "Prob(Omnibus):                  0.000   Jarque-Bera (JB):              600.182\n",
       "Skew:                           0.651   Prob(JB):                    4.70e-131\n",
       "Kurtosis:                       4.892   Cond. No.                         2.76\n",
       "==============================================================================\n",
       "\n",
       "Notes:\n",
       "[1] Standard Errors are robust to cluster correlation (cluster)\n",
       "\"\"\""
      ]
     },
     "execution_count": 13,
     "metadata": {},
     "output_type": "execute_result"
    }
   ],
   "source": [
    "X = sm.add_constant(df.Adopt)\n",
    "reg = sm.OLS(df.Score, X)\n",
    "res = reg.fit().get_robustcov_results(cov_type='cluster', groups=df.ID)\n",
    "res.summary()"
   ]
  },
  {
   "cell_type": "code",
   "execution_count": 14,
   "metadata": {
    "ExecuteTime": {
     "end_time": "2020-12-02T16:22:15.620902Z",
     "start_time": "2020-12-02T16:22:15.574614Z"
    }
   },
   "outputs": [
    {
     "data": {
      "text/html": [
       "<table class=\"simpletable\">\n",
       "<caption>OLS Regression Results</caption>\n",
       "<tr>\n",
       "  <th>Dep. Variable:</th>          <td>Score</td>      <th>  R-squared:         </th> <td>   0.017</td>\n",
       "</tr>\n",
       "<tr>\n",
       "  <th>Model:</th>                   <td>OLS</td>       <th>  Adj. R-squared:    </th> <td>   0.015</td>\n",
       "</tr>\n",
       "<tr>\n",
       "  <th>Method:</th>             <td>Least Squares</td>  <th>  F-statistic:       </th> <td>   6.649</td>\n",
       "</tr>\n",
       "<tr>\n",
       "  <th>Date:</th>             <td>Wed, 02 Dec 2020</td> <th>  Prob (F-statistic):</th> <td>0.000239</td>\n",
       "</tr>\n",
       "<tr>\n",
       "  <th>Time:</th>                 <td>11:22:15</td>     <th>  Log-Likelihood:    </th> <td>  99.814</td>\n",
       "</tr>\n",
       "<tr>\n",
       "  <th>No. Observations:</th>      <td>  1326</td>      <th>  AIC:               </th> <td>  -191.6</td>\n",
       "</tr>\n",
       "<tr>\n",
       "  <th>Df Residuals:</th>          <td>  1322</td>      <th>  BIC:               </th> <td>  -170.9</td>\n",
       "</tr>\n",
       "<tr>\n",
       "  <th>Df Model:</th>              <td>     3</td>      <th>                     </th>     <td> </td>   \n",
       "</tr>\n",
       "<tr>\n",
       "  <th>Covariance Type:</th>       <td>cluster</td>     <th>                     </th>     <td> </td>   \n",
       "</tr>\n",
       "</table>\n",
       "<table class=\"simpletable\">\n",
       "<tr>\n",
       "        <td></td>           <th>coef</th>     <th>std err</th>      <th>t</th>      <th>P>|t|</th>  <th>[0.025</th>    <th>0.975]</th>  \n",
       "</tr>\n",
       "<tr>\n",
       "  <th>const</th>         <td>    0.0380</td> <td>    0.018</td> <td>    2.163</td> <td> 0.031</td> <td>    0.003</td> <td>    0.073</td>\n",
       "</tr>\n",
       "<tr>\n",
       "  <th>Adopt</th>         <td>   -0.0237</td> <td>    0.022</td> <td>   -1.080</td> <td> 0.281</td> <td>   -0.067</td> <td>    0.020</td>\n",
       "</tr>\n",
       "<tr>\n",
       "  <th>black</th>         <td>    0.0559</td> <td>    0.021</td> <td>    2.661</td> <td> 0.008</td> <td>    0.015</td> <td>    0.097</td>\n",
       "</tr>\n",
       "<tr>\n",
       "  <th>Adopt_x_black</th> <td>   -0.0061</td> <td>    0.026</td> <td>   -0.236</td> <td> 0.814</td> <td>   -0.057</td> <td>    0.045</td>\n",
       "</tr>\n",
       "</table>\n",
       "<table class=\"simpletable\">\n",
       "<tr>\n",
       "  <th>Omnibus:</th>       <td>71.084</td> <th>  Durbin-Watson:     </th> <td>   1.663</td>\n",
       "</tr>\n",
       "<tr>\n",
       "  <th>Prob(Omnibus):</th> <td> 0.000</td> <th>  Jarque-Bera (JB):  </th> <td> 115.613</td>\n",
       "</tr>\n",
       "<tr>\n",
       "  <th>Skew:</th>          <td> 0.426</td> <th>  Prob(JB):          </th> <td>7.85e-26</td>\n",
       "</tr>\n",
       "<tr>\n",
       "  <th>Kurtosis:</th>      <td> 4.169</td> <th>  Cond. No.          </th> <td>    7.35</td>\n",
       "</tr>\n",
       "</table><br/><br/>Notes:<br/>[1] Standard Errors are robust to cluster correlation (cluster)"
      ],
      "text/plain": [
       "<class 'statsmodels.iolib.summary.Summary'>\n",
       "\"\"\"\n",
       "                            OLS Regression Results                            \n",
       "==============================================================================\n",
       "Dep. Variable:                  Score   R-squared:                       0.017\n",
       "Model:                            OLS   Adj. R-squared:                  0.015\n",
       "Method:                 Least Squares   F-statistic:                     6.649\n",
       "Date:                Wed, 02 Dec 2020   Prob (F-statistic):           0.000239\n",
       "Time:                        11:22:15   Log-Likelihood:                 99.814\n",
       "No. Observations:                1326   AIC:                            -191.6\n",
       "Df Residuals:                    1322   BIC:                            -170.9\n",
       "Df Model:                           3                                         \n",
       "Covariance Type:              cluster                                         \n",
       "=================================================================================\n",
       "                    coef    std err          t      P>|t|      [0.025      0.975]\n",
       "---------------------------------------------------------------------------------\n",
       "const             0.0380      0.018      2.163      0.031       0.003       0.073\n",
       "Adopt            -0.0237      0.022     -1.080      0.281      -0.067       0.020\n",
       "black             0.0559      0.021      2.661      0.008       0.015       0.097\n",
       "Adopt_x_black    -0.0061      0.026     -0.236      0.814      -0.057       0.045\n",
       "==============================================================================\n",
       "Omnibus:                       71.084   Durbin-Watson:                   1.663\n",
       "Prob(Omnibus):                  0.000   Jarque-Bera (JB):              115.613\n",
       "Skew:                           0.426   Prob(JB):                     7.85e-26\n",
       "Kurtosis:                       4.169   Cond. No.                         7.35\n",
       "==============================================================================\n",
       "\n",
       "Notes:\n",
       "[1] Standard Errors are robust to cluster correlation (cluster)\n",
       "\"\"\""
      ]
     },
     "execution_count": 14,
     "metadata": {},
     "output_type": "execute_result"
    }
   ],
   "source": [
    "no_recid_df = df[df.y==0]\n",
    "X = sm.add_constant(no_recid_df[['Adopt', 'black', 'Adopt_x_black']])\n",
    "reg = sm.OLS(no_recid_df.Score, X)\n",
    "res = reg.fit().get_robustcov_results(cov_type='cluster', groups=no_recid_df.ID)\n",
    "res.summary()"
   ]
  },
  {
   "cell_type": "code",
   "execution_count": 15,
   "metadata": {
    "ExecuteTime": {
     "end_time": "2020-12-02T16:22:15.637358Z",
     "start_time": "2020-12-02T16:22:15.624490Z"
    }
   },
   "outputs": [
    {
     "data": {
      "text/plain": [
       "Explanation  y  \n",
       "0.0          0.0    0.454518\n",
       "             1.0    0.583617\n",
       "1.0          0.0    0.467160\n",
       "             1.0    0.592573\n",
       "Name: Fcast, dtype: float64"
      ]
     },
     "execution_count": 15,
     "metadata": {},
     "output_type": "execute_result"
    }
   ],
   "source": [
    "df.groupby(['Explanation', 'y']).Fcast.mean()"
   ]
  },
  {
   "cell_type": "code",
   "execution_count": 16,
   "metadata": {
    "ExecuteTime": {
     "end_time": "2020-12-02T16:22:15.659156Z",
     "start_time": "2020-12-02T16:22:15.640404Z"
    }
   },
   "outputs": [
    {
     "data": {
      "text/plain": [
       "Explanation  black  y  \n",
       "0.0          0.0    0.0    0.421258\n",
       "                    1.0    0.559817\n",
       "             1.0    0.0    0.483644\n",
       "                    1.0    0.598284\n",
       "1.0          0.0    0.0    0.432367\n",
       "                    1.0    0.552542\n",
       "             1.0    0.0    0.503457\n",
       "                    1.0    0.614018\n",
       "Name: Fcast, dtype: float64"
      ]
     },
     "execution_count": 16,
     "metadata": {},
     "output_type": "execute_result"
    }
   ],
   "source": [
    "df.groupby(['Explanation', 'black', 'y']).Fcast.mean()"
   ]
  },
  {
   "cell_type": "code",
   "execution_count": 17,
   "metadata": {
    "ExecuteTime": {
     "end_time": "2020-12-02T16:22:15.673500Z",
     "start_time": "2020-12-02T16:22:15.661685Z"
    }
   },
   "outputs": [
    {
     "data": {
      "text/plain": [
       "black  y  \n",
       "0.0    0.0    0.427821\n",
       "       1.0    0.569132\n",
       "1.0    0.0    0.437889\n",
       "       1.0    0.606181\n",
       "Name: output, dtype: float64"
      ]
     },
     "execution_count": 17,
     "metadata": {},
     "output_type": "execute_result"
    }
   ],
   "source": [
    "df.groupby(['black', 'y']).output.mean()"
   ]
  },
  {
   "cell_type": "code",
   "execution_count": 57,
   "metadata": {
    "ExecuteTime": {
     "end_time": "2020-12-02T16:47:27.518507Z",
     "start_time": "2020-12-02T16:47:27.386986Z"
    }
   },
   "outputs": [
    {
     "data": {
      "text/plain": [
       "count    404.000000\n",
       "mean      14.201057\n",
       "std        1.170813\n",
       "min        9.481965\n",
       "25%       13.723498\n",
       "50%       14.420224\n",
       "75%       14.922825\n",
       "max       17.179478\n",
       "Name: BonusAmount, dtype: float64"
      ]
     },
     "execution_count": 57,
     "metadata": {},
     "output_type": "execute_result"
    }
   ],
   "source": [
    "from hemlock.tools import get_approve_df, approve_assignments\n",
    "\n",
    "data_df = pd.read_csv(INFILE)\n",
    "data_df['Score'] = (data_df.y-data_df.Fcast/100.)**2 - (data_df.y-data_df.output)**2\n",
    "# calculate bonus\n",
    "data_df['BonusAmount'] = 15 * (1-data_df.groupby('WorkerId').Score.transform('mean'))\n",
    "data_df = data_df.drop_duplicates('WorkerId')\n",
    "data_df.BonusAmount.describe()"
   ]
  },
  {
   "cell_type": "code",
   "execution_count": 58,
   "metadata": {
    "ExecuteTime": {
     "end_time": "2020-12-02T16:47:28.052998Z",
     "start_time": "2020-12-02T16:47:28.041512Z"
    }
   },
   "outputs": [
    {
     "data": {
      "text/plain": [
       "count    395.000000\n",
       "mean      13.952034\n",
       "std        2.195625\n",
       "min        0.000000\n",
       "25%       13.678670\n",
       "50%       14.386880\n",
       "75%       14.906520\n",
       "max       17.179478\n",
       "Name: BonusAmount, dtype: float64"
      ]
     },
     "execution_count": 58,
     "metadata": {},
     "output_type": "execute_result"
    }
   ],
   "source": [
    "# subtract the competing bid if the participant won the auction\n",
    "data_df['BonusAmount'] = data_df.BonusAmount - data_df.OtherBid * data_df.WonAuction\n",
    "# minimum bonus is $0\n",
    "data_df['BonusAmount'] = data_df.BonusAmount.clip(0)\n",
    "data_df.BonusAmount.describe()"
   ]
  },
  {
   "cell_type": "code",
   "execution_count": 59,
   "metadata": {
    "ExecuteTime": {
     "end_time": "2020-12-02T16:47:29.399312Z",
     "start_time": "2020-12-02T16:47:29.385701Z"
    }
   },
   "outputs": [
    {
     "name": "stderr",
     "output_type": "stream",
     "text": [
      "/home/dsbowen/algorithm-fairness/venv/lib/python3.6/site-packages/pandas/core/indexing.py:670: SettingWithCopyWarning: \n",
      "A value is trying to be set on a copy of a slice from a DataFrame\n",
      "\n",
      "See the caveats in the documentation: https://pandas.pydata.org/pandas-docs/stable/user_guide/indexing.html#returning-a-view-versus-a-copy\n",
      "  iloc._setitem_with_indexer(indexer, value)\n"
     ]
    },
    {
     "data": {
      "text/plain": [
       "count    469.000000\n",
       "mean       1.197239\n",
       "std        3.991565\n",
       "min        0.000000\n",
       "25%        0.000000\n",
       "50%        0.000000\n",
       "75%        0.000000\n",
       "max       16.209754\n",
       "Name: BonusAmount, dtype: float64"
      ]
     },
     "execution_count": 59,
     "metadata": {},
     "output_type": "execute_result"
    }
   ],
   "source": [
    "# select 1 in 10 workers to receive a bonus\n",
    "data_df['BonusAmount'].iloc[data_df.ID % 10 != 0] = 0\n",
    "data_df.BonusAmount.describe()"
   ]
  },
  {
   "cell_type": "code",
   "execution_count": 60,
   "metadata": {
    "ExecuteTime": {
     "end_time": "2020-12-02T16:47:30.516163Z",
     "start_time": "2020-12-02T16:47:30.466399Z"
    }
   },
   "outputs": [
    {
     "name": "stdout",
     "output_type": "stream",
     "text": [
      "383 assignments approved\n",
      "16 assignments rejected\n",
      "Total bonus: $561.51\n"
     ]
    }
   ],
   "source": [
    "batch_df = pd.read_csv('../data/adoption_10_batch.csv')\n",
    "batch_df = batch_df.append(pd.read_csv('../data/adoption_390_batch.csv'))\n",
    "approve_df = get_approve_df(data_df, batch_df, bonus=True)\n",
    "# assume rejected assignments were honest mistakes entering the completion code\n",
    "approve_df['Approve'] = True"
   ]
  },
  {
   "cell_type": "code",
   "execution_count": 22,
   "metadata": {
    "ExecuteTime": {
     "end_time": "2020-12-02T16:22:27.370240Z",
     "start_time": "2020-12-02T16:22:25.283261Z"
    }
   },
   "outputs": [],
   "source": [
    "import boto3\n",
    "\n",
    "client = boto3.client(\n",
    "    'mturk',\n",
    "    region_name='us-east-1',\n",
    "    aws_access_key_id='KEY',\n",
    "    aws_secret_access_key='SECRET_KEY'\n",
    ")\n",
    "# approve_assignments(client, approve_df, bonus=True, bonus_reason='For accurate predictions in my recidivism study')"
   ]
  },
  {
   "cell_type": "code",
   "execution_count": null,
   "metadata": {},
   "outputs": [],
   "source": []
  }
 ],
 "metadata": {
  "kernelspec": {
   "display_name": "algorithm-fairness",
   "language": "python",
   "name": "algorithm-fairness"
  },
  "language_info": {
   "codemirror_mode": {
    "name": "ipython",
    "version": 3
   },
   "file_extension": ".py",
   "mimetype": "text/x-python",
   "name": "python",
   "nbconvert_exporter": "python",
   "pygments_lexer": "ipython3",
   "version": "3.6.8"
  },
  "toc": {
   "base_numbering": 1,
   "nav_menu": {},
   "number_sections": true,
   "sideBar": true,
   "skip_h1_title": false,
   "title_cell": "Table of Contents",
   "title_sidebar": "Contents",
   "toc_cell": false,
   "toc_position": {},
   "toc_section_display": true,
   "toc_window_display": false
  },
  "varInspector": {
   "cols": {
    "lenName": 16,
    "lenType": 16,
    "lenVar": 40
   },
   "kernels_config": {
    "python": {
     "delete_cmd_postfix": "",
     "delete_cmd_prefix": "del ",
     "library": "var_list.py",
     "varRefreshCmd": "print(var_dic_list())"
    },
    "r": {
     "delete_cmd_postfix": ") ",
     "delete_cmd_prefix": "rm(",
     "library": "var_list.r",
     "varRefreshCmd": "cat(var_dic_list()) "
    }
   },
   "types_to_exclude": [
    "module",
    "function",
    "builtin_function_or_method",
    "instance",
    "_Feature"
   ],
   "window_display": false
  }
 },
 "nbformat": 4,
 "nbformat_minor": 4
}
