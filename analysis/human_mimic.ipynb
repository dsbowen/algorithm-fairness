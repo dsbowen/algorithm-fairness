{
 "cells": [
  {
   "cell_type": "code",
   "execution_count": 1,
   "metadata": {
    "ExecuteTime": {
     "end_time": "2020-11-30T15:43:33.048322Z",
     "start_time": "2020-11-30T15:43:32.143818Z"
    }
   },
   "outputs": [],
   "source": [
    "import gshap\n",
    "import numpy as np\n",
    "import pandas as pd\n",
    "from gshap.datasets import load_recidivism\n",
    "from gshap.intergroup import IntergroupDifference\n",
    "from sklearn.model_selection import train_test_split\n",
    "\n",
    "import random\n",
    "\n",
    "random.seed(0)\n",
    "np.random.seed(0)\n",
    "\n",
    "INFILE = '../data/comparison.csv'"
   ]
  },
  {
   "cell_type": "code",
   "execution_count": 2,
   "metadata": {
    "ExecuteTime": {
     "end_time": "2020-11-30T15:43:33.092368Z",
     "start_time": "2020-11-30T15:43:33.050402Z"
    }
   },
   "outputs": [
    {
     "data": {
      "text/html": [
       "<div>\n",
       "<style scoped>\n",
       "    .dataframe tbody tr th:only-of-type {\n",
       "        vertical-align: middle;\n",
       "    }\n",
       "\n",
       "    .dataframe tbody tr th {\n",
       "        vertical-align: top;\n",
       "    }\n",
       "\n",
       "    .dataframe thead th {\n",
       "        text-align: right;\n",
       "    }\n",
       "</style>\n",
       "<table border=\"1\" class=\"dataframe\">\n",
       "  <thead>\n",
       "    <tr style=\"text-align: right;\">\n",
       "      <th></th>\n",
       "      <th>male</th>\n",
       "      <th>age</th>\n",
       "      <th>juv_fel_count</th>\n",
       "      <th>juv_misd_count</th>\n",
       "      <th>juv_other_count</th>\n",
       "      <th>priors_count</th>\n",
       "      <th>felony</th>\n",
       "      <th>black</th>\n",
       "      <th>married</th>\n",
       "    </tr>\n",
       "  </thead>\n",
       "  <tbody>\n",
       "    <tr>\n",
       "      <th>0</th>\n",
       "      <td>1</td>\n",
       "      <td>31</td>\n",
       "      <td>0</td>\n",
       "      <td>0</td>\n",
       "      <td>0</td>\n",
       "      <td>0</td>\n",
       "      <td>0</td>\n",
       "      <td>0</td>\n",
       "      <td>1</td>\n",
       "    </tr>\n",
       "    <tr>\n",
       "      <th>1</th>\n",
       "      <td>1</td>\n",
       "      <td>21</td>\n",
       "      <td>0</td>\n",
       "      <td>1</td>\n",
       "      <td>0</td>\n",
       "      <td>1</td>\n",
       "      <td>0</td>\n",
       "      <td>1</td>\n",
       "      <td>0</td>\n",
       "    </tr>\n",
       "    <tr>\n",
       "      <th>2</th>\n",
       "      <td>0</td>\n",
       "      <td>21</td>\n",
       "      <td>0</td>\n",
       "      <td>0</td>\n",
       "      <td>0</td>\n",
       "      <td>0</td>\n",
       "      <td>0</td>\n",
       "      <td>1</td>\n",
       "      <td>0</td>\n",
       "    </tr>\n",
       "    <tr>\n",
       "      <th>3</th>\n",
       "      <td>0</td>\n",
       "      <td>30</td>\n",
       "      <td>0</td>\n",
       "      <td>0</td>\n",
       "      <td>0</td>\n",
       "      <td>0</td>\n",
       "      <td>1</td>\n",
       "      <td>1</td>\n",
       "      <td>0</td>\n",
       "    </tr>\n",
       "    <tr>\n",
       "      <th>4</th>\n",
       "      <td>1</td>\n",
       "      <td>32</td>\n",
       "      <td>1</td>\n",
       "      <td>1</td>\n",
       "      <td>0</td>\n",
       "      <td>20</td>\n",
       "      <td>1</td>\n",
       "      <td>0</td>\n",
       "      <td>0</td>\n",
       "    </tr>\n",
       "  </tbody>\n",
       "</table>\n",
       "</div>"
      ],
      "text/plain": [
       "   male  age  juv_fel_count  juv_misd_count  juv_other_count  priors_count  \\\n",
       "0     1   31              0               0                0             0   \n",
       "1     1   21              0               1                0             1   \n",
       "2     0   21              0               0                0             0   \n",
       "3     0   30              0               0                0             0   \n",
       "4     1   32              1               1                0            20   \n",
       "\n",
       "   felony  black  married  \n",
       "0       0      0        1  \n",
       "1       0      1        0  \n",
       "2       0      1        0  \n",
       "3       1      1        0  \n",
       "4       1      0        0  "
      ]
     },
     "execution_count": 2,
     "metadata": {},
     "output_type": "execute_result"
    }
   ],
   "source": [
    "recidivism = load_recidivism()\n",
    "X_compas, y_compas = recidivism.data, recidivism.target\n",
    "X_compas = X_compas.drop(columns='high_supervision')\n",
    "X_compas_train, X_compas_test, y_compas_train, y_compas_test = train_test_split(X_compas, y_compas)\n",
    "X_compas.head()"
   ]
  },
  {
   "cell_type": "code",
   "execution_count": 28,
   "metadata": {
    "ExecuteTime": {
     "end_time": "2020-11-30T19:32:00.214915Z",
     "start_time": "2020-11-30T19:31:58.683208Z"
    }
   },
   "outputs": [],
   "source": [
    "from sklearn.ensemble import RandomForestClassifier\n",
    "from sklearn.naive_bayes import MultinomialNB\n",
    "from sklearn.pipeline import make_pipeline, make_union\n",
    "from tpot.builtins import StackingEstimator\n",
    "\n",
    "class Model():\n",
    "    def __init__(self, clf, X, exp=1):\n",
    "        self.clf = clf\n",
    "        self.black_idx = list(X.columns).index('black')\n",
    "        self.exp = exp\n",
    "\n",
    "    def predict_proba(self, X):\n",
    "        X = X.values if isinstance(X, pd.DataFrame) else X\n",
    "        black = X[:, self.black_idx]\n",
    "        output = self.clf.predict_proba(X)[:,1]\n",
    "        return (\n",
    "            (1-black)*(2*output-output**self.exp) \n",
    "            + black*output**self.exp\n",
    "        )\n",
    "\n",
    "    def predict(self, X):\n",
    "        return self.predict_proba(X) > .5\n",
    "\n",
    "clf = make_pipeline(\n",
    "    StackingEstimator(estimator=MultinomialNB(alpha=10.0, fit_prior=True)),\n",
    "    StackingEstimator(estimator=MultinomialNB(alpha=0.001, fit_prior=True)),\n",
    "    RandomForestClassifier(bootstrap=True, criterion=\"entropy\", max_features=0.9500000000000001, min_samples_leaf=17, min_samples_split=11, n_estimators=100)\n",
    ")\n",
    "clf.fit(X_compas_train, y_compas_train)\n",
    "orig_model = Model(clf, X_compas)\n",
    "adj_model = Model(clf, X_compas, exp=1.14)"
   ]
  },
  {
   "cell_type": "code",
   "execution_count": 4,
   "metadata": {
    "ExecuteTime": {
     "end_time": "2020-11-30T15:43:34.937199Z",
     "start_time": "2020-11-30T15:43:34.870464Z"
    }
   },
   "outputs": [
    {
     "data": {
      "text/html": [
       "<div>\n",
       "<style scoped>\n",
       "    .dataframe tbody tr th:only-of-type {\n",
       "        vertical-align: middle;\n",
       "    }\n",
       "\n",
       "    .dataframe tbody tr th {\n",
       "        vertical-align: top;\n",
       "    }\n",
       "\n",
       "    .dataframe thead th {\n",
       "        text-align: right;\n",
       "    }\n",
       "</style>\n",
       "<table border=\"1\" class=\"dataframe\">\n",
       "  <thead>\n",
       "    <tr style=\"text-align: right;\">\n",
       "      <th></th>\n",
       "      <th>ParticipantID</th>\n",
       "      <th>CompletionCode</th>\n",
       "      <th>ID</th>\n",
       "      <th>EndTime</th>\n",
       "      <th>StartTime</th>\n",
       "      <th>Status</th>\n",
       "      <th>DemographicsTime</th>\n",
       "      <th>Gender</th>\n",
       "      <th>GenderSpecify</th>\n",
       "      <th>AgeBins</th>\n",
       "      <th>...</th>\n",
       "      <th>juv_other_count</th>\n",
       "      <th>priors_count</th>\n",
       "      <th>felony</th>\n",
       "      <th>black</th>\n",
       "      <th>married</th>\n",
       "      <th>output</th>\n",
       "      <th>y</th>\n",
       "      <th>FcastTimer</th>\n",
       "      <th>MostImportantFeature</th>\n",
       "      <th>next</th>\n",
       "    </tr>\n",
       "  </thead>\n",
       "  <tbody>\n",
       "    <tr>\n",
       "      <th>0</th>\n",
       "      <td>test</td>\n",
       "      <td>yxI0jg</td>\n",
       "      <td>1</td>\n",
       "      <td>2020-11-19 23:43:51.969826</td>\n",
       "      <td>2020-11-19 23:32:59.155429</td>\n",
       "      <td>Completed</td>\n",
       "      <td>42.387854</td>\n",
       "      <td>Male</td>\n",
       "      <td>NaN</td>\n",
       "      <td>25-29</td>\n",
       "      <td>...</td>\n",
       "      <td>1.0</td>\n",
       "      <td>1.0</td>\n",
       "      <td>0.0</td>\n",
       "      <td>1.0</td>\n",
       "      <td>0.0</td>\n",
       "      <td>0.766923</td>\n",
       "      <td>1.0</td>\n",
       "      <td>29.173377</td>\n",
       "      <td>NaN</td>\n",
       "      <td>NaN</td>\n",
       "    </tr>\n",
       "    <tr>\n",
       "      <th>1</th>\n",
       "      <td>test</td>\n",
       "      <td>yxI0jg</td>\n",
       "      <td>1</td>\n",
       "      <td>2020-11-19 23:43:51.969826</td>\n",
       "      <td>2020-11-19 23:32:59.155429</td>\n",
       "      <td>Completed</td>\n",
       "      <td>42.387854</td>\n",
       "      <td>Male</td>\n",
       "      <td>NaN</td>\n",
       "      <td>25-29</td>\n",
       "      <td>...</td>\n",
       "      <td>0.0</td>\n",
       "      <td>0.0</td>\n",
       "      <td>0.0</td>\n",
       "      <td>0.0</td>\n",
       "      <td>0.0</td>\n",
       "      <td>0.088920</td>\n",
       "      <td>0.0</td>\n",
       "      <td>145.471718</td>\n",
       "      <td>NaN</td>\n",
       "      <td>NaN</td>\n",
       "    </tr>\n",
       "    <tr>\n",
       "      <th>2</th>\n",
       "      <td>test</td>\n",
       "      <td>yxI0jg</td>\n",
       "      <td>1</td>\n",
       "      <td>2020-11-19 23:43:51.969826</td>\n",
       "      <td>2020-11-19 23:32:59.155429</td>\n",
       "      <td>Completed</td>\n",
       "      <td>42.387854</td>\n",
       "      <td>Male</td>\n",
       "      <td>NaN</td>\n",
       "      <td>25-29</td>\n",
       "      <td>...</td>\n",
       "      <td>0.0</td>\n",
       "      <td>15.0</td>\n",
       "      <td>0.0</td>\n",
       "      <td>1.0</td>\n",
       "      <td>0.0</td>\n",
       "      <td>0.736685</td>\n",
       "      <td>1.0</td>\n",
       "      <td>8.672931</td>\n",
       "      <td>NaN</td>\n",
       "      <td>NaN</td>\n",
       "    </tr>\n",
       "    <tr>\n",
       "      <th>3</th>\n",
       "      <td>test</td>\n",
       "      <td>yxI0jg</td>\n",
       "      <td>1</td>\n",
       "      <td>2020-11-19 23:43:51.969826</td>\n",
       "      <td>2020-11-19 23:32:59.155429</td>\n",
       "      <td>Completed</td>\n",
       "      <td>42.387854</td>\n",
       "      <td>Male</td>\n",
       "      <td>NaN</td>\n",
       "      <td>25-29</td>\n",
       "      <td>...</td>\n",
       "      <td>0.0</td>\n",
       "      <td>1.0</td>\n",
       "      <td>1.0</td>\n",
       "      <td>1.0</td>\n",
       "      <td>0.0</td>\n",
       "      <td>0.443584</td>\n",
       "      <td>0.0</td>\n",
       "      <td>10.088882</td>\n",
       "      <td>NaN</td>\n",
       "      <td>NaN</td>\n",
       "    </tr>\n",
       "    <tr>\n",
       "      <th>4</th>\n",
       "      <td>test</td>\n",
       "      <td>yxI0jg</td>\n",
       "      <td>1</td>\n",
       "      <td>2020-11-19 23:43:51.969826</td>\n",
       "      <td>2020-11-19 23:32:59.155429</td>\n",
       "      <td>Completed</td>\n",
       "      <td>42.387854</td>\n",
       "      <td>Male</td>\n",
       "      <td>NaN</td>\n",
       "      <td>25-29</td>\n",
       "      <td>...</td>\n",
       "      <td>0.0</td>\n",
       "      <td>2.0</td>\n",
       "      <td>1.0</td>\n",
       "      <td>0.0</td>\n",
       "      <td>0.0</td>\n",
       "      <td>0.363658</td>\n",
       "      <td>0.0</td>\n",
       "      <td>17.196649</td>\n",
       "      <td>NaN</td>\n",
       "      <td>NaN</td>\n",
       "    </tr>\n",
       "  </tbody>\n",
       "</table>\n",
       "<p>5 rows × 49 columns</p>\n",
       "</div>"
      ],
      "text/plain": [
       "  ParticipantID CompletionCode  ID                     EndTime  \\\n",
       "0          test         yxI0jg   1  2020-11-19 23:43:51.969826   \n",
       "1          test         yxI0jg   1  2020-11-19 23:43:51.969826   \n",
       "2          test         yxI0jg   1  2020-11-19 23:43:51.969826   \n",
       "3          test         yxI0jg   1  2020-11-19 23:43:51.969826   \n",
       "4          test         yxI0jg   1  2020-11-19 23:43:51.969826   \n",
       "\n",
       "                    StartTime     Status  DemographicsTime Gender  \\\n",
       "0  2020-11-19 23:32:59.155429  Completed         42.387854   Male   \n",
       "1  2020-11-19 23:32:59.155429  Completed         42.387854   Male   \n",
       "2  2020-11-19 23:32:59.155429  Completed         42.387854   Male   \n",
       "3  2020-11-19 23:32:59.155429  Completed         42.387854   Male   \n",
       "4  2020-11-19 23:32:59.155429  Completed         42.387854   Male   \n",
       "\n",
       "   GenderSpecify AgeBins  ...  juv_other_count  priors_count  felony  black  \\\n",
       "0            NaN   25-29  ...              1.0           1.0     0.0    1.0   \n",
       "1            NaN   25-29  ...              0.0           0.0     0.0    0.0   \n",
       "2            NaN   25-29  ...              0.0          15.0     0.0    1.0   \n",
       "3            NaN   25-29  ...              0.0           1.0     1.0    1.0   \n",
       "4            NaN   25-29  ...              0.0           2.0     1.0    0.0   \n",
       "\n",
       "   married    output    y  FcastTimer  MostImportantFeature  next  \n",
       "0      0.0  0.766923  1.0   29.173377                   NaN   NaN  \n",
       "1      0.0  0.088920  0.0  145.471718                   NaN   NaN  \n",
       "2      0.0  0.736685  1.0    8.672931                   NaN   NaN  \n",
       "3      0.0  0.443584  0.0   10.088882                   NaN   NaN  \n",
       "4      0.0  0.363658  0.0   17.196649                   NaN   NaN  \n",
       "\n",
       "[5 rows x 49 columns]"
      ]
     },
     "execution_count": 4,
     "metadata": {},
     "output_type": "execute_result"
    }
   ],
   "source": [
    "df = pd.read_csv(INFILE)\n",
    "df.head()"
   ]
  },
  {
   "cell_type": "code",
   "execution_count": 5,
   "metadata": {
    "ExecuteTime": {
     "end_time": "2020-11-30T15:43:34.965381Z",
     "start_time": "2020-11-30T15:43:34.939572Z"
    }
   },
   "outputs": [
    {
     "name": "stdout",
     "output_type": "stream",
     "text": [
      "N total participants 105\n",
      "N passed comprehension check 84\n"
     ]
    },
    {
     "data": {
      "text/plain": [
       "(822, 49)"
      ]
     },
     "execution_count": 5,
     "metadata": {},
     "output_type": "execute_result"
    }
   ],
   "source": [
    "# select participants who passed comprehension checks\n",
    "df = df[(df.ParticipantID!='test')]\n",
    "print('N total participants', len(pd.unique(df.ParticipantID)))\n",
    "df = df[(df.FcastComprehension==1) & (df.BonusComprehension==1)]\n",
    "print('N passed comprehension check', len(pd.unique(df.ParticipantID)))\n",
    "# select 'actual' forecasts (as opposed to practice forecasts)\n",
    "df = df[df.Practice==0]\n",
    "# scale forecasts to be between 0 and 1 (as opposed to 0 and 100)\n",
    "df['Fcast'] = df['Fcast'] / 100.\n",
    "df = df.dropna(subset=['Fcast'])\n",
    "df.values.shape"
   ]
  },
  {
   "cell_type": "code",
   "execution_count": 6,
   "metadata": {
    "ExecuteTime": {
     "end_time": "2020-11-30T15:43:34.993954Z",
     "start_time": "2020-11-30T15:43:34.968742Z"
    }
   },
   "outputs": [
    {
     "data": {
      "text/html": [
       "<div>\n",
       "<style scoped>\n",
       "    .dataframe tbody tr th:only-of-type {\n",
       "        vertical-align: middle;\n",
       "    }\n",
       "\n",
       "    .dataframe tbody tr th {\n",
       "        vertical-align: top;\n",
       "    }\n",
       "\n",
       "    .dataframe thead th {\n",
       "        text-align: right;\n",
       "    }\n",
       "</style>\n",
       "<table border=\"1\" class=\"dataframe\">\n",
       "  <thead>\n",
       "    <tr style=\"text-align: right;\">\n",
       "      <th></th>\n",
       "      <th>male</th>\n",
       "      <th>age</th>\n",
       "      <th>juv_fel_count</th>\n",
       "      <th>juv_misd_count</th>\n",
       "      <th>juv_other_count</th>\n",
       "      <th>priors_count</th>\n",
       "      <th>felony</th>\n",
       "      <th>black</th>\n",
       "      <th>married</th>\n",
       "    </tr>\n",
       "  </thead>\n",
       "  <tbody>\n",
       "    <tr>\n",
       "      <th>35</th>\n",
       "      <td>0.0</td>\n",
       "      <td>42.0</td>\n",
       "      <td>0.0</td>\n",
       "      <td>0.0</td>\n",
       "      <td>0.0</td>\n",
       "      <td>0.0</td>\n",
       "      <td>1.0</td>\n",
       "      <td>0.0</td>\n",
       "      <td>0.0</td>\n",
       "    </tr>\n",
       "    <tr>\n",
       "      <th>36</th>\n",
       "      <td>1.0</td>\n",
       "      <td>24.0</td>\n",
       "      <td>0.0</td>\n",
       "      <td>0.0</td>\n",
       "      <td>0.0</td>\n",
       "      <td>4.0</td>\n",
       "      <td>0.0</td>\n",
       "      <td>1.0</td>\n",
       "      <td>0.0</td>\n",
       "    </tr>\n",
       "    <tr>\n",
       "      <th>37</th>\n",
       "      <td>1.0</td>\n",
       "      <td>34.0</td>\n",
       "      <td>0.0</td>\n",
       "      <td>0.0</td>\n",
       "      <td>0.0</td>\n",
       "      <td>0.0</td>\n",
       "      <td>0.0</td>\n",
       "      <td>1.0</td>\n",
       "      <td>0.0</td>\n",
       "    </tr>\n",
       "    <tr>\n",
       "      <th>38</th>\n",
       "      <td>1.0</td>\n",
       "      <td>29.0</td>\n",
       "      <td>0.0</td>\n",
       "      <td>0.0</td>\n",
       "      <td>0.0</td>\n",
       "      <td>2.0</td>\n",
       "      <td>0.0</td>\n",
       "      <td>0.0</td>\n",
       "      <td>0.0</td>\n",
       "    </tr>\n",
       "    <tr>\n",
       "      <th>39</th>\n",
       "      <td>1.0</td>\n",
       "      <td>34.0</td>\n",
       "      <td>0.0</td>\n",
       "      <td>0.0</td>\n",
       "      <td>0.0</td>\n",
       "      <td>0.0</td>\n",
       "      <td>0.0</td>\n",
       "      <td>0.0</td>\n",
       "      <td>1.0</td>\n",
       "    </tr>\n",
       "  </tbody>\n",
       "</table>\n",
       "</div>"
      ],
      "text/plain": [
       "    male   age  juv_fel_count  juv_misd_count  juv_other_count  priors_count  \\\n",
       "35   0.0  42.0            0.0             0.0              0.0           0.0   \n",
       "36   1.0  24.0            0.0             0.0              0.0           4.0   \n",
       "37   1.0  34.0            0.0             0.0              0.0           0.0   \n",
       "38   1.0  29.0            0.0             0.0              0.0           2.0   \n",
       "39   1.0  34.0            0.0             0.0              0.0           0.0   \n",
       "\n",
       "    felony  black  married  \n",
       "35     1.0    0.0      0.0  \n",
       "36     0.0    1.0      0.0  \n",
       "37     0.0    1.0      0.0  \n",
       "38     0.0    0.0      0.0  \n",
       "39     0.0    0.0      1.0  "
      ]
     },
     "execution_count": 6,
     "metadata": {},
     "output_type": "execute_result"
    }
   ],
   "source": [
    "X = df[X_compas.columns]\n",
    "y = df.Fcast\n",
    "X.head()"
   ]
  },
  {
   "cell_type": "code",
   "execution_count": 7,
   "metadata": {
    "ExecuteTime": {
     "end_time": "2020-11-30T15:43:41.764097Z",
     "start_time": "2020-11-30T15:43:35.008245Z"
    }
   },
   "outputs": [
    {
     "name": "stdout",
     "output_type": "stream",
     "text": [
      "{'fit_time': array([0.0013659 , 0.0012033 , 0.00118947, 0.00118351, 0.00118995]), 'score_time': array([0.00083947, 0.00081253, 0.000808  , 0.00080419, 0.00081158]), 'test_score': array([0.24237016, 0.44578929, 0.23488569, 0.3486553 , 0.32682748])}\n"
     ]
    },
    {
     "data": {
      "text/plain": [
       "0.3197055856789278"
      ]
     },
     "execution_count": 7,
     "metadata": {},
     "output_type": "execute_result"
    }
   ],
   "source": [
    "from sklearn.linear_model import ElasticNet\n",
    "from sklearn.model_selection import RandomizedSearchCV, cross_validate\n",
    "from scipy.stats import expon, uniform\n",
    "\n",
    "parameters = {\n",
    "    'alpha': expon(0, 1),\n",
    "    'l1_ratio': uniform(0, 1)\n",
    "}\n",
    "\n",
    "reg = RandomizedSearchCV(ElasticNet(), parameters, n_iter=2**9).fit(X, y)\n",
    "res = cross_validate(reg.best_estimator_, X, y)\n",
    "print(res)\n",
    "res['test_score'].mean()"
   ]
  },
  {
   "cell_type": "code",
   "execution_count": 8,
   "metadata": {
    "ExecuteTime": {
     "end_time": "2020-11-30T15:45:05.563484Z",
     "start_time": "2020-11-30T15:43:41.766521Z"
    }
   },
   "outputs": [
    {
     "name": "stdout",
     "output_type": "stream",
     "text": [
      "{'fit_time': array([0.01961327, 0.01568842, 0.01560187, 0.01610112, 0.18270802]), 'score_time': array([0.00124335, 0.00126791, 0.0012207 , 0.00134516, 0.001297  ]), 'test_score': array([0.30453255, 0.59247603, 0.24190705, 0.45901269, 0.43707394])}\n"
     ]
    },
    {
     "data": {
      "text/plain": [
       "0.4070004517025307"
      ]
     },
     "execution_count": 8,
     "metadata": {},
     "output_type": "execute_result"
    }
   ],
   "source": [
    "import xgboost as xgb\n",
    "from sklearn.model_selection import RandomizedSearchCV\n",
    "from sklearn.model_selection import cross_validate\n",
    "from scipy.stats import expon, uniform\n",
    "\n",
    "parameters = {\n",
    "    'eta': uniform(0, 1),\n",
    "    'gamma': expon(0, 1),\n",
    "    'max_depth': list(range(1, 6)),\n",
    "    'min_child_weight': expon(0, 1),\n",
    "    'alpha': expon(0, 1)\n",
    "}\n",
    "reg = RandomizedSearchCV(xgb.XGBRegressor(), parameters, n_iter=2**9).fit(X.values, y)\n",
    "res = cross_validate(reg.best_estimator_, X.values, y.values)\n",
    "print(res)\n",
    "res['test_score'].mean()"
   ]
  },
  {
   "cell_type": "code",
   "execution_count": 29,
   "metadata": {
    "ExecuteTime": {
     "end_time": "2020-11-30T19:32:05.872302Z",
     "start_time": "2020-11-30T19:32:05.764151Z"
    }
   },
   "outputs": [
    {
     "name": "stdout",
     "output_type": "stream",
     "text": [
      "Metrics for original model\n",
      "AUC: 0.7532\n",
      "Accuracy: 0.6861\n",
      "Disparity: 0.3456\n",
      "\n",
      "Metrics for adjusted model\n",
      "AUC: 0.7202\n",
      "Accuracy: 0.6740\n",
      "Disparity: -0.2625\n",
      "\n",
      "Metrics for human prediction\n",
      "AUC: 0.6304\n",
      "Accuracy: 0.6058\n",
      "Disparity: 0.2540\n"
     ]
    }
   ],
   "source": [
    "from sklearn.metrics import accuracy_score, roc_auc_score\n",
    "\n",
    "def fp_diff(output_white, output_black, y_white=df.y[df.black==0], y_black=df.y[df.black==1]):\n",
    "    output_white = output_white[y_white==0]\n",
    "    output_black = output_black[y_black==0]\n",
    "    return output_black.mean() / output_white.mean() - 1\n",
    "\n",
    "def print_metrics(output):\n",
    "    print('AUC: {:.4f}'.format(roc_auc_score(df.y, output)))\n",
    "    print('Accuracy: {:.4f}'.format(accuracy_score(df.y, output>.5)))\n",
    "    print('Disparity: {:.4f}'.format(fp_diff(output[df.black==0], output[df.black==1])))\n",
    "\n",
    "print('Metrics for original model')\n",
    "print_metrics(orig_model.predict_proba(X))\n",
    "print('\\nMetrics for adjusted model')\n",
    "print_metrics(adj_model.predict_proba(X))\n",
    "print('\\nMetrics for human prediction')\n",
    "print_metrics(y)"
   ]
  },
  {
   "cell_type": "code",
   "execution_count": 10,
   "metadata": {
    "ExecuteTime": {
     "end_time": "2020-11-30T15:45:23.249666Z",
     "start_time": "2020-11-30T15:45:05.684738Z"
    }
   },
   "outputs": [],
   "source": [
    "output = reg.predict(X.values)\n",
    "explainer = gshap.KernelExplainer(reg.predict, X.values, lambda x: x)\n",
    "gshap_values = explainer.gshap_values(X.values, nsamples=1000)"
   ]
  },
  {
   "cell_type": "code",
   "execution_count": 11,
   "metadata": {
    "ExecuteTime": {
     "end_time": "2020-11-30T15:45:23.262249Z",
     "start_time": "2020-11-30T15:45:23.251405Z"
    }
   },
   "outputs": [
    {
     "data": {
      "text/plain": [
       "(822, 9)"
      ]
     },
     "execution_count": 11,
     "metadata": {},
     "output_type": "execute_result"
    }
   ],
   "source": [
    "gshap_values = gshap_values.T\n",
    "gshap_values.shape"
   ]
  },
  {
   "cell_type": "code",
   "execution_count": 12,
   "metadata": {
    "ExecuteTime": {
     "end_time": "2020-11-30T15:45:23.290796Z",
     "start_time": "2020-11-30T15:45:23.266919Z"
    }
   },
   "outputs": [
    {
     "name": "stdout",
     "output_type": "stream",
     "text": [
      "\n",
      "Predicted importance rank: 1\n",
      "Accurately predicts true most important feature: 0.5076\n",
      "\n",
      "Predicted importance rank: 2\n",
      "Accurately predicts true most important feature: 0.2134\n",
      "\n",
      "Predicted importance rank: 3\n",
      "Accurately predicts true most important feature: 0.1023\n",
      "\n",
      "Predicted importance rank: 4\n",
      "Accurately predicts true most important feature: 0.1073\n",
      "\n",
      "Predicted importance rank: 5\n",
      "Accurately predicts true most important feature: 0.0492\n",
      "\n",
      "Predicted importance rank: 6\n",
      "Accurately predicts true most important feature: 0.0000\n",
      "\n",
      "Predicted importance rank: 7\n",
      "Accurately predicts true most important feature: 0.0000\n",
      "\n",
      "Predicted importance rank: 8\n",
      "Accurately predicts true most important feature: 0.0000\n",
      "\n",
      "Predicted importance rank: 9\n",
      "Accurately predicts true most important feature: 0.0202\n"
     ]
    }
   ],
   "source": [
    "most_import_feat_true = df.MostImportantFeature.map({col: i for i, col in enumerate(X.columns)})\n",
    "most_import_feat_pred = np.argsort(-abs(gshap_values), axis=1)\n",
    "isna = np.isnan(most_import_feat_true)\n",
    "most_import_feat_true = most_import_feat_true[~isna]\n",
    "most_import_feat_pred = most_import_feat_pred[~isna]\n",
    "for i in range(most_import_feat_pred.shape[1]):\n",
    "    score = accuracy_score(most_import_feat_true, most_import_feat_pred[:,i])\n",
    "    print('\\nPredicted importance rank: {}'.format(i+1))\n",
    "    print('Accurately predicts true most important feature: {:.4f}'.format(score))"
   ]
  },
  {
   "cell_type": "code",
   "execution_count": 30,
   "metadata": {
    "ExecuteTime": {
     "end_time": "2020-11-30T19:32:47.320006Z",
     "start_time": "2020-11-30T19:32:16.741518Z"
    }
   },
   "outputs": [
    {
     "name": "stdout",
     "output_type": "stream",
     "text": [
      "Computing GSHAP values for human mimicking model\n",
      "Computing GSHAP values for original model\n",
      "Computing GSHAP values for adjusted model\n"
     ]
    }
   ],
   "source": [
    "from sklearn.metrics import r2_score\n",
    "\n",
    "def get_gshap_values(model):\n",
    "    output = model(X_compas_test.values)\n",
    "    explainer = gshap.KernelExplainer(model, X_compas_train.values, lambda f_x: r2_score(output, f_x))\n",
    "    gshap_values = explainer.gshap_values(X_compas_test.values, nsamples=32)\n",
    "    return gshap_values / gshap_values.sum()\n",
    "\n",
    "print('Computing GSHAP values for human mimicking model')\n",
    "gshap_values_human = get_gshap_values(reg.predict)\n",
    "print('Computing GSHAP values for original model')\n",
    "gshap_values_orig = get_gshap_values(orig_model.predict_proba)\n",
    "print('Computing GSHAP values for adjusted model')\n",
    "gshap_values_adj = get_gshap_values(adj_model.predict_proba)"
   ]
  },
  {
   "cell_type": "code",
   "execution_count": 31,
   "metadata": {
    "ExecuteTime": {
     "end_time": "2020-11-30T19:32:48.130636Z",
     "start_time": "2020-11-30T19:32:47.488223Z"
    }
   },
   "outputs": [
    {
     "data": {
      "text/html": [
       "<div>\n",
       "<style scoped>\n",
       "    .dataframe tbody tr th:only-of-type {\n",
       "        vertical-align: middle;\n",
       "    }\n",
       "\n",
       "    .dataframe tbody tr th {\n",
       "        vertical-align: top;\n",
       "    }\n",
       "\n",
       "    .dataframe thead th {\n",
       "        text-align: right;\n",
       "    }\n",
       "</style>\n",
       "<table border=\"1\" class=\"dataframe\">\n",
       "  <thead>\n",
       "    <tr style=\"text-align: right;\">\n",
       "      <th></th>\n",
       "      <th>Variables</th>\n",
       "      <th>G-SHAP</th>\n",
       "      <th>Model</th>\n",
       "    </tr>\n",
       "  </thead>\n",
       "  <tbody>\n",
       "    <tr>\n",
       "      <th>5</th>\n",
       "      <td>priors_count</td>\n",
       "      <td>0.841959</td>\n",
       "      <td>Human</td>\n",
       "    </tr>\n",
       "    <tr>\n",
       "      <th>6</th>\n",
       "      <td>felony</td>\n",
       "      <td>0.097994</td>\n",
       "      <td>Human</td>\n",
       "    </tr>\n",
       "    <tr>\n",
       "      <th>1</th>\n",
       "      <td>age</td>\n",
       "      <td>0.033964</td>\n",
       "      <td>Human</td>\n",
       "    </tr>\n",
       "    <tr>\n",
       "      <th>7</th>\n",
       "      <td>black</td>\n",
       "      <td>0.026083</td>\n",
       "      <td>Human</td>\n",
       "    </tr>\n",
       "    <tr>\n",
       "      <th>0</th>\n",
       "      <td>male</td>\n",
       "      <td>0.000000</td>\n",
       "      <td>Human</td>\n",
       "    </tr>\n",
       "    <tr>\n",
       "      <th>8</th>\n",
       "      <td>married</td>\n",
       "      <td>0.000000</td>\n",
       "      <td>Human</td>\n",
       "    </tr>\n",
       "    <tr>\n",
       "      <th>1</th>\n",
       "      <td>juvenile_record</td>\n",
       "      <td>0.000000</td>\n",
       "      <td>Human</td>\n",
       "    </tr>\n",
       "    <tr>\n",
       "      <th>14</th>\n",
       "      <td>priors_count</td>\n",
       "      <td>0.566646</td>\n",
       "      <td>Original</td>\n",
       "    </tr>\n",
       "    <tr>\n",
       "      <th>10</th>\n",
       "      <td>age</td>\n",
       "      <td>0.229617</td>\n",
       "      <td>Original</td>\n",
       "    </tr>\n",
       "    <tr>\n",
       "      <th>2</th>\n",
       "      <td>juvenile_record</td>\n",
       "      <td>0.088643</td>\n",
       "      <td>Original</td>\n",
       "    </tr>\n",
       "    <tr>\n",
       "      <th>16</th>\n",
       "      <td>black</td>\n",
       "      <td>0.035461</td>\n",
       "      <td>Original</td>\n",
       "    </tr>\n",
       "    <tr>\n",
       "      <th>9</th>\n",
       "      <td>male</td>\n",
       "      <td>0.032438</td>\n",
       "      <td>Original</td>\n",
       "    </tr>\n",
       "    <tr>\n",
       "      <th>15</th>\n",
       "      <td>felony</td>\n",
       "      <td>0.029598</td>\n",
       "      <td>Original</td>\n",
       "    </tr>\n",
       "    <tr>\n",
       "      <th>17</th>\n",
       "      <td>married</td>\n",
       "      <td>0.017596</td>\n",
       "      <td>Original</td>\n",
       "    </tr>\n",
       "    <tr>\n",
       "      <th>23</th>\n",
       "      <td>priors_count</td>\n",
       "      <td>0.533932</td>\n",
       "      <td>Debiased</td>\n",
       "    </tr>\n",
       "    <tr>\n",
       "      <th>19</th>\n",
       "      <td>age</td>\n",
       "      <td>0.196932</td>\n",
       "      <td>Debiased</td>\n",
       "    </tr>\n",
       "    <tr>\n",
       "      <th>25</th>\n",
       "      <td>black</td>\n",
       "      <td>0.109029</td>\n",
       "      <td>Debiased</td>\n",
       "    </tr>\n",
       "    <tr>\n",
       "      <th>0</th>\n",
       "      <td>juvenile_record</td>\n",
       "      <td>0.094099</td>\n",
       "      <td>Debiased</td>\n",
       "    </tr>\n",
       "    <tr>\n",
       "      <th>24</th>\n",
       "      <td>felony</td>\n",
       "      <td>0.025582</td>\n",
       "      <td>Debiased</td>\n",
       "    </tr>\n",
       "    <tr>\n",
       "      <th>18</th>\n",
       "      <td>male</td>\n",
       "      <td>0.022748</td>\n",
       "      <td>Debiased</td>\n",
       "    </tr>\n",
       "    <tr>\n",
       "      <th>26</th>\n",
       "      <td>married</td>\n",
       "      <td>0.017677</td>\n",
       "      <td>Debiased</td>\n",
       "    </tr>\n",
       "  </tbody>\n",
       "</table>\n",
       "</div>"
      ],
      "text/plain": [
       "          Variables    G-SHAP     Model\n",
       "5      priors_count  0.841959     Human\n",
       "6            felony  0.097994     Human\n",
       "1               age  0.033964     Human\n",
       "7             black  0.026083     Human\n",
       "0              male  0.000000     Human\n",
       "8           married  0.000000     Human\n",
       "1   juvenile_record  0.000000     Human\n",
       "14     priors_count  0.566646  Original\n",
       "10              age  0.229617  Original\n",
       "2   juvenile_record  0.088643  Original\n",
       "16            black  0.035461  Original\n",
       "9              male  0.032438  Original\n",
       "15           felony  0.029598  Original\n",
       "17          married  0.017596  Original\n",
       "23     priors_count  0.533932  Debiased\n",
       "19              age  0.196932  Debiased\n",
       "25            black  0.109029  Debiased\n",
       "0   juvenile_record  0.094099  Debiased\n",
       "24           felony  0.025582  Debiased\n",
       "18             male  0.022748  Debiased\n",
       "26          married  0.017677  Debiased"
      ]
     },
     "execution_count": 31,
     "metadata": {},
     "output_type": "execute_result"
    },
    {
     "data": {
      "image/png": "[encoded data removed]",
      "text/plain": [
       "<Figure size 432x288 with 1 Axes>"
      ]
     },
     "metadata": {
      "needs_background": "light"
     },
     "output_type": "display_data"
    }
   ],
   "source": [
    "import seaborn as sns\n",
    "\n",
    "def get_gshap_df(gshap_values_human, gshap_values_orig, gshap_values_adj):\n",
    "    n_cols = len(X.columns)\n",
    "    gshap_df = pd.DataFrame({\n",
    "        'Variables': list(X.columns) * 3, \n",
    "        'G-SHAP': list(gshap_values_human) + list(gshap_values_orig) + list(gshap_values_adj),\n",
    "        'Model': ['Human'] * n_cols + ['Original'] * n_cols + ['Debiased'] * n_cols\n",
    "    })\n",
    "    juv_offenses = ['juv_fel_count', 'juv_misd_count', 'juv_other_count']\n",
    "    juv_df = gshap_df[gshap_df.Variables.isin(juv_offenses)]\n",
    "    juv_df = juv_df.groupby('Model').sum().reset_index()\n",
    "    juv_df['Variables'] = 'juvenile_record'\n",
    "    gshap_df = gshap_df.append(juv_df)\n",
    "    gshap_df = gshap_df[~gshap_df.Variables.isin(juv_offenses)]\n",
    "    gshap_df['Model'] = pd.Categorical(gshap_df.Model, categories=['Human', 'Original', 'Debiased'])\n",
    "    return gshap_df.sort_values(['Model', 'G-SHAP'], ascending=[True, False])\n",
    "\n",
    "gshap_df = get_gshap_df(gshap_values_human, gshap_values_orig, gshap_values_adj)\n",
    "ax = sns.barplot(y='Variables', x='G-SHAP', hue='Model', data=gshap_df)\n",
    "ax.set(xlabel='Explained variance (computed using G-SHAP)')\n",
    "ax.figure.savefig('figures/comparison_importance.png', bbox_inches = \"tight\")\n",
    "gshap_df"
   ]
  },
  {
   "cell_type": "code",
   "execution_count": 15,
   "metadata": {
    "ExecuteTime": {
     "end_time": "2020-11-30T15:49:55.316180Z",
     "start_time": "2020-11-30T15:47:36.470601Z"
    }
   },
   "outputs": [
    {
     "name": "stdout",
     "output_type": "stream",
     "text": [
      "Computing GSHAP values for human mimicking model\n",
      "Computing GSHAP values for original model\n",
      "Computing GSHAP values for adjusted model\n"
     ]
    }
   ],
   "source": [
    "from gshap.intergroup import IntergroupDifference\n",
    "\n",
    "from functools import partial\n",
    "\n",
    "def get_gshap_values(model):\n",
    "    g = IntergroupDifference(group=X_compas_test.black, distance=fp_diff)\n",
    "    explainer = gshap.KernelExplainer(model, X_compas_train.values, g)\n",
    "    return explainer.gshap_values(X_compas_test.values, nsamples=128)\n",
    "\n",
    "fp_diff = partial(\n",
    "    fp_diff, \n",
    "    y_white=y_compas_test[X_compas_test.black==0],\n",
    "    y_black=y_compas_test[X_compas_test.black==1]\n",
    ")\n",
    "print('Computing GSHAP values for human mimicking model')\n",
    "gshap_values_human = get_gshap_values(reg.predict)\n",
    "print('Computing GSHAP values for original model')\n",
    "gshap_values_orig = get_gshap_values(orig_model.predict_proba)\n",
    "print('Computing GSHAP values for adjusted model')\n",
    "gshap_values_adj = get_gshap_values(adj_model.predict_proba)"
   ]
  },
  {
   "cell_type": "code",
   "execution_count": 20,
   "metadata": {
    "ExecuteTime": {
     "end_time": "2020-11-30T16:07:47.153634Z",
     "start_time": "2020-11-30T16:07:46.497714Z"
    }
   },
   "outputs": [
    {
     "data": {
      "text/html": [
       "<div>\n",
       "<style scoped>\n",
       "    .dataframe tbody tr th:only-of-type {\n",
       "        vertical-align: middle;\n",
       "    }\n",
       "\n",
       "    .dataframe tbody tr th {\n",
       "        vertical-align: top;\n",
       "    }\n",
       "\n",
       "    .dataframe thead th {\n",
       "        text-align: right;\n",
       "    }\n",
       "</style>\n",
       "<table border=\"1\" class=\"dataframe\">\n",
       "  <thead>\n",
       "    <tr style=\"text-align: right;\">\n",
       "      <th></th>\n",
       "      <th>Variables</th>\n",
       "      <th>G-SHAP</th>\n",
       "      <th>Model</th>\n",
       "    </tr>\n",
       "  </thead>\n",
       "  <tbody>\n",
       "    <tr>\n",
       "      <th>5</th>\n",
       "      <td>priors_count</td>\n",
       "      <td>0.091634</td>\n",
       "      <td>Human</td>\n",
       "    </tr>\n",
       "    <tr>\n",
       "      <th>7</th>\n",
       "      <td>black</td>\n",
       "      <td>0.068677</td>\n",
       "      <td>Human</td>\n",
       "    </tr>\n",
       "    <tr>\n",
       "      <th>6</th>\n",
       "      <td>felony</td>\n",
       "      <td>0.022569</td>\n",
       "      <td>Human</td>\n",
       "    </tr>\n",
       "    <tr>\n",
       "      <th>1</th>\n",
       "      <td>age</td>\n",
       "      <td>0.021826</td>\n",
       "      <td>Human</td>\n",
       "    </tr>\n",
       "    <tr>\n",
       "      <th>0</th>\n",
       "      <td>male</td>\n",
       "      <td>0.000000</td>\n",
       "      <td>Human</td>\n",
       "    </tr>\n",
       "    <tr>\n",
       "      <th>8</th>\n",
       "      <td>married</td>\n",
       "      <td>0.000000</td>\n",
       "      <td>Human</td>\n",
       "    </tr>\n",
       "    <tr>\n",
       "      <th>1</th>\n",
       "      <td>juvenile_record</td>\n",
       "      <td>0.000000</td>\n",
       "      <td>Human</td>\n",
       "    </tr>\n",
       "    <tr>\n",
       "      <th>14</th>\n",
       "      <td>priors_count</td>\n",
       "      <td>0.095250</td>\n",
       "      <td>Original</td>\n",
       "    </tr>\n",
       "    <tr>\n",
       "      <th>10</th>\n",
       "      <td>age</td>\n",
       "      <td>0.058297</td>\n",
       "      <td>Original</td>\n",
       "    </tr>\n",
       "    <tr>\n",
       "      <th>16</th>\n",
       "      <td>black</td>\n",
       "      <td>0.051897</td>\n",
       "      <td>Original</td>\n",
       "    </tr>\n",
       "    <tr>\n",
       "      <th>2</th>\n",
       "      <td>juvenile_record</td>\n",
       "      <td>0.016375</td>\n",
       "      <td>Original</td>\n",
       "    </tr>\n",
       "    <tr>\n",
       "      <th>15</th>\n",
       "      <td>felony</td>\n",
       "      <td>0.015576</td>\n",
       "      <td>Original</td>\n",
       "    </tr>\n",
       "    <tr>\n",
       "      <th>17</th>\n",
       "      <td>married</td>\n",
       "      <td>0.005256</td>\n",
       "      <td>Original</td>\n",
       "    </tr>\n",
       "    <tr>\n",
       "      <th>9</th>\n",
       "      <td>male</td>\n",
       "      <td>0.000062</td>\n",
       "      <td>Original</td>\n",
       "    </tr>\n",
       "    <tr>\n",
       "      <th>23</th>\n",
       "      <td>priors_count</td>\n",
       "      <td>0.069989</td>\n",
       "      <td>Debiased</td>\n",
       "    </tr>\n",
       "    <tr>\n",
       "      <th>19</th>\n",
       "      <td>age</td>\n",
       "      <td>0.045487</td>\n",
       "      <td>Debiased</td>\n",
       "    </tr>\n",
       "    <tr>\n",
       "      <th>24</th>\n",
       "      <td>felony</td>\n",
       "      <td>0.014834</td>\n",
       "      <td>Debiased</td>\n",
       "    </tr>\n",
       "    <tr>\n",
       "      <th>0</th>\n",
       "      <td>juvenile_record</td>\n",
       "      <td>0.014110</td>\n",
       "      <td>Debiased</td>\n",
       "    </tr>\n",
       "    <tr>\n",
       "      <th>26</th>\n",
       "      <td>married</td>\n",
       "      <td>0.005178</td>\n",
       "      <td>Debiased</td>\n",
       "    </tr>\n",
       "    <tr>\n",
       "      <th>18</th>\n",
       "      <td>male</td>\n",
       "      <td>-0.000342</td>\n",
       "      <td>Debiased</td>\n",
       "    </tr>\n",
       "    <tr>\n",
       "      <th>25</th>\n",
       "      <td>black</td>\n",
       "      <td>-0.126090</td>\n",
       "      <td>Debiased</td>\n",
       "    </tr>\n",
       "  </tbody>\n",
       "</table>\n",
       "</div>"
      ],
      "text/plain": [
       "          Variables    G-SHAP     Model\n",
       "5      priors_count  0.091634     Human\n",
       "7             black  0.068677     Human\n",
       "6            felony  0.022569     Human\n",
       "1               age  0.021826     Human\n",
       "0              male  0.000000     Human\n",
       "8           married  0.000000     Human\n",
       "1   juvenile_record  0.000000     Human\n",
       "14     priors_count  0.095250  Original\n",
       "10              age  0.058297  Original\n",
       "16            black  0.051897  Original\n",
       "2   juvenile_record  0.016375  Original\n",
       "15           felony  0.015576  Original\n",
       "17          married  0.005256  Original\n",
       "9              male  0.000062  Original\n",
       "23     priors_count  0.069989  Debiased\n",
       "19              age  0.045487  Debiased\n",
       "24           felony  0.014834  Debiased\n",
       "0   juvenile_record  0.014110  Debiased\n",
       "26          married  0.005178  Debiased\n",
       "18             male -0.000342  Debiased\n",
       "25            black -0.126090  Debiased"
      ]
     },
     "execution_count": 20,
     "metadata": {},
     "output_type": "execute_result"
    },
    {
     "data": {
      "image/png": "[encoded data removed]",
      "text/plain": [
       "<Figure size 432x288 with 1 Axes>"
      ]
     },
     "metadata": {
      "needs_background": "light"
     },
     "output_type": "display_data"
    }
   ],
   "source": [
    "gshap_df = get_gshap_df(gshap_values_human, gshap_values_orig, gshap_values_adj)\n",
    "ax = sns.barplot(y='Variables', x='G-SHAP', hue='Model', data=gshap_df)\n",
    "ax.set(xlabel='Explained disparity (computed using G-SHAP)')\n",
    "ax.figure.savefig('figures/comparison_disparity.png', bbox_inches = \"tight\")\n",
    "gshap_df"
   ]
  },
  {
   "cell_type": "code",
   "execution_count": 17,
   "metadata": {
    "ExecuteTime": {
     "end_time": "2020-11-30T15:49:55.820851Z",
     "start_time": "2020-11-30T15:49:55.809508Z"
    }
   },
   "outputs": [
    {
     "data": {
      "text/html": [
       "<div>\n",
       "<style scoped>\n",
       "    .dataframe tbody tr th:only-of-type {\n",
       "        vertical-align: middle;\n",
       "    }\n",
       "\n",
       "    .dataframe tbody tr th {\n",
       "        vertical-align: top;\n",
       "    }\n",
       "\n",
       "    .dataframe thead th {\n",
       "        text-align: right;\n",
       "    }\n",
       "</style>\n",
       "<table border=\"1\" class=\"dataframe\">\n",
       "  <thead>\n",
       "    <tr style=\"text-align: right;\">\n",
       "      <th></th>\n",
       "      <th>Explained disparity</th>\n",
       "    </tr>\n",
       "    <tr>\n",
       "      <th>Model</th>\n",
       "      <th></th>\n",
       "    </tr>\n",
       "  </thead>\n",
       "  <tbody>\n",
       "    <tr>\n",
       "      <th>Human</th>\n",
       "      <td>0.204705</td>\n",
       "    </tr>\n",
       "    <tr>\n",
       "      <th>Original</th>\n",
       "      <td>0.242714</td>\n",
       "    </tr>\n",
       "    <tr>\n",
       "      <th>Debiased</th>\n",
       "      <td>0.023166</td>\n",
       "    </tr>\n",
       "  </tbody>\n",
       "</table>\n",
       "</div>"
      ],
      "text/plain": [
       "          Explained disparity\n",
       "Model                        \n",
       "Human                0.204705\n",
       "Original             0.242714\n",
       "Debiased             0.023166"
      ]
     },
     "execution_count": 17,
     "metadata": {},
     "output_type": "execute_result"
    }
   ],
   "source": [
    "gshap_df.groupby('Model').sum()"
   ]
  },
  {
   "cell_type": "code",
   "execution_count": null,
   "metadata": {},
   "outputs": [],
   "source": []
  }
 ],
 "metadata": {
  "kernelspec": {
   "display_name": "algorithm-fairness",
   "language": "python",
   "name": "algorithm-fairness"
  },
  "language_info": {
   "codemirror_mode": {
    "name": "ipython",
    "version": 3
   },
   "file_extension": ".py",
   "mimetype": "text/x-python",
   "name": "python",
   "nbconvert_exporter": "python",
   "pygments_lexer": "ipython3",
   "version": "3.6.8"
  },
  "toc": {
   "base_numbering": 1,
   "nav_menu": {},
   "number_sections": true,
   "sideBar": true,
   "skip_h1_title": false,
   "title_cell": "Table of Contents",
   "title_sidebar": "Contents",
   "toc_cell": false,
   "toc_position": {},
   "toc_section_display": true,
   "toc_window_display": false
  },
  "varInspector": {
   "cols": {
    "lenName": 16,
    "lenType": 16,
    "lenVar": 40
   },
   "kernels_config": {
    "python": {
     "delete_cmd_postfix": "",
     "delete_cmd_prefix": "del ",
     "library": "var_list.py",
     "varRefreshCmd": "print(var_dic_list())"
    },
    "r": {
     "delete_cmd_postfix": ") ",
     "delete_cmd_prefix": "rm(",
     "library": "var_list.r",
     "varRefreshCmd": "cat(var_dic_list()) "
    }
   },
   "types_to_exclude": [
    "module",
    "function",
    "builtin_function_or_method",
    "instance",
    "_Feature"
   ],
   "window_display": false
  }
 },
 "nbformat": 4,
 "nbformat_minor": 4
}
