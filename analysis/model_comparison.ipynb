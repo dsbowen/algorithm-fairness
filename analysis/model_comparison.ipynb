{
 "cells": [
  {
   "cell_type": "code",
   "execution_count": null,
   "metadata": {
    "ExecuteTime": {
     "end_time": "2020-11-03T16:37:03.511383Z",
     "start_time": "2020-11-03T16:37:02.345317Z"
    }
   },
   "outputs": [],
   "source": [
    "import pandas as pd\n",
    "import statsmodels.api as sm\n",
    "\n",
    "INFILE = '../data/model_comparison.csv'"
   ]
  },
  {
   "cell_type": "code",
   "execution_count": null,
   "metadata": {
    "ExecuteTime": {
     "end_time": "2020-11-03T16:37:03.627833Z",
     "start_time": "2020-11-03T16:37:03.548386Z"
    }
   },
   "outputs": [],
   "source": [
    "df = pd.read_csv(INFILE)\n",
    "df.head()"
   ]
  },
  {
   "cell_type": "code",
   "execution_count": null,
   "metadata": {
    "ExecuteTime": {
     "end_time": "2020-11-03T16:39:07.348545Z",
     "start_time": "2020-11-03T16:39:07.324569Z"
    }
   },
   "outputs": [],
   "source": [
    "# select participants who passed comprehension checks\n",
    "df = df[(df.ParticipantID!='test') & (df.FcastComprehension==1) & (df.BonusComprehension==1)]\n",
    "# select 'actual' forecasts (as opposed to practice forecasts)\n",
    "df = df[df.Practice==0]\n",
    "# scale forecasts to be between 0 and 1 (as opposed to 0 and 100)\n",
    "df['Fcast'] = df['Fcast'] / 100.\n",
    "# compute DVs\n",
    "df['Score'] = (df.y - df.Fcast)**2 - (df.y - df.output)**2\n",
    "df['dFPP'] = (df.Fcast - df.output).loc[(df.y==0)]\n",
    "df.values.shape"
   ]
  },
  {
   "cell_type": "code",
   "execution_count": null,
   "metadata": {
    "ExecuteTime": {
     "end_time": "2020-11-03T16:39:07.953710Z",
     "start_time": "2020-11-03T16:39:07.927341Z"
    }
   },
   "outputs": [],
   "source": [
    "# prediction performance hypothesis\n",
    "# positive coef on constant regressor indicates model outperformed human predictions\n",
    "reg = sm.OLS(df.Score, np.array([1]*len(df)))\n",
    "res = reg.fit().get_robustcov_results(cov_type='cluster', groups=df.ParticipantID)\n",
    "res.summary()"
   ]
  },
  {
   "cell_type": "code",
   "execution_count": null,
   "metadata": {
    "ExecuteTime": {
     "end_time": "2020-11-03T16:40:48.981934Z",
     "start_time": "2020-11-03T16:40:48.948463Z"
    }
   },
   "outputs": [],
   "source": [
    "# fairness hypothesis\n",
    "# positive coef on black indicates that human predictions are less fair than model predictions\n",
    "no_recid_df = df[df.y == 0]\n",
    "reg = sm.OLS(no_recid_df.dFPP, no_recid_df.black)\n",
    "res = reg.fit().get_robustcov_results(cov_type='cluster', groups=no_recid_df.ParticipantID)\n",
    "res.summary()"
   ]
  },
  {
   "cell_type": "code",
   "execution_count": null,
   "metadata": {},
   "outputs": [],
   "source": []
  }
 ],
 "metadata": {
  "kernelspec": {
   "display_name": "algorithm-fairness",
   "language": "python",
   "name": "algorithm-fairness"
  },
  "language_info": {
   "codemirror_mode": {
    "name": "ipython",
    "version": 3
   },
   "file_extension": ".py",
   "mimetype": "text/x-python",
   "name": "python",
   "nbconvert_exporter": "python",
   "pygments_lexer": "ipython3",
   "version": "3.6.8"
  },
  "toc": {
   "base_numbering": 1,
   "nav_menu": {},
   "number_sections": true,
   "sideBar": true,
   "skip_h1_title": false,
   "title_cell": "Table of Contents",
   "title_sidebar": "Contents",
   "toc_cell": false,
   "toc_position": {},
   "toc_section_display": true,
   "toc_window_display": false
  },
  "varInspector": {
   "cols": {
    "lenName": 16,
    "lenType": 16,
    "lenVar": 40
   },
   "kernels_config": {
    "python": {
     "delete_cmd_postfix": "",
     "delete_cmd_prefix": "del ",
     "library": "var_list.py",
     "varRefreshCmd": "print(var_dic_list())"
    },
    "r": {
     "delete_cmd_postfix": ") ",
     "delete_cmd_prefix": "rm(",
     "library": "var_list.r",
     "varRefreshCmd": "cat(var_dic_list()) "
    }
   },
   "types_to_exclude": [
    "module",
    "function",
    "builtin_function_or_method",
    "instance",
    "_Feature"
   ],
   "window_display": false
  }
 },
 "nbformat": 4,
 "nbformat_minor": 4
}
