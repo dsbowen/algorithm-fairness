{
 "cells": [
  {
   "cell_type": "code",
   "execution_count": 1,
   "metadata": {
    "ExecuteTime": {
     "end_time": "2020-11-03T20:30:31.613248Z",
     "start_time": "2020-11-03T20:30:30.342395Z"
    }
   },
   "outputs": [],
   "source": [
    "import numpy as np\n",
    "import pandas as pd\n",
    "import statsmodels.api as sm\n",
    "\n",
    "INFILE = '../data/model_comparison.csv'"
   ]
  },
  {
   "cell_type": "code",
   "execution_count": 2,
   "metadata": {
    "ExecuteTime": {
     "end_time": "2020-11-03T20:30:31.689701Z",
     "start_time": "2020-11-03T20:30:31.615452Z"
    }
   },
   "outputs": [
    {
     "data": {
      "text/html": [
       "<div>\n",
       "<style scoped>\n",
       "    .dataframe tbody tr th:only-of-type {\n",
       "        vertical-align: middle;\n",
       "    }\n",
       "\n",
       "    .dataframe tbody tr th {\n",
       "        vertical-align: top;\n",
       "    }\n",
       "\n",
       "    .dataframe thead th {\n",
       "        text-align: right;\n",
       "    }\n",
       "</style>\n",
       "<table border=\"1\" class=\"dataframe\">\n",
       "  <thead>\n",
       "    <tr style=\"text-align: right;\">\n",
       "      <th></th>\n",
       "      <th>ParticipantID</th>\n",
       "      <th>CompletionCode</th>\n",
       "      <th>ID</th>\n",
       "      <th>EndTime</th>\n",
       "      <th>StartTime</th>\n",
       "      <th>Status</th>\n",
       "      <th>DemographicsTime</th>\n",
       "      <th>Gender</th>\n",
       "      <th>GenderSpecify</th>\n",
       "      <th>AgeBins</th>\n",
       "      <th>...</th>\n",
       "      <th>juv_misd_count</th>\n",
       "      <th>juv_other_count</th>\n",
       "      <th>priors_count</th>\n",
       "      <th>felony</th>\n",
       "      <th>black</th>\n",
       "      <th>married</th>\n",
       "      <th>output</th>\n",
       "      <th>y</th>\n",
       "      <th>FcastTimer</th>\n",
       "      <th>next</th>\n",
       "    </tr>\n",
       "  </thead>\n",
       "  <tbody>\n",
       "    <tr>\n",
       "      <th>0</th>\n",
       "      <td>test</td>\n",
       "      <td>ceoict</td>\n",
       "      <td>2</td>\n",
       "      <td>2020-11-03 18:08:32.139990</td>\n",
       "      <td>2020-11-03 18:03:24.024457</td>\n",
       "      <td>Completed</td>\n",
       "      <td>84.897999</td>\n",
       "      <td>Male</td>\n",
       "      <td>NaN</td>\n",
       "      <td>25-29</td>\n",
       "      <td>...</td>\n",
       "      <td>0.0</td>\n",
       "      <td>0.0</td>\n",
       "      <td>2.0</td>\n",
       "      <td>1.0</td>\n",
       "      <td>1.0</td>\n",
       "      <td>0.0</td>\n",
       "      <td>0.207068</td>\n",
       "      <td>1.0</td>\n",
       "      <td>11.135189</td>\n",
       "      <td>NaN</td>\n",
       "    </tr>\n",
       "    <tr>\n",
       "      <th>1</th>\n",
       "      <td>test</td>\n",
       "      <td>ceoict</td>\n",
       "      <td>2</td>\n",
       "      <td>2020-11-03 18:08:32.139990</td>\n",
       "      <td>2020-11-03 18:03:24.024457</td>\n",
       "      <td>Completed</td>\n",
       "      <td>84.897999</td>\n",
       "      <td>Male</td>\n",
       "      <td>NaN</td>\n",
       "      <td>25-29</td>\n",
       "      <td>...</td>\n",
       "      <td>0.0</td>\n",
       "      <td>0.0</td>\n",
       "      <td>0.0</td>\n",
       "      <td>0.0</td>\n",
       "      <td>0.0</td>\n",
       "      <td>0.0</td>\n",
       "      <td>0.381263</td>\n",
       "      <td>0.0</td>\n",
       "      <td>8.531103</td>\n",
       "      <td>NaN</td>\n",
       "    </tr>\n",
       "    <tr>\n",
       "      <th>2</th>\n",
       "      <td>test</td>\n",
       "      <td>ceoict</td>\n",
       "      <td>2</td>\n",
       "      <td>2020-11-03 18:08:32.139990</td>\n",
       "      <td>2020-11-03 18:03:24.024457</td>\n",
       "      <td>Completed</td>\n",
       "      <td>84.897999</td>\n",
       "      <td>Male</td>\n",
       "      <td>NaN</td>\n",
       "      <td>25-29</td>\n",
       "      <td>...</td>\n",
       "      <td>0.0</td>\n",
       "      <td>0.0</td>\n",
       "      <td>2.0</td>\n",
       "      <td>1.0</td>\n",
       "      <td>0.0</td>\n",
       "      <td>0.0</td>\n",
       "      <td>0.403128</td>\n",
       "      <td>0.0</td>\n",
       "      <td>9.866797</td>\n",
       "      <td>NaN</td>\n",
       "    </tr>\n",
       "    <tr>\n",
       "      <th>3</th>\n",
       "      <td>test</td>\n",
       "      <td>ceoict</td>\n",
       "      <td>2</td>\n",
       "      <td>2020-11-03 18:08:32.139990</td>\n",
       "      <td>2020-11-03 18:03:24.024457</td>\n",
       "      <td>Completed</td>\n",
       "      <td>84.897999</td>\n",
       "      <td>Male</td>\n",
       "      <td>NaN</td>\n",
       "      <td>25-29</td>\n",
       "      <td>...</td>\n",
       "      <td>0.0</td>\n",
       "      <td>1.0</td>\n",
       "      <td>0.0</td>\n",
       "      <td>1.0</td>\n",
       "      <td>1.0</td>\n",
       "      <td>0.0</td>\n",
       "      <td>0.560167</td>\n",
       "      <td>1.0</td>\n",
       "      <td>13.689945</td>\n",
       "      <td>NaN</td>\n",
       "    </tr>\n",
       "    <tr>\n",
       "      <th>4</th>\n",
       "      <td>test</td>\n",
       "      <td>ceoict</td>\n",
       "      <td>2</td>\n",
       "      <td>2020-11-03 18:08:32.139990</td>\n",
       "      <td>2020-11-03 18:03:24.024457</td>\n",
       "      <td>Completed</td>\n",
       "      <td>84.897999</td>\n",
       "      <td>Male</td>\n",
       "      <td>NaN</td>\n",
       "      <td>25-29</td>\n",
       "      <td>...</td>\n",
       "      <td>0.0</td>\n",
       "      <td>0.0</td>\n",
       "      <td>7.0</td>\n",
       "      <td>1.0</td>\n",
       "      <td>1.0</td>\n",
       "      <td>0.0</td>\n",
       "      <td>0.710434</td>\n",
       "      <td>1.0</td>\n",
       "      <td>6.015892</td>\n",
       "      <td>NaN</td>\n",
       "    </tr>\n",
       "  </tbody>\n",
       "</table>\n",
       "<p>5 rows × 48 columns</p>\n",
       "</div>"
      ],
      "text/plain": [
       "  ParticipantID CompletionCode  ID                     EndTime  \\\n",
       "0          test         ceoict   2  2020-11-03 18:08:32.139990   \n",
       "1          test         ceoict   2  2020-11-03 18:08:32.139990   \n",
       "2          test         ceoict   2  2020-11-03 18:08:32.139990   \n",
       "3          test         ceoict   2  2020-11-03 18:08:32.139990   \n",
       "4          test         ceoict   2  2020-11-03 18:08:32.139990   \n",
       "\n",
       "                    StartTime     Status  DemographicsTime Gender  \\\n",
       "0  2020-11-03 18:03:24.024457  Completed         84.897999   Male   \n",
       "1  2020-11-03 18:03:24.024457  Completed         84.897999   Male   \n",
       "2  2020-11-03 18:03:24.024457  Completed         84.897999   Male   \n",
       "3  2020-11-03 18:03:24.024457  Completed         84.897999   Male   \n",
       "4  2020-11-03 18:03:24.024457  Completed         84.897999   Male   \n",
       "\n",
       "  GenderSpecify AgeBins  ...  juv_misd_count  juv_other_count  priors_count  \\\n",
       "0           NaN   25-29  ...             0.0              0.0           2.0   \n",
       "1           NaN   25-29  ...             0.0              0.0           0.0   \n",
       "2           NaN   25-29  ...             0.0              0.0           2.0   \n",
       "3           NaN   25-29  ...             0.0              1.0           0.0   \n",
       "4           NaN   25-29  ...             0.0              0.0           7.0   \n",
       "\n",
       "   felony  black  married    output    y  FcastTimer  next  \n",
       "0     1.0    1.0      0.0  0.207068  1.0   11.135189   NaN  \n",
       "1     0.0    0.0      0.0  0.381263  0.0    8.531103   NaN  \n",
       "2     1.0    0.0      0.0  0.403128  0.0    9.866797   NaN  \n",
       "3     1.0    1.0      0.0  0.560167  1.0   13.689945   NaN  \n",
       "4     1.0    1.0      0.0  0.710434  1.0    6.015892   NaN  \n",
       "\n",
       "[5 rows x 48 columns]"
      ]
     },
     "execution_count": 2,
     "metadata": {},
     "output_type": "execute_result"
    }
   ],
   "source": [
    "df = pd.read_csv(INFILE)\n",
    "df.head()"
   ]
  },
  {
   "cell_type": "code",
   "execution_count": 3,
   "metadata": {
    "ExecuteTime": {
     "end_time": "2020-11-03T20:30:31.720719Z",
     "start_time": "2020-11-03T20:30:31.693492Z"
    }
   },
   "outputs": [
    {
     "data": {
      "text/plain": [
       "(620, 50)"
      ]
     },
     "execution_count": 3,
     "metadata": {},
     "output_type": "execute_result"
    }
   ],
   "source": [
    "# select participants who passed comprehension checks\n",
    "df = df[(df.ParticipantID!='test') & (df.FcastComprehension==1) & (df.BonusComprehension==1)]\n",
    "# select 'actual' forecasts (as opposed to practice forecasts)\n",
    "df = df[df.Practice==0]\n",
    "# scale forecasts to be between 0 and 1 (as opposed to 0 and 100)\n",
    "df['Fcast'] = df['Fcast'] / 100.\n",
    "# compute DVs\n",
    "df['Score'] = (df.y - df.Fcast)**2 - (df.y - df.output)**2\n",
    "df['dFPP'] = (df.Fcast - df.output).loc[(df.y==0)]\n",
    "df.values.shape"
   ]
  },
  {
   "cell_type": "code",
   "execution_count": 4,
   "metadata": {
    "ExecuteTime": {
     "end_time": "2020-11-03T20:30:31.748268Z",
     "start_time": "2020-11-03T20:30:31.725213Z"
    }
   },
   "outputs": [
    {
     "data": {
      "text/plain": [
       "(538, 50)"
      ]
     },
     "execution_count": 4,
     "metadata": {},
     "output_type": "execute_result"
    }
   ],
   "source": [
    "# not pre-registered cell: added to remove empty values from Score column\n",
    "df = df.dropna(subset=['Score'])\n",
    "df.values.shape"
   ]
  },
  {
   "cell_type": "code",
   "execution_count": 5,
   "metadata": {
    "ExecuteTime": {
     "end_time": "2020-11-03T20:30:31.815185Z",
     "start_time": "2020-11-03T20:30:31.752899Z"
    }
   },
   "outputs": [
    {
     "data": {
      "text/html": [
       "<table class=\"simpletable\">\n",
       "<caption>OLS Regression Results</caption>\n",
       "<tr>\n",
       "  <th>Dep. Variable:</th>          <td>Score</td>      <th>  R-squared:         </th> <td>   0.000</td>\n",
       "</tr>\n",
       "<tr>\n",
       "  <th>Model:</th>                   <td>OLS</td>       <th>  Adj. R-squared:    </th> <td>   0.000</td>\n",
       "</tr>\n",
       "<tr>\n",
       "  <th>Method:</th>             <td>Least Squares</td>  <th>  F-statistic:       </th> <td>     nan</td>\n",
       "</tr>\n",
       "<tr>\n",
       "  <th>Date:</th>             <td>Tue, 03 Nov 2020</td> <th>  Prob (F-statistic):</th>  <td>   nan</td> \n",
       "</tr>\n",
       "<tr>\n",
       "  <th>Time:</th>                 <td>15:30:31</td>     <th>  Log-Likelihood:    </th> <td> -27.270</td>\n",
       "</tr>\n",
       "<tr>\n",
       "  <th>No. Observations:</th>      <td>   538</td>      <th>  AIC:               </th> <td>   56.54</td>\n",
       "</tr>\n",
       "<tr>\n",
       "  <th>Df Residuals:</th>          <td>   537</td>      <th>  BIC:               </th> <td>   60.83</td>\n",
       "</tr>\n",
       "<tr>\n",
       "  <th>Df Model:</th>              <td>     0</td>      <th>                     </th>     <td> </td>   \n",
       "</tr>\n",
       "<tr>\n",
       "  <th>Covariance Type:</th>       <td>cluster</td>     <th>                     </th>     <td> </td>   \n",
       "</tr>\n",
       "</table>\n",
       "<table class=\"simpletable\">\n",
       "<tr>\n",
       "    <td></td>       <th>coef</th>     <th>std err</th>      <th>t</th>      <th>P>|t|</th>  <th>[0.025</th>    <th>0.975]</th>  \n",
       "</tr>\n",
       "<tr>\n",
       "  <th>const</th> <td>    0.0337</td> <td>    0.012</td> <td>    2.836</td> <td> 0.006</td> <td>    0.010</td> <td>    0.057</td>\n",
       "</tr>\n",
       "</table>\n",
       "<table class=\"simpletable\">\n",
       "<tr>\n",
       "  <th>Omnibus:</th>       <td>27.760</td> <th>  Durbin-Watson:     </th> <td>   1.986</td>\n",
       "</tr>\n",
       "<tr>\n",
       "  <th>Prob(Omnibus):</th> <td> 0.000</td> <th>  Jarque-Bera (JB):  </th> <td>  34.052</td>\n",
       "</tr>\n",
       "<tr>\n",
       "  <th>Skew:</th>          <td> 0.482</td> <th>  Prob(JB):          </th> <td>4.03e-08</td>\n",
       "</tr>\n",
       "<tr>\n",
       "  <th>Kurtosis:</th>      <td> 3.768</td> <th>  Cond. No.          </th> <td>    1.00</td>\n",
       "</tr>\n",
       "</table><br/><br/>Notes:<br/>[1] Standard Errors are robust to cluster correlation (cluster)"
      ],
      "text/plain": [
       "<class 'statsmodels.iolib.summary.Summary'>\n",
       "\"\"\"\n",
       "                            OLS Regression Results                            \n",
       "==============================================================================\n",
       "Dep. Variable:                  Score   R-squared:                       0.000\n",
       "Model:                            OLS   Adj. R-squared:                  0.000\n",
       "Method:                 Least Squares   F-statistic:                       nan\n",
       "Date:                Tue, 03 Nov 2020   Prob (F-statistic):                nan\n",
       "Time:                        15:30:31   Log-Likelihood:                -27.270\n",
       "No. Observations:                 538   AIC:                             56.54\n",
       "Df Residuals:                     537   BIC:                             60.83\n",
       "Df Model:                           0                                         \n",
       "Covariance Type:              cluster                                         \n",
       "==============================================================================\n",
       "                 coef    std err          t      P>|t|      [0.025      0.975]\n",
       "------------------------------------------------------------------------------\n",
       "const          0.0337      0.012      2.836      0.006       0.010       0.057\n",
       "==============================================================================\n",
       "Omnibus:                       27.760   Durbin-Watson:                   1.986\n",
       "Prob(Omnibus):                  0.000   Jarque-Bera (JB):               34.052\n",
       "Skew:                           0.482   Prob(JB):                     4.03e-08\n",
       "Kurtosis:                       3.768   Cond. No.                         1.00\n",
       "==============================================================================\n",
       "\n",
       "Notes:\n",
       "[1] Standard Errors are robust to cluster correlation (cluster)\n",
       "\"\"\""
      ]
     },
     "execution_count": 5,
     "metadata": {},
     "output_type": "execute_result"
    }
   ],
   "source": [
    "# prediction performance hypothesis\n",
    "# positive coef on constant regressor indicates model outperformed human predictions\n",
    "reg = sm.OLS(df.Score, np.array([1]*len(df)))\n",
    "res = reg.fit().get_robustcov_results(cov_type='cluster', groups=df.ParticipantID)\n",
    "res.summary()"
   ]
  },
  {
   "cell_type": "code",
   "execution_count": 6,
   "metadata": {
    "ExecuteTime": {
     "end_time": "2020-11-03T20:30:31.865308Z",
     "start_time": "2020-11-03T20:30:31.828199Z"
    }
   },
   "outputs": [
    {
     "data": {
      "text/html": [
       "<table class=\"simpletable\">\n",
       "<caption>OLS Regression Results</caption>\n",
       "<tr>\n",
       "  <th>Dep. Variable:</th>          <td>dFPP</td>       <th>  R-squared (uncentered):</th>      <td>   0.030</td>\n",
       "</tr>\n",
       "<tr>\n",
       "  <th>Model:</th>                   <td>OLS</td>       <th>  Adj. R-squared (uncentered):</th> <td>   0.027</td>\n",
       "</tr>\n",
       "<tr>\n",
       "  <th>Method:</th>             <td>Least Squares</td>  <th>  F-statistic:       </th>          <td>   4.228</td>\n",
       "</tr>\n",
       "<tr>\n",
       "  <th>Date:</th>             <td>Tue, 03 Nov 2020</td> <th>  Prob (F-statistic):</th>           <td>0.0447</td> \n",
       "</tr>\n",
       "<tr>\n",
       "  <th>Time:</th>                 <td>15:30:31</td>     <th>  Log-Likelihood:    </th>          <td> -39.529</td>\n",
       "</tr>\n",
       "<tr>\n",
       "  <th>No. Observations:</th>      <td>   249</td>      <th>  AIC:               </th>          <td>   81.06</td>\n",
       "</tr>\n",
       "<tr>\n",
       "  <th>Df Residuals:</th>          <td>   248</td>      <th>  BIC:               </th>          <td>   84.57</td>\n",
       "</tr>\n",
       "<tr>\n",
       "  <th>Df Model:</th>              <td>     1</td>      <th>                     </th>              <td> </td>   \n",
       "</tr>\n",
       "<tr>\n",
       "  <th>Covariance Type:</th>       <td>cluster</td>     <th>                     </th>              <td> </td>   \n",
       "</tr>\n",
       "</table>\n",
       "<table class=\"simpletable\">\n",
       "<tr>\n",
       "    <td></td>       <th>coef</th>     <th>std err</th>      <th>t</th>      <th>P>|t|</th>  <th>[0.025</th>    <th>0.975]</th>  \n",
       "</tr>\n",
       "<tr>\n",
       "  <th>black</th> <td>    0.0724</td> <td>    0.035</td> <td>    2.056</td> <td> 0.045</td> <td>    0.002</td> <td>    0.143</td>\n",
       "</tr>\n",
       "</table>\n",
       "<table class=\"simpletable\">\n",
       "<tr>\n",
       "  <th>Omnibus:</th>       <td> 0.573</td> <th>  Durbin-Watson:     </th> <td>   1.631</td>\n",
       "</tr>\n",
       "<tr>\n",
       "  <th>Prob(Omnibus):</th> <td> 0.751</td> <th>  Jarque-Bera (JB):  </th> <td>   0.701</td>\n",
       "</tr>\n",
       "<tr>\n",
       "  <th>Skew:</th>          <td> 0.061</td> <th>  Prob(JB):          </th> <td>   0.704</td>\n",
       "</tr>\n",
       "<tr>\n",
       "  <th>Kurtosis:</th>      <td> 2.771</td> <th>  Cond. No.          </th> <td>    1.00</td>\n",
       "</tr>\n",
       "</table><br/><br/>Notes:<br/>[1] R² is computed without centering (uncentered) since the model does not contain a constant.<br/>[2] Standard Errors are robust to cluster correlation (cluster)"
      ],
      "text/plain": [
       "<class 'statsmodels.iolib.summary.Summary'>\n",
       "\"\"\"\n",
       "                                 OLS Regression Results                                \n",
       "=======================================================================================\n",
       "Dep. Variable:                   dFPP   R-squared (uncentered):                   0.030\n",
       "Model:                            OLS   Adj. R-squared (uncentered):              0.027\n",
       "Method:                 Least Squares   F-statistic:                              4.228\n",
       "Date:                Tue, 03 Nov 2020   Prob (F-statistic):                      0.0447\n",
       "Time:                        15:30:31   Log-Likelihood:                         -39.529\n",
       "No. Observations:                 249   AIC:                                      81.06\n",
       "Df Residuals:                     248   BIC:                                      84.57\n",
       "Df Model:                           1                                                  \n",
       "Covariance Type:              cluster                                                  \n",
       "==============================================================================\n",
       "                 coef    std err          t      P>|t|      [0.025      0.975]\n",
       "------------------------------------------------------------------------------\n",
       "black          0.0724      0.035      2.056      0.045       0.002       0.143\n",
       "==============================================================================\n",
       "Omnibus:                        0.573   Durbin-Watson:                   1.631\n",
       "Prob(Omnibus):                  0.751   Jarque-Bera (JB):                0.701\n",
       "Skew:                           0.061   Prob(JB):                        0.704\n",
       "Kurtosis:                       2.771   Cond. No.                         1.00\n",
       "==============================================================================\n",
       "\n",
       "Notes:\n",
       "[1] R² is computed without centering (uncentered) since the model does not contain a constant.\n",
       "[2] Standard Errors are robust to cluster correlation (cluster)\n",
       "\"\"\""
      ]
     },
     "execution_count": 6,
     "metadata": {},
     "output_type": "execute_result"
    }
   ],
   "source": [
    "# fairness hypothesis\n",
    "# positive coef on black indicates that human predictions are less fair than model predictions\n",
    "no_recid_df = df[df.y == 0]\n",
    "reg = sm.OLS(no_recid_df.dFPP, no_recid_df.black)\n",
    "res = reg.fit().get_robustcov_results(cov_type='cluster', groups=no_recid_df.ParticipantID)\n",
    "res.summary()"
   ]
  },
  {
   "cell_type": "code",
   "execution_count": null,
   "metadata": {},
   "outputs": [],
   "source": []
  }
 ],
 "metadata": {
  "kernelspec": {
   "display_name": "algorithm-fairness",
   "language": "python",
   "name": "algorithm-fairness"
  },
  "language_info": {
   "codemirror_mode": {
    "name": "ipython",
    "version": 3
   },
   "file_extension": ".py",
   "mimetype": "text/x-python",
   "name": "python",
   "nbconvert_exporter": "python",
   "pygments_lexer": "ipython3",
   "version": "3.6.8"
  },
  "toc": {
   "base_numbering": 1,
   "nav_menu": {},
   "number_sections": true,
   "sideBar": true,
   "skip_h1_title": false,
   "title_cell": "Table of Contents",
   "title_sidebar": "Contents",
   "toc_cell": false,
   "toc_position": {},
   "toc_section_display": true,
   "toc_window_display": false
  },
  "varInspector": {
   "cols": {
    "lenName": 16,
    "lenType": 16,
    "lenVar": 40
   },
   "kernels_config": {
    "python": {
     "delete_cmd_postfix": "",
     "delete_cmd_prefix": "del ",
     "library": "var_list.py",
     "varRefreshCmd": "print(var_dic_list())"
    },
    "r": {
     "delete_cmd_postfix": ") ",
     "delete_cmd_prefix": "rm(",
     "library": "var_list.r",
     "varRefreshCmd": "cat(var_dic_list()) "
    }
   },
   "types_to_exclude": [
    "module",
    "function",
    "builtin_function_or_method",
    "instance",
    "_Feature"
   ],
   "window_display": false
  }
 },
 "nbformat": 4,
 "nbformat_minor": 4
}
