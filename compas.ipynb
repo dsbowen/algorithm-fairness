{
 "cells": [
  {
   "cell_type": "code",
   "execution_count": 2,
   "metadata": {
    "ExecuteTime": {
     "end_time": "2020-10-30T16:37:08.578542Z",
     "start_time": "2020-10-30T16:37:07.190351Z"
    }
   },
   "outputs": [],
   "source": [
    "import gshap\n",
    "import numpy as np\n",
    "import pandas as pd\n",
    "import seaborn as sns\n",
    "import xgboost as xgb\n",
    "from gshap.datasets import load_recidivism\n",
    "from gshap.intergroup import IntergroupDifference\n",
    "from scipy.stats import ttest_ind\n",
    "from sklearn import metrics\n",
    "from sklearn.metrics import accuracy_score, confusion_matrix\n",
    "from sklearn.model_selection import train_test_split\n",
    "from sklearn.svm import SVC\n",
    "\n",
    "import random\n",
    "\n",
    "random.seed(0)\n",
    "np.random.seed(0)"
   ]
  },
  {
   "cell_type": "code",
   "execution_count": 3,
   "metadata": {
    "ExecuteTime": {
     "end_time": "2020-10-30T16:37:08.637103Z",
     "start_time": "2020-10-30T16:37:08.586769Z"
    }
   },
   "outputs": [],
   "source": [
    "recidivism = load_recidivism()\n",
    "X, y = recidivism.data, recidivism.target\n",
    "X = X.drop(columns='high_supervision')\n",
    "X_train, X_test, y_train, y_test = train_test_split(X, y)\n",
    "y_train_black = y_train[X_train['black']==1]\n",
    "y_train_white = y_train[X_train['black']==0]\n",
    "y_test_black = y_test[X_test['black']==1]\n",
    "y_test_white = y_test[X_test['black']==0]\n",
    "\n",
    "dtrain = xgb.DMatrix(X_train.values, label=y_train)\n",
    "dtest = xgb.DMatrix(X_test.values, label=y_test)\n",
    "# clf = SVC(probability=True).fit(X_train, y_train)"
   ]
  },
  {
   "cell_type": "code",
   "execution_count": 4,
   "metadata": {
    "ExecuteTime": {
     "end_time": "2020-10-30T16:37:11.857811Z",
     "start_time": "2020-10-30T16:37:11.504845Z"
    }
   },
   "outputs": [
    {
     "name": "stdout",
     "output_type": "stream",
     "text": [
      "[0]\teval-error:0.33499\ttrain-error:0.34122\n",
      "[1]\teval-error:0.32441\ttrain-error:0.33499\n",
      "[2]\teval-error:0.33437\ttrain-error:0.33811\n",
      "[3]\teval-error:0.33064\ttrain-error:0.33230\n",
      "[4]\teval-error:0.33126\ttrain-error:0.33250\n",
      "[5]\teval-error:0.32752\ttrain-error:0.32711\n",
      "[6]\teval-error:0.32565\ttrain-error:0.32379\n",
      "[7]\teval-error:0.32565\ttrain-error:0.32337\n",
      "[8]\teval-error:0.32565\ttrain-error:0.32316\n",
      "[9]\teval-error:0.32441\ttrain-error:0.32150\n"
     ]
    }
   ],
   "source": [
    "param = dict(\n",
    "    max_depth=2,\n",
    "    eta=.5,\n",
    "    objective='binary:logistic'\n",
    ")\n",
    "watchlist = [(dtest, 'eval'), (dtrain, 'train')]\n",
    "num_round = 10\n",
    "clf = xgb.train(param, dtrain, num_round, watchlist)"
   ]
  },
  {
   "cell_type": "code",
   "execution_count": 6,
   "metadata": {
    "ExecuteTime": {
     "end_time": "2020-10-30T16:39:00.033852Z",
     "start_time": "2020-10-30T16:39:00.018789Z"
    }
   },
   "outputs": [],
   "source": [
    "clf.save_model('recidivism.model')\n",
    "X_test.to_csv('X_test.csv', index=False)\n",
    "y_test.to_csv('y_test.csv', index=False)"
   ]
  },
  {
   "cell_type": "code",
   "execution_count": 7,
   "metadata": {
    "ExecuteTime": {
     "end_time": "2020-10-30T16:46:00.028857Z",
     "start_time": "2020-10-30T16:46:00.019417Z"
    }
   },
   "outputs": [],
   "source": [
    "class Model():\n",
    "    def __init__(self, clf, t=0, X=X):\n",
    "        self.clf = clf\n",
    "        self.black_idx = list(X.columns).index('black')\n",
    "        self.t = t\n",
    "        \n",
    "    def predict_proba(self, X):\n",
    "        X = X.values if isinstance(X, pd.DataFrame) else X\n",
    "        black = X[:,self.black_idx]\n",
    "        output = self.clf.predict(xgb.DMatrix(X))\n",
    "        return (\n",
    "            (output < .5)*(\n",
    "                (1-black)*output*((.5+self.t)/.5)\n",
    "                + black*output*((.5-self.t)/.5)\n",
    "            )\n",
    "            + (output >= .5)*(\n",
    "                (1-black)*(1-(1-output)*((1-.5-self.t)/(1-.5)))\n",
    "                + black*(1-(1-output)*((1-.5+self.t)/(1-.5)))\n",
    "            )\n",
    "        )\n",
    "        \n",
    "    def predict(self, X):\n",
    "        X = X.values if isinstance(X, pd.DataFrame) else X\n",
    "        black = X[:,self.black_idx]\n",
    "        output = self.clf.predict(xgb.DMatrix(X))\n",
    "        output += (1-black)*self.t - black*self.t\n",
    "        return output > .5"
   ]
  },
  {
   "cell_type": "code",
   "execution_count": 8,
   "metadata": {
    "ExecuteTime": {
     "end_time": "2020-10-30T16:46:00.993493Z",
     "start_time": "2020-10-30T16:46:00.919436Z"
    }
   },
   "outputs": [
    {
     "name": "stdout",
     "output_type": "stream",
     "text": [
      "Overall accuracy: 0.6756\n",
      "Accuracy for Blacks: 0.6960\n",
      "Accuracy for Whites: 0.6490\n",
      "AUC: 0.7321\n",
      "\n",
      "Confusion matrix for Blacks\n",
      "[[0.57142857 0.42857143]\n",
      " [0.20930233 0.79069767]]\n",
      "\n",
      "Confusion matrix for Whites\n",
      "[[0.72295515 0.27704485]\n",
      " [0.43887147 0.56112853]]\n",
      "\n",
      "Difference in false positive rate: 0.5469\n",
      "p=0.0000\n"
     ]
    }
   ],
   "source": [
    "class Metrics():\n",
    "    def __init__(self, clf, X, y):\n",
    "        self.clf, self.X, self.y = clf, X, y\n",
    "        self.white = X['black']==0\n",
    "        self.black = X['black']==1\n",
    "        self.y_white = y[self.white]\n",
    "        self.y_black = y[self.black]\n",
    "        self.compute_output()\n",
    "        \n",
    "    def compute_output(self):\n",
    "#         self.output = self.clf.predict_proba(self.X)[:,1]\n",
    "        self.output = self.clf.predict_proba(self.X)\n",
    "        self.y_pred = self.output > .5\n",
    "        self.y_pred_white = self.y_pred[self.white]\n",
    "        self.y_pred_black = self.y_pred[self.black]\n",
    "        self.y_fp_white = self.y_pred_white[self.y_white==0]\n",
    "        self.y_fp_black = self.y_pred_black[self.y_black==0]\n",
    "        \n",
    "    def report(self):\n",
    "        y, y_pred = self.y, self.y_pred\n",
    "        y_black, y_pred_black = self.y_black, self.y_pred_black\n",
    "        y_white, y_pred_white = self.y_white, self.y_pred_white\n",
    "        print('Overall accuracy: %.4f' % accuracy_score(y, y_pred))\n",
    "        print('Accuracy for Blacks: %.4f' % accuracy_score(y_black, y_pred_black))\n",
    "        print('Accuracy for Whites: %.4f' % accuracy_score(y_white, y_pred_white))\n",
    "        fpr, tpr, thresholds = metrics.roc_curve(y, self.output)\n",
    "        print('AUC: %.4f' % metrics.auc(fpr, tpr))\n",
    "        print('\\nConfusion matrix for Blacks')\n",
    "        print(confusion_matrix(y_black, y_pred_black, normalize='true'))\n",
    "        print('\\nConfusion matrix for Whites')\n",
    "        print(confusion_matrix(y_white, y_pred_white, normalize='true'))\n",
    "        fp_diff_ = fp_diff(y_pred_white, y_pred_black, y_white, y_black)\n",
    "        print('\\nDifference in false positive rate: %.4f' % fp_diff_)\n",
    "        print('p=%.4f' % ttest_ind(self.y_fp_white, self.y_fp_black, equal_var=False)[1])\n",
    "        \n",
    "\n",
    "def fp_diff(y_pred_white, y_pred_black, y_white=y_test_white, y_black=y_test_black):\n",
    "    fp_black = confusion_matrix(y_black, y_pred_black, normalize='true')[0,1]\n",
    "    fp_white = confusion_matrix(y_white, y_pred_white, normalize='true')[0,1]\n",
    "    return fp_black / fp_white - 1\n",
    "\n",
    "model = Model(clf)\n",
    "Metrics(model, X_test, y_test).report()"
   ]
  },
  {
   "cell_type": "code",
   "execution_count": 9,
   "metadata": {
    "ExecuteTime": {
     "end_time": "2020-10-30T16:46:03.646881Z",
     "start_time": "2020-10-30T16:46:01.881669Z"
    }
   },
   "outputs": [
    {
     "name": "stdout",
     "output_type": "stream",
     "text": [
      "[-0.01528754  0.17690608  0.          0.         -0.02130358  0.35135127\n",
      "  0.01841877  0.01788423  0.02156285] 0.5495320840783254\n"
     ]
    },
    {
     "data": {
      "image/png": "[encoded data removed]",
      "text/plain": [
       "<Figure size 432x288 with 1 Axes>"
      ]
     },
     "metadata": {
      "needs_background": "light"
     },
     "output_type": "display_data"
    }
   ],
   "source": [
    "g = IntergroupDifference(group=X_test['black'], distance=fp_diff)\n",
    "explainer = gshap.KernelExplainer(model.predict, X_train, g)\n",
    "gshap_values = explainer.gshap_values(X_test, nsamples=10)\n",
    "df = pd.DataFrame({'Variables': X.columns, 'Importance': 100*gshap_values})\n",
    "df = df.sort_values('Importance', ascending=False)\n",
    "sns.barplot(y='Variables', x='Importance', data=df)\n",
    "print(gshap_values, gshap_values.sum())"
   ]
  },
  {
   "cell_type": "code",
   "execution_count": 10,
   "metadata": {
    "ExecuteTime": {
     "end_time": "2020-10-30T16:46:03.769154Z",
     "start_time": "2020-10-30T16:46:03.704606Z"
    }
   },
   "outputs": [
    {
     "name": "stdout",
     "output_type": "stream",
     "text": [
      "Overall accuracy: 0.6704\n",
      "Accuracy for Blacks: 0.6906\n",
      "Accuracy for Whites: 0.6455\n",
      "AUC: 0.7323\n",
      "\n",
      "Confusion matrix for Blacks\n",
      "[[0.64088889 0.35911111]\n",
      " [0.27284595 0.72715405]]\n",
      "\n",
      "Confusion matrix for Whites\n",
      "[[0.63721325 0.36278675]\n",
      " [0.3445122  0.6554878 ]]\n",
      "\n",
      "Difference in false positive rate: -0.0101\n",
      "p=0.8544\n"
     ]
    }
   ],
   "source": [
    "model = Model(clf, t=.047)\n",
    "Metrics(model, X_train, y_train).report()"
   ]
  },
  {
   "cell_type": "code",
   "execution_count": 11,
   "metadata": {
    "ExecuteTime": {
     "end_time": "2020-10-30T16:46:07.499236Z",
     "start_time": "2020-10-30T16:46:07.438422Z"
    }
   },
   "outputs": [
    {
     "name": "stdout",
     "output_type": "stream",
     "text": [
      "Overall accuracy: 0.6787\n",
      "Accuracy for Blacks: 0.7037\n",
      "Accuracy for Whites: 0.6461\n",
      "AUC: 0.7291\n",
      "\n",
      "Confusion matrix for Blacks\n",
      "[[0.6377551  0.3622449 ]\n",
      " [0.24612403 0.75387597]]\n",
      "\n",
      "Confusion matrix for Whites\n",
      "[[0.63588391 0.36411609]\n",
      " [0.34169279 0.65830721]]\n",
      "\n",
      "Difference in false positive rate: -0.0051\n",
      "p=0.9570\n"
     ]
    }
   ],
   "source": [
    "Metrics(model, X_test, y_test).report()"
   ]
  },
  {
   "cell_type": "code",
   "execution_count": 12,
   "metadata": {
    "ExecuteTime": {
     "end_time": "2020-10-30T16:46:12.718368Z",
     "start_time": "2020-10-30T16:46:10.927365Z"
    }
   },
   "outputs": [
    {
     "name": "stdout",
     "output_type": "stream",
     "text": [
      "[-0.01616597  0.11467263  0.          0.         -0.01026093  0.16007067\n",
      "  0.00132031 -0.30323016  0.01246899] -0.04112445656527185\n"
     ]
    },
    {
     "data": {
      "image/png": "[encoded data removed]",
      "text/plain": [
       "<Figure size 432x288 with 1 Axes>"
      ]
     },
     "metadata": {
      "needs_background": "light"
     },
     "output_type": "display_data"
    }
   ],
   "source": [
    "g = IntergroupDifference(group=X_test['black'], distance=fp_diff)\n",
    "explainer = gshap.KernelExplainer(model.predict, X_train, g)\n",
    "gshap_values = explainer.gshap_values(X_test, nsamples=10)\n",
    "df = pd.DataFrame({'Variables': X.columns, 'Importance': 100*gshap_values})\n",
    "df = df.sort_values('Importance', ascending=False)\n",
    "sns.barplot(y='Variables', x='Importance', data=df)\n",
    "print(gshap_values, gshap_values.sum())"
   ]
  },
  {
   "cell_type": "code",
   "execution_count": 13,
   "metadata": {
    "ExecuteTime": {
     "end_time": "2020-10-30T16:46:14.927686Z",
     "start_time": "2020-10-30T16:46:14.907128Z"
    }
   },
   "outputs": [
    {
     "data": {
      "text/html": [
       "<div>\n",
       "<style scoped>\n",
       "    .dataframe tbody tr th:only-of-type {\n",
       "        vertical-align: middle;\n",
       "    }\n",
       "\n",
       "    .dataframe tbody tr th {\n",
       "        vertical-align: top;\n",
       "    }\n",
       "\n",
       "    .dataframe thead th {\n",
       "        text-align: right;\n",
       "    }\n",
       "</style>\n",
       "<table border=\"1\" class=\"dataframe\">\n",
       "  <thead>\n",
       "    <tr style=\"text-align: right;\">\n",
       "      <th></th>\n",
       "      <th>male</th>\n",
       "      <th>age</th>\n",
       "      <th>juv_fel_count</th>\n",
       "      <th>juv_misd_count</th>\n",
       "      <th>juv_other_count</th>\n",
       "      <th>priors_count</th>\n",
       "      <th>felony</th>\n",
       "      <th>black</th>\n",
       "      <th>married</th>\n",
       "    </tr>\n",
       "  </thead>\n",
       "  <tbody>\n",
       "    <tr>\n",
       "      <th>1916</th>\n",
       "      <td>0</td>\n",
       "      <td>35</td>\n",
       "      <td>0</td>\n",
       "      <td>0</td>\n",
       "      <td>0</td>\n",
       "      <td>2</td>\n",
       "      <td>1</td>\n",
       "      <td>1</td>\n",
       "      <td>0</td>\n",
       "    </tr>\n",
       "    <tr>\n",
       "      <th>1096</th>\n",
       "      <td>1</td>\n",
       "      <td>24</td>\n",
       "      <td>0</td>\n",
       "      <td>0</td>\n",
       "      <td>0</td>\n",
       "      <td>1</td>\n",
       "      <td>1</td>\n",
       "      <td>0</td>\n",
       "      <td>0</td>\n",
       "    </tr>\n",
       "    <tr>\n",
       "      <th>2894</th>\n",
       "      <td>1</td>\n",
       "      <td>26</td>\n",
       "      <td>0</td>\n",
       "      <td>1</td>\n",
       "      <td>3</td>\n",
       "      <td>14</td>\n",
       "      <td>1</td>\n",
       "      <td>1</td>\n",
       "      <td>0</td>\n",
       "    </tr>\n",
       "    <tr>\n",
       "      <th>733</th>\n",
       "      <td>1</td>\n",
       "      <td>30</td>\n",
       "      <td>0</td>\n",
       "      <td>0</td>\n",
       "      <td>0</td>\n",
       "      <td>1</td>\n",
       "      <td>1</td>\n",
       "      <td>0</td>\n",
       "      <td>0</td>\n",
       "    </tr>\n",
       "    <tr>\n",
       "      <th>2210</th>\n",
       "      <td>1</td>\n",
       "      <td>29</td>\n",
       "      <td>0</td>\n",
       "      <td>2</td>\n",
       "      <td>0</td>\n",
       "      <td>12</td>\n",
       "      <td>1</td>\n",
       "      <td>1</td>\n",
       "      <td>0</td>\n",
       "    </tr>\n",
       "  </tbody>\n",
       "</table>\n",
       "</div>"
      ],
      "text/plain": [
       "      male  age  juv_fel_count  juv_misd_count  juv_other_count  priors_count  \\\n",
       "1916     0   35              0               0                0             2   \n",
       "1096     1   24              0               0                0             1   \n",
       "2894     1   26              0               1                3            14   \n",
       "733      1   30              0               0                0             1   \n",
       "2210     1   29              0               2                0            12   \n",
       "\n",
       "      felony  black  married  \n",
       "1916       1      1        0  \n",
       "1096       1      0        0  \n",
       "2894       1      1        0  \n",
       "733        1      0        0  \n",
       "2210       1      1        0  "
      ]
     },
     "execution_count": 13,
     "metadata": {},
     "output_type": "execute_result"
    }
   ],
   "source": [
    "X_test.head()"
   ]
  },
  {
   "cell_type": "code",
   "execution_count": 14,
   "metadata": {
    "ExecuteTime": {
     "end_time": "2020-10-30T16:46:21.433663Z",
     "start_time": "2020-10-30T16:46:20.835533Z"
    }
   },
   "outputs": [
    {
     "name": "stdout",
     "output_type": "stream",
     "text": [
      "[-0.01760926 -0.10937452  0.          0.         -0.00502095 -0.03957073\n",
      "  0.01282353 -0.02894709  0.00231275] -0.18538627945184707\n"
     ]
    },
    {
     "data": {
      "image/png": "[encoded data removed]",
      "text/plain": [
       "<Figure size 432x288 with 1 Axes>"
      ]
     },
     "metadata": {
      "needs_background": "light"
     },
     "output_type": "display_data"
    }
   ],
   "source": [
    "x = X_test.values[0].reshape(1, -1)\n",
    "explainer = gshap.KernelExplainer(model.predict_proba, X_train)\n",
    "gshap_values = explainer.gshap_values(x, nsamples=100)\n",
    "df = pd.DataFrame({'Variables': X.columns, 'Importance': 100*gshap_values})\n",
    "df = df.sort_values('Importance', ascending=False)\n",
    "sns.barplot(y='Variables', x='Importance', data=df)\n",
    "print(gshap_values, gshap_values.sum())"
   ]
  },
  {
   "cell_type": "code",
   "execution_count": 15,
   "metadata": {
    "ExecuteTime": {
     "end_time": "2020-10-30T16:46:26.985159Z",
     "start_time": "2020-10-30T16:46:26.693659Z"
    }
   },
   "outputs": [
    {
     "data": {
      "text/plain": [
       "(0.33281384575366973, 0.517697230503082)"
      ]
     },
     "execution_count": 15,
     "metadata": {},
     "output_type": "execute_result"
    }
   ],
   "source": [
    "explainer.compare(x)"
   ]
  },
  {
   "cell_type": "code",
   "execution_count": 41,
   "metadata": {
    "ExecuteTime": {
     "end_time": "2020-10-30T15:46:26.132741Z",
     "start_time": "2020-10-30T15:46:26.111693Z"
    }
   },
   "outputs": [
    {
     "data": {
      "text/plain": [
       "0.5222083852220839"
      ]
     },
     "execution_count": 41,
     "metadata": {},
     "output_type": "execute_result"
    }
   ],
   "source": [
    "y_train.mean()"
   ]
  },
  {
   "cell_type": "code",
   "execution_count": 17,
   "metadata": {
    "ExecuteTime": {
     "end_time": "2020-10-30T17:02:52.190457Z",
     "start_time": "2020-10-30T17:02:52.138347Z"
    }
   },
   "outputs": [
    {
     "data": {
      "text/html": [
       "<div>\n",
       "<style scoped>\n",
       "    .dataframe tbody tr th:only-of-type {\n",
       "        vertical-align: middle;\n",
       "    }\n",
       "\n",
       "    .dataframe tbody tr th {\n",
       "        vertical-align: top;\n",
       "    }\n",
       "\n",
       "    .dataframe thead th {\n",
       "        text-align: right;\n",
       "    }\n",
       "</style>\n",
       "<table border=\"1\" class=\"dataframe\">\n",
       "  <thead>\n",
       "    <tr style=\"text-align: right;\">\n",
       "      <th></th>\n",
       "      <th>male</th>\n",
       "      <th>age</th>\n",
       "      <th>juv_fel_count</th>\n",
       "      <th>juv_misd_count</th>\n",
       "      <th>juv_other_count</th>\n",
       "      <th>priors_count</th>\n",
       "      <th>felony</th>\n",
       "      <th>black</th>\n",
       "      <th>married</th>\n",
       "    </tr>\n",
       "  </thead>\n",
       "  <tbody>\n",
       "    <tr>\n",
       "      <th>count</th>\n",
       "      <td>4818.000000</td>\n",
       "      <td>4818.000000</td>\n",
       "      <td>4818.000000</td>\n",
       "      <td>4818.000000</td>\n",
       "      <td>4818.000000</td>\n",
       "      <td>4818.000000</td>\n",
       "      <td>4818.000000</td>\n",
       "      <td>4818.000000</td>\n",
       "      <td>4818.000000</td>\n",
       "    </tr>\n",
       "    <tr>\n",
       "      <th>mean</th>\n",
       "      <td>0.814031</td>\n",
       "      <td>29.855749</td>\n",
       "      <td>0.081777</td>\n",
       "      <td>0.113325</td>\n",
       "      <td>0.140307</td>\n",
       "      <td>3.481112</td>\n",
       "      <td>0.656496</td>\n",
       "      <td>0.551474</td>\n",
       "      <td>0.087796</td>\n",
       "    </tr>\n",
       "    <tr>\n",
       "      <th>std</th>\n",
       "      <td>0.389122</td>\n",
       "      <td>6.891441</td>\n",
       "      <td>0.525809</td>\n",
       "      <td>0.542969</td>\n",
       "      <td>0.567830</td>\n",
       "      <td>4.709559</td>\n",
       "      <td>0.474927</td>\n",
       "      <td>0.497395</td>\n",
       "      <td>0.283027</td>\n",
       "    </tr>\n",
       "    <tr>\n",
       "      <th>min</th>\n",
       "      <td>0.000000</td>\n",
       "      <td>18.000000</td>\n",
       "      <td>0.000000</td>\n",
       "      <td>0.000000</td>\n",
       "      <td>0.000000</td>\n",
       "      <td>0.000000</td>\n",
       "      <td>0.000000</td>\n",
       "      <td>0.000000</td>\n",
       "      <td>0.000000</td>\n",
       "    </tr>\n",
       "    <tr>\n",
       "      <th>25%</th>\n",
       "      <td>1.000000</td>\n",
       "      <td>24.000000</td>\n",
       "      <td>0.000000</td>\n",
       "      <td>0.000000</td>\n",
       "      <td>0.000000</td>\n",
       "      <td>0.000000</td>\n",
       "      <td>0.000000</td>\n",
       "      <td>0.000000</td>\n",
       "      <td>0.000000</td>\n",
       "    </tr>\n",
       "    <tr>\n",
       "      <th>50%</th>\n",
       "      <td>1.000000</td>\n",
       "      <td>29.000000</td>\n",
       "      <td>0.000000</td>\n",
       "      <td>0.000000</td>\n",
       "      <td>0.000000</td>\n",
       "      <td>2.000000</td>\n",
       "      <td>1.000000</td>\n",
       "      <td>1.000000</td>\n",
       "      <td>0.000000</td>\n",
       "    </tr>\n",
       "    <tr>\n",
       "      <th>75%</th>\n",
       "      <td>1.000000</td>\n",
       "      <td>35.000000</td>\n",
       "      <td>0.000000</td>\n",
       "      <td>0.000000</td>\n",
       "      <td>0.000000</td>\n",
       "      <td>5.000000</td>\n",
       "      <td>1.000000</td>\n",
       "      <td>1.000000</td>\n",
       "      <td>0.000000</td>\n",
       "    </tr>\n",
       "    <tr>\n",
       "      <th>max</th>\n",
       "      <td>1.000000</td>\n",
       "      <td>46.000000</td>\n",
       "      <td>20.000000</td>\n",
       "      <td>13.000000</td>\n",
       "      <td>17.000000</td>\n",
       "      <td>38.000000</td>\n",
       "      <td>1.000000</td>\n",
       "      <td>1.000000</td>\n",
       "      <td>1.000000</td>\n",
       "    </tr>\n",
       "  </tbody>\n",
       "</table>\n",
       "</div>"
      ],
      "text/plain": [
       "              male          age  juv_fel_count  juv_misd_count  \\\n",
       "count  4818.000000  4818.000000    4818.000000     4818.000000   \n",
       "mean      0.814031    29.855749       0.081777        0.113325   \n",
       "std       0.389122     6.891441       0.525809        0.542969   \n",
       "min       0.000000    18.000000       0.000000        0.000000   \n",
       "25%       1.000000    24.000000       0.000000        0.000000   \n",
       "50%       1.000000    29.000000       0.000000        0.000000   \n",
       "75%       1.000000    35.000000       0.000000        0.000000   \n",
       "max       1.000000    46.000000      20.000000       13.000000   \n",
       "\n",
       "       juv_other_count  priors_count       felony        black      married  \n",
       "count      4818.000000   4818.000000  4818.000000  4818.000000  4818.000000  \n",
       "mean          0.140307      3.481112     0.656496     0.551474     0.087796  \n",
       "std           0.567830      4.709559     0.474927     0.497395     0.283027  \n",
       "min           0.000000      0.000000     0.000000     0.000000     0.000000  \n",
       "25%           0.000000      0.000000     0.000000     0.000000     0.000000  \n",
       "50%           0.000000      2.000000     1.000000     1.000000     0.000000  \n",
       "75%           0.000000      5.000000     1.000000     1.000000     0.000000  \n",
       "max          17.000000     38.000000     1.000000     1.000000     1.000000  "
      ]
     },
     "execution_count": 17,
     "metadata": {},
     "output_type": "execute_result"
    }
   ],
   "source": [
    "df = X_train.describe()\n",
    "df"
   ]
  },
  {
   "cell_type": "code",
   "execution_count": 39,
   "metadata": {
    "ExecuteTime": {
     "end_time": "2020-10-30T17:59:25.912098Z",
     "start_time": "2020-10-30T17:59:25.897988Z"
    }
   },
   "outputs": [
    {
     "data": {
      "text/plain": [
       "[843, 3803, 5106, 1607, 1171]"
      ]
     },
     "execution_count": 39,
     "metadata": {},
     "output_type": "execute_result"
    }
   ],
   "source": [
    "idx = list(X_test.sample(5).index)\n",
    "idx"
   ]
  },
  {
   "cell_type": "code",
   "execution_count": 46,
   "metadata": {
    "ExecuteTime": {
     "end_time": "2020-10-30T18:01:45.137297Z",
     "start_time": "2020-10-30T18:01:45.131246Z"
    }
   },
   "outputs": [
    {
     "data": {
      "text/plain": [
       "1171    0\n",
       "1607    0\n",
       "843     1\n",
       "3803    1\n",
       "5106    1\n",
       "Name: two_year_recid, dtype: int64"
      ]
     },
     "execution_count": 46,
     "metadata": {},
     "output_type": "execute_result"
    }
   ],
   "source": [
    "y_test[y_test.index.isin(idx)]"
   ]
  },
  {
   "cell_type": "code",
   "execution_count": 54,
   "metadata": {
    "ExecuteTime": {
     "end_time": "2020-10-30T18:09:21.205411Z",
     "start_time": "2020-10-30T18:09:21.192527Z"
    }
   },
   "outputs": [
    {
     "data": {
      "text/html": [
       "<div>\n",
       "<style scoped>\n",
       "    .dataframe tbody tr th:only-of-type {\n",
       "        vertical-align: middle;\n",
       "    }\n",
       "\n",
       "    .dataframe tbody tr th {\n",
       "        vertical-align: top;\n",
       "    }\n",
       "\n",
       "    .dataframe thead th {\n",
       "        text-align: right;\n",
       "    }\n",
       "</style>\n",
       "<table border=\"1\" class=\"dataframe\">\n",
       "  <thead>\n",
       "    <tr style=\"text-align: right;\">\n",
       "      <th></th>\n",
       "      <th>male</th>\n",
       "      <th>age</th>\n",
       "      <th>juv_fel_count</th>\n",
       "      <th>juv_misd_count</th>\n",
       "      <th>juv_other_count</th>\n",
       "      <th>priors_count</th>\n",
       "      <th>felony</th>\n",
       "      <th>black</th>\n",
       "      <th>married</th>\n",
       "    </tr>\n",
       "  </thead>\n",
       "  <tbody>\n",
       "    <tr>\n",
       "      <th>4091</th>\n",
       "      <td>1</td>\n",
       "      <td>27</td>\n",
       "      <td>0</td>\n",
       "      <td>0</td>\n",
       "      <td>0</td>\n",
       "      <td>0</td>\n",
       "      <td>0</td>\n",
       "      <td>0</td>\n",
       "      <td>1</td>\n",
       "    </tr>\n",
       "    <tr>\n",
       "      <th>695</th>\n",
       "      <td>1</td>\n",
       "      <td>34</td>\n",
       "      <td>0</td>\n",
       "      <td>0</td>\n",
       "      <td>0</td>\n",
       "      <td>1</td>\n",
       "      <td>0</td>\n",
       "      <td>1</td>\n",
       "      <td>0</td>\n",
       "    </tr>\n",
       "    <tr>\n",
       "      <th>1231</th>\n",
       "      <td>1</td>\n",
       "      <td>26</td>\n",
       "      <td>0</td>\n",
       "      <td>0</td>\n",
       "      <td>0</td>\n",
       "      <td>3</td>\n",
       "      <td>1</td>\n",
       "      <td>0</td>\n",
       "      <td>0</td>\n",
       "    </tr>\n",
       "    <tr>\n",
       "      <th>2616</th>\n",
       "      <td>1</td>\n",
       "      <td>44</td>\n",
       "      <td>0</td>\n",
       "      <td>0</td>\n",
       "      <td>0</td>\n",
       "      <td>1</td>\n",
       "      <td>1</td>\n",
       "      <td>0</td>\n",
       "      <td>0</td>\n",
       "    </tr>\n",
       "    <tr>\n",
       "      <th>233</th>\n",
       "      <td>1</td>\n",
       "      <td>35</td>\n",
       "      <td>0</td>\n",
       "      <td>0</td>\n",
       "      <td>0</td>\n",
       "      <td>0</td>\n",
       "      <td>1</td>\n",
       "      <td>1</td>\n",
       "      <td>1</td>\n",
       "    </tr>\n",
       "  </tbody>\n",
       "</table>\n",
       "</div>"
      ],
      "text/plain": [
       "      male  age  juv_fel_count  juv_misd_count  juv_other_count  priors_count  \\\n",
       "4091     1   27              0               0                0             0   \n",
       "695      1   34              0               0                0             1   \n",
       "1231     1   26              0               0                0             3   \n",
       "2616     1   44              0               0                0             1   \n",
       "233      1   35              0               0                0             0   \n",
       "\n",
       "      felony  black  married  \n",
       "4091       0      0        1  \n",
       "695        0      1        0  \n",
       "1231       1      0        0  \n",
       "2616       1      0        0  \n",
       "233        1      1        1  "
      ]
     },
     "execution_count": 54,
     "metadata": {},
     "output_type": "execute_result"
    }
   ],
   "source": [
    "from random import choices\n",
    "\n",
    "idx = choices(list(range(len(X_test))), k=5)\n",
    "X_sample = X_test.iloc[idx]\n",
    "X_sample"
   ]
  },
  {
   "cell_type": "code",
   "execution_count": 55,
   "metadata": {
    "ExecuteTime": {
     "end_time": "2020-10-30T18:09:27.535865Z",
     "start_time": "2020-10-30T18:09:27.529424Z"
    }
   },
   "outputs": [
    {
     "data": {
      "text/plain": [
       "4091    0\n",
       "695     0\n",
       "1231    1\n",
       "2616    1\n",
       "233     0\n",
       "Name: two_year_recid, dtype: int64"
      ]
     },
     "execution_count": 55,
     "metadata": {},
     "output_type": "execute_result"
    }
   ],
   "source": [
    "y_sample = y_test.iloc[idx]\n",
    "y_sample"
   ]
  },
  {
   "cell_type": "code",
   "execution_count": 57,
   "metadata": {
    "ExecuteTime": {
     "end_time": "2020-10-30T18:12:07.143366Z",
     "start_time": "2020-10-30T18:12:07.135478Z"
    }
   },
   "outputs": [
    {
     "data": {
      "text/plain": [
       "[0, 0, 1, 1, 0]"
      ]
     },
     "execution_count": 57,
     "metadata": {},
     "output_type": "execute_result"
    }
   ],
   "source": [
    "list(y_sample)"
   ]
  },
  {
   "cell_type": "code",
   "execution_count": 59,
   "metadata": {
    "ExecuteTime": {
     "end_time": "2020-10-30T18:14:53.451262Z",
     "start_time": "2020-10-30T18:14:53.439382Z"
    }
   },
   "outputs": [
    {
     "data": {
      "text/html": [
       "<div>\n",
       "<style scoped>\n",
       "    .dataframe tbody tr th:only-of-type {\n",
       "        vertical-align: middle;\n",
       "    }\n",
       "\n",
       "    .dataframe tbody tr th {\n",
       "        vertical-align: top;\n",
       "    }\n",
       "\n",
       "    .dataframe thead th {\n",
       "        text-align: right;\n",
       "    }\n",
       "</style>\n",
       "<table border=\"1\" class=\"dataframe\">\n",
       "  <thead>\n",
       "    <tr style=\"text-align: right;\">\n",
       "      <th></th>\n",
       "      <th>two_year_recid</th>\n",
       "    </tr>\n",
       "  </thead>\n",
       "  <tbody>\n",
       "    <tr>\n",
       "      <th>0</th>\n",
       "      <td>0</td>\n",
       "    </tr>\n",
       "    <tr>\n",
       "      <th>1</th>\n",
       "      <td>1</td>\n",
       "    </tr>\n",
       "    <tr>\n",
       "      <th>2</th>\n",
       "      <td>1</td>\n",
       "    </tr>\n",
       "    <tr>\n",
       "      <th>3</th>\n",
       "      <td>1</td>\n",
       "    </tr>\n",
       "    <tr>\n",
       "      <th>4</th>\n",
       "      <td>1</td>\n",
       "    </tr>\n",
       "  </tbody>\n",
       "</table>\n",
       "</div>"
      ],
      "text/plain": [
       "   two_year_recid\n",
       "0               0\n",
       "1               1\n",
       "2               1\n",
       "3               1\n",
       "4               1"
      ]
     },
     "execution_count": 59,
     "metadata": {},
     "output_type": "execute_result"
    }
   ],
   "source": [
    "y_test = pd.read_csv('y_test.csv')\n",
    "y_test.head()"
   ]
  },
  {
   "cell_type": "code",
   "execution_count": 60,
   "metadata": {
    "ExecuteTime": {
     "end_time": "2020-10-30T18:15:20.565262Z",
     "start_time": "2020-10-30T18:15:20.555907Z"
    }
   },
   "outputs": [
    {
     "data": {
      "text/plain": [
       "[3617, 1622, 2261, 3515, 3215]"
      ]
     },
     "execution_count": 60,
     "metadata": {},
     "output_type": "execute_result"
    }
   ],
   "source": [
    "from random import choices\n",
    "\n",
    "idx = choices(list(range(len(X))), k=5)\n",
    "idx"
   ]
  },
  {
   "cell_type": "code",
   "execution_count": 62,
   "metadata": {
    "ExecuteTime": {
     "end_time": "2020-10-30T18:15:34.580441Z",
     "start_time": "2020-10-30T18:15:34.572840Z"
    }
   },
   "outputs": [
    {
     "data": {
      "text/plain": [
       "3617    0\n",
       "1622    0\n",
       "2261    1\n",
       "3515    0\n",
       "3215    0\n",
       "Name: two_year_recid, dtype: int64"
      ]
     },
     "execution_count": 62,
     "metadata": {},
     "output_type": "execute_result"
    }
   ],
   "source": [
    "y_sample = y.iloc[idx]\n",
    "y_sample"
   ]
  },
  {
   "cell_type": "code",
   "execution_count": 63,
   "metadata": {
    "ExecuteTime": {
     "end_time": "2020-10-30T18:15:41.207601Z",
     "start_time": "2020-10-30T18:15:41.201177Z"
    }
   },
   "outputs": [
    {
     "data": {
      "text/plain": [
       "[0, 0, 1, 0, 0]"
      ]
     },
     "execution_count": 63,
     "metadata": {},
     "output_type": "execute_result"
    }
   ],
   "source": [
    "list(y_sample)"
   ]
  },
  {
   "cell_type": "code",
   "execution_count": null,
   "metadata": {},
   "outputs": [],
   "source": []
  }
 ],
 "metadata": {
  "kernelspec": {
   "display_name": "algorithm-fairness",
   "language": "python",
   "name": "algorithm-fairness"
  },
  "language_info": {
   "codemirror_mode": {
    "name": "ipython",
    "version": 3
   },
   "file_extension": ".py",
   "mimetype": "text/x-python",
   "name": "python",
   "nbconvert_exporter": "python",
   "pygments_lexer": "ipython3",
   "version": "3.6.8"
  },
  "toc": {
   "base_numbering": 1,
   "nav_menu": {},
   "number_sections": true,
   "sideBar": true,
   "skip_h1_title": false,
   "title_cell": "Table of Contents",
   "title_sidebar": "Contents",
   "toc_cell": false,
   "toc_position": {},
   "toc_section_display": true,
   "toc_window_display": false
  },
  "varInspector": {
   "cols": {
    "lenName": 16,
    "lenType": 16,
    "lenVar": 40
   },
   "kernels_config": {
    "python": {
     "delete_cmd_postfix": "",
     "delete_cmd_prefix": "del ",
     "library": "var_list.py",
     "varRefreshCmd": "print(var_dic_list())"
    },
    "r": {
     "delete_cmd_postfix": ") ",
     "delete_cmd_prefix": "rm(",
     "library": "var_list.r",
     "varRefreshCmd": "cat(var_dic_list()) "
    }
   },
   "types_to_exclude": [
    "module",
    "function",
    "builtin_function_or_method",
    "instance",
    "_Feature"
   ],
   "window_display": false
  }
 },
 "nbformat": 4,
 "nbformat_minor": 4
}
