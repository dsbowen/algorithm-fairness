{
 "cells": [
  {
   "cell_type": "code",
   "execution_count": 1,
   "metadata": {
    "ExecuteTime": {
     "end_time": "2020-11-24T22:58:08.701878Z",
     "start_time": "2020-11-24T22:58:06.926247Z"
    }
   },
   "outputs": [
    {
     "name": "stderr",
     "output_type": "stream",
     "text": [
      "Server initialized for eventlet.\n"
     ]
    }
   ],
   "source": [
    "import os\n",
    "try:\n",
    "    from yaml import load, CLoader as Loader\n",
    "except:\n",
    "    from yaml import load, Loader\n",
    "\n",
    "data = load(open('env.yaml'), Loader=Loader)\n",
    "os.environ.update({key: str(val) for key, val in data.items()})\n",
    "os.environ['DATABASE_URL'] = 'sqlite:///:memory:'\n",
    "os.environ['WSL_DISTRIBUTION'] = 'Ubuntu'\n",
    "\n",
    "from hemlock import push_app_context\n",
    "\n",
    "app = push_app_context()"
   ]
  },
  {
   "cell_type": "code",
   "execution_count": 24,
   "metadata": {
    "ExecuteTime": {
     "end_time": "2020-11-25T01:54:57.202597Z",
     "start_time": "2020-11-25T01:54:57.182385Z"
    }
   },
   "outputs": [
    {
     "data": {
      "text/plain": [
       "[None, None, None, None, None, None, None]"
      ]
     },
     "execution_count": 24,
     "metadata": {},
     "output_type": "execute_result"
    }
   ],
   "source": [
    "[os.remove(t) for t in app.tmpfiles if os.path.exists(t)]"
   ]
  },
  {
   "cell_type": "code",
   "execution_count": 23,
   "metadata": {
    "ExecuteTime": {
     "end_time": "2020-11-25T01:53:24.031443Z",
     "start_time": "2020-11-25T01:53:23.870490Z"
    }
   },
   "outputs": [
    {
     "data": {
      "text/plain": [
       "<Page (transient 139706623560448)>"
      ]
     },
     "execution_count": 23,
     "metadata": {},
     "output_type": "execute_result"
    }
   ],
   "source": [
    "from hemlock import Page, Blank, Label\n",
    "\n",
    "N_FCAST = 5\n",
    "\n",
    "Page(\n",
    "    Label(\n",
    "        '''\n",
    "        <p>You will now make {} predictions. You will not receive feedback, and these predictions <i>will</i> determine your bonus.</p>\n",
    "\n",
    "        <p>Additionally, your free trial using the computer model has expired. To continue using the model, we will pair you with another participant to bid for it.</p>\n",
    "\n",
    "        <p>We will enter both of your bids in a 'second-price auction'. If you outbid the other participant, you will get to keep using the model, but we will deduct the other participant's bid from your bonus. <b>The best strategy is to bid the exact amount you're willing to pay. Trying to 'game the system' by bidding more or less than you're willing to pay will make you worse off.</b></p>\n",
    "\n",
    "        <p><b>FAQ:</b> Why should I bid exactly what I'm willing to pay? Isn't it usually a good idea to underbid so I pay less?</p>\n",
    "\n",
    "        <p><b>Answer: No!</b> You're thinking of a 'first-price' auction, not a second-price auction. The difference is that, if you win, you'll pay the <i>other</i> person's bid, not your own. Economists have <a href=\"https://en.wikipedia.org/wiki/Vickrey_auction#Proof_of_dominance_of_truthful_bidding\" target=\"_blank\">mathematically proven</a> that the best thing you can do in a second-price auction is bid exactly as much as you're willing to pay.</p>\n",
    "\n",
    "        <p><b>Keep reading if you're not convinced. Otherwise, skip to the bottom of the page to enter your bid.</b></p>\n",
    "\n",
    "        <p>Imagine you're bidding for a house you plan to flip for $100,000. (This means you're willing to pay $100,000 for it). You're wondering whether to bid $80,000 or $100,000. Consider these cases.</p>\n",
    "\n",
    "        <ol>\n",
    "            <li>The other person bids $70,000. You get the house for $70,000 whether you bid $80,000 or $100,000.</li>\n",
    "            <li>The other person bids $110,000. You lose the auction whether you bid $80,000 or $100,000.</li>\n",
    "            <li>The other person bids $90,000. If you bid $80,000, you lose the auction. If you bid $100,000, you get the house for $90,000 and flip it for a $10,000 profit.</li>\n",
    "        </ol>\n",
    "\n",
    "        <p>In general, underbidding (e.g., bidding $80,000 when you're willing to pay $100,000) never makes you better off and sometimes makes you worse off. So you might as well bid the exact amount you're willing to pay.</p>\n",
    "\n",
    "        <p>The same logic applies to overbidding. Imagine you bid $120,000. The other person bids $110,000. You get the house for $110,000 but flip it for $100,000 at a loss. In general, overbidding (e.g., bidding $120,000 when you're willing to pay at most $100,000) never makes you better off and sometimes makes you worse off. So you might as well bid the exact amount you're willing to pay.</p>\n",
    "        '''.format(N_FCAST)    \n",
    "    ),\n",
    "    Blank(\n",
    "        ('''\n",
    "        <p>From previous studies, we estimate that most participants' bonuses will be $0.10 to $1.70 larger if they have the model to assist them.</p>\n",
    "\n",
    "        <p>How much are you willing to pay (bid) to continue using the model?</p>\n",
    "        <ul>\n",
    "            <li><b>I am willing to pay up to $''', ''' to continue using the model</b></li>\n",
    "            <li><b>I am unwilling to pay more than $''', ''' to continue using the model</b></li>\n",
    "            <li>This is roughly equivalent to, <b>I expect my bonus to be $''', ''' larger if I continue using the model</b></li>\n",
    "        </ul>\n",
    "        '''),\n",
    "        blank_empty='_____', prepend='$', type='number', step=.01, min=0\n",
    "    )\n",
    ").preview()"
   ]
  },
  {
   "cell_type": "code",
   "execution_count": null,
   "metadata": {},
   "outputs": [],
   "source": []
  }
 ],
 "metadata": {
  "kernelspec": {
   "display_name": "algorithm-fairness",
   "language": "python",
   "name": "algorithm-fairness"
  },
  "language_info": {
   "codemirror_mode": {
    "name": "ipython",
    "version": 3
   },
   "file_extension": ".py",
   "mimetype": "text/x-python",
   "name": "python",
   "nbconvert_exporter": "python",
   "pygments_lexer": "ipython3",
   "version": "3.6.8"
  },
  "toc": {
   "base_numbering": 1,
   "nav_menu": {},
   "number_sections": true,
   "sideBar": true,
   "skip_h1_title": false,
   "title_cell": "Table of Contents",
   "title_sidebar": "Contents",
   "toc_cell": false,
   "toc_position": {},
   "toc_section_display": true,
   "toc_window_display": false
  },
  "varInspector": {
   "cols": {
    "lenName": 16,
    "lenType": 16,
    "lenVar": 40
   },
   "kernels_config": {
    "python": {
     "delete_cmd_postfix": "",
     "delete_cmd_prefix": "del ",
     "library": "var_list.py",
     "varRefreshCmd": "print(var_dic_list())"
    },
    "r": {
     "delete_cmd_postfix": ") ",
     "delete_cmd_prefix": "rm(",
     "library": "var_list.r",
     "varRefreshCmd": "cat(var_dic_list()) "
    }
   },
   "types_to_exclude": [
    "module",
    "function",
    "builtin_function_or_method",
    "instance",
    "_Feature"
   ],
   "window_display": false
  }
 },
 "nbformat": 4,
 "nbformat_minor": 4
}
