{
 "cells": [
  {
   "cell_type": "code",
   "execution_count": 1,
   "metadata": {
    "ExecuteTime": {
     "end_time": "2020-11-22T19:09:25.284732Z",
     "start_time": "2020-11-22T19:09:23.214354Z"
    }
   },
   "outputs": [],
   "source": [
    "import os\n",
    "try:\n",
    "    from yaml import load, CLoader as Loader\n",
    "except:\n",
    "    from yaml import load, Loader\n",
    "\n",
    "data = load(open('env.yaml'), Loader=Loader)\n",
    "os.environ.update({key: str(val) for key, val in data.items()})\n",
    "os.environ['DATABASE_URL'] = 'sqlite:///:memory:'\n",
    "os.environ['WSL_DISTRIBUTION'] = 'Ubuntu'\n",
    "\n",
    "from hemlock import push_app_context\n",
    "\n",
    "app = push_app_context()"
   ]
  },
  {
   "cell_type": "code",
   "execution_count": 2,
   "metadata": {
    "ExecuteTime": {
     "end_time": "2020-11-16T23:15:21.743378Z",
     "start_time": "2020-11-16T23:15:21.717525Z"
    }
   },
   "outputs": [
    {
     "data": {
      "text/plain": [
       "[]"
      ]
     },
     "execution_count": 2,
     "metadata": {},
     "output_type": "execute_result"
    }
   ],
   "source": [
    "[os.remove(t) for t in app.tmpfiles if os.path.exists(t)]"
   ]
  },
  {
   "cell_type": "code",
   "execution_count": 7,
   "metadata": {
    "ExecuteTime": {
     "end_time": "2020-11-22T19:14:43.784451Z",
     "start_time": "2020-11-22T19:14:43.627825Z"
    }
   },
   "outputs": [
    {
     "data": {
      "text/plain": [
       "<Page (transient 140495698213464)>"
      ]
     },
     "execution_count": 7,
     "metadata": {},
     "output_type": "execute_result"
    }
   ],
   "source": [
    "from hemlock import Page, Binary, Blank, Label, Validate as V\n",
    "from hemlock.tools import show_on_event\n",
    "\n",
    "convinced = Binary(\n",
    "    '''\n",
    "    <p><b>FAQ</b>. Should I bid less for the model than I'm actually willing to pay for it?</p>\n",
    "\n",
    "    <p><b>Answer: NO!</b> We determine whether to accept your bid using an <i>incentive-compatible mechanism.</i> This is a fancy term economists use which means that you're best off when you bid exactly as much as the thing is worth to you. There's no way to game the system. Attempting to do so will make you worse off.</p>\n",
    "    ''',\n",
    "    [\n",
    "        \"I'm convinced. I'm going to bid exactly as much as the model is worth to me.\",\n",
    "        \"I'm not convinced. Please explain more.\"\n",
    "    ],\n",
    "    var='Convinced', data_rows=-1, inline=False, validate=V.require()\n",
    ")\n",
    "explain = Label(\n",
    "    '''\n",
    "    <p>We determine whether to accept your bid using the <i>Becker-DeGroot-Marschak mechanism</i> or <i>Vickrey auction</i>. Developed by a Nobel Prize-winning economist, it's mathematically proven to be 'un-gameable'. It's not important to understand how it works. What <i>is</i> important is to understand that you're best off when you bid exactly as much as the model is worth to you.</p>\n",
    "    \n",
    "    <p>For the truly skeptical, <a href=\"https://en.wikipedia.org/wiki/Vickrey_auction#Proof_of_dominance_of_truthful_bidding\" target=\"_blank\">read this</a> mathematical proof of why you should bid exactly as much as the model is worth to you.</p>\n",
    "    '''\n",
    ")\n",
    "show_on_event(explain, convinced, 0)\n",
    "Page(\n",
    "    Label(\n",
    "        '''\n",
    "        <p>You will now make {} predictions. You will not receive feedback, and these predictions <i>will</i> determine your bonus.</p>\n",
    "\n",
    "        <p>Additionally, your free trial using the computer model has expired. To continue using the model, you must place a bid for it.</p>\n",
    "\n",
    "        <p>If we accept your bid, we'll reduce your bonus and allow you to continue using the model. If we reject your bid, we won't reduce your bonus, but you can no longer see the model's predictions. The larger your bid, the more likely we are to accept it.</p>\n",
    "        '''\n",
    "    ),\n",
    "    convinced, explain,\n",
    "    Blank(\n",
    "        ('''\n",
    "        <p>Recall that there is a 1 in 10 chance we will select you to receive a bonus. From previous studies, we estimate that <b>the average participant will earn a $1 larger bonus by continuing to use the model</b>.</p>\n",
    "\n",
    "        <p>How much are you willing to bid (pay) to continue using the model?</p>\n",
    "\n",
    "        <ul>\n",
    "            <li>I am willing to pay up to ''', ''' cents to use the model</li>\n",
    "            <li>I am unwilling to pay more than ''', ''' cents to use the model</li>\n",
    "        </ul>\n",
    "        '''),\n",
    "        var='WTP', data_rows=-1, blank_empty='_____', append='cents'\n",
    "    )\n",
    ").preview()"
   ]
  },
  {
   "cell_type": "code",
   "execution_count": null,
   "metadata": {},
   "outputs": [],
   "source": []
  }
 ],
 "metadata": {
  "kernelspec": {
   "display_name": "algorithm-fairness",
   "language": "python",
   "name": "algorithm-fairness"
  },
  "language_info": {
   "codemirror_mode": {
    "name": "ipython",
    "version": 3
   },
   "file_extension": ".py",
   "mimetype": "text/x-python",
   "name": "python",
   "nbconvert_exporter": "python",
   "pygments_lexer": "ipython3",
   "version": "3.6.8"
  },
  "toc": {
   "base_numbering": 1,
   "nav_menu": {},
   "number_sections": true,
   "sideBar": true,
   "skip_h1_title": false,
   "title_cell": "Table of Contents",
   "title_sidebar": "Contents",
   "toc_cell": false,
   "toc_position": {},
   "toc_section_display": true,
   "toc_window_display": false
  },
  "varInspector": {
   "cols": {
    "lenName": 16,
    "lenType": 16,
    "lenVar": 40
   },
   "kernels_config": {
    "python": {
     "delete_cmd_postfix": "",
     "delete_cmd_prefix": "del ",
     "library": "var_list.py",
     "varRefreshCmd": "print(var_dic_list())"
    },
    "r": {
     "delete_cmd_postfix": ") ",
     "delete_cmd_prefix": "rm(",
     "library": "var_list.r",
     "varRefreshCmd": "cat(var_dic_list()) "
    }
   },
   "types_to_exclude": [
    "module",
    "function",
    "builtin_function_or_method",
    "instance",
    "_Feature"
   ],
   "window_display": false
  }
 },
 "nbformat": 4,
 "nbformat_minor": 4
}
