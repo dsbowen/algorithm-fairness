{
 "cells": [
  {
   "cell_type": "code",
   "execution_count": 1,
   "metadata": {
    "ExecuteTime": {
     "end_time": "2020-11-03T03:30:48.383752Z",
     "start_time": "2020-11-03T03:30:46.841109Z"
    }
   },
   "outputs": [],
   "source": [
    "import os\n",
    "try:\n",
    "    from yaml import load, CLoader as Loader\n",
    "except:\n",
    "    from yaml import load, Loader\n",
    "\n",
    "data = load(open('env.yaml'), Loader=Loader)\n",
    "os.environ.update({key: str(val) for key, val in data.items()})\n",
    "os.environ['DATABASE_URL'] = 'sqlite:///:memory:'\n",
    "os.environ['WSL_DISTRIBUTION'] = 'Ubuntu'\n",
    "\n",
    "from hemlock import push_app_context\n",
    "\n",
    "app = push_app_context()"
   ]
  },
  {
   "cell_type": "code",
   "execution_count": 2,
   "metadata": {
    "ExecuteTime": {
     "end_time": "2020-11-03T03:30:48.691664Z",
     "start_time": "2020-11-03T03:30:48.470180Z"
    }
   },
   "outputs": [
    {
     "data": {
      "text/plain": [
       "<Page (transient 140408596896680)>"
      ]
     },
     "execution_count": 2,
     "metadata": {},
     "output_type": "execute_result"
    }
   ],
   "source": [
    "from hemlock import Page\n",
    "\n",
    "Page(delay_forward=5000).preview()"
   ]
  },
  {
   "cell_type": "code",
   "execution_count": 3,
   "metadata": {
    "ExecuteTime": {
     "end_time": "2020-11-03T03:30:59.740475Z",
     "start_time": "2020-11-03T03:30:59.732485Z"
    }
   },
   "outputs": [
    {
     "data": {
      "text/plain": [
       "[None]"
      ]
     },
     "execution_count": 3,
     "metadata": {},
     "output_type": "execute_result"
    }
   ],
   "source": [
    "[os.remove(t) for t in app.tmpfiles if os.path.exists(t)]"
   ]
  },
  {
   "cell_type": "code",
   "execution_count": null,
   "metadata": {
    "ExecuteTime": {
     "end_time": "2020-11-02T17:43:25.586744Z",
     "start_time": "2020-11-02T17:43:24.461120Z"
    }
   },
   "outputs": [],
   "source": [
    "import pandas as pd\n",
    "\n",
    "df = pd.read_csv('pilot.csv')\n",
    "df.head()"
   ]
  },
  {
   "cell_type": "code",
   "execution_count": null,
   "metadata": {
    "ExecuteTime": {
     "end_time": "2020-11-02T17:43:30.704045Z",
     "start_time": "2020-11-02T17:43:30.696019Z"
    }
   },
   "outputs": [],
   "source": [
    "df = df[(df['Status'] == 'Completed') & (df['ParticipantID'] != 'test')]\n",
    "len(df)"
   ]
  },
  {
   "cell_type": "code",
   "execution_count": null,
   "metadata": {
    "ExecuteTime": {
     "end_time": "2020-11-02T17:43:34.551012Z",
     "start_time": "2020-11-02T17:43:34.530565Z"
    }
   },
   "outputs": [],
   "source": [
    "df['Score'] = (df['Fcast']/100. - df['y'])**2 - (df['output'] - df['y'])**2\n",
    "df['Score'].describe()"
   ]
  },
  {
   "cell_type": "code",
   "execution_count": null,
   "metadata": {
    "ExecuteTime": {
     "end_time": "2020-11-02T17:45:46.283277Z",
     "start_time": "2020-11-02T17:45:46.273843Z"
    }
   },
   "outputs": [],
   "source": [
    "bonus = 1.5*(1-df.groupby('ParticipantID').Score.mean())\n",
    "bonus"
   ]
  },
  {
   "cell_type": "code",
   "execution_count": null,
   "metadata": {
    "ExecuteTime": {
     "end_time": "2020-10-31T11:40:02.569290Z",
     "start_time": "2020-10-31T11:40:02.559376Z"
    }
   },
   "outputs": [],
   "source": [
    "df[df['Algorithm'] == 1]['Score'].describe()"
   ]
  },
  {
   "cell_type": "code",
   "execution_count": null,
   "metadata": {
    "ExecuteTime": {
     "end_time": "2020-10-31T11:40:17.271210Z",
     "start_time": "2020-10-31T11:40:17.259048Z"
    }
   },
   "outputs": [],
   "source": [
    "df[df['Algorithm'] == 0]['Score'].describe()"
   ]
  },
  {
   "cell_type": "code",
   "execution_count": null,
   "metadata": {
    "ExecuteTime": {
     "end_time": "2020-10-31T11:41:32.391378Z",
     "start_time": "2020-10-31T11:41:32.375169Z"
    }
   },
   "outputs": [],
   "source": [
    "df['FcastBin'] = (df.Fcast > .5).astype(int)\n",
    "df.FcastBin.describe()"
   ]
  },
  {
   "cell_type": "code",
   "execution_count": null,
   "metadata": {
    "ExecuteTime": {
     "end_time": "2020-10-31T12:08:06.814133Z",
     "start_time": "2020-10-31T12:08:06.783364Z"
    }
   },
   "outputs": [],
   "source": [
    "df.groupby('Algorithm')['FcastBin'].describe()"
   ]
  },
  {
   "cell_type": "code",
   "execution_count": null,
   "metadata": {
    "ExecuteTime": {
     "end_time": "2020-10-31T11:45:03.941952Z",
     "start_time": "2020-10-31T11:45:03.930216Z"
    }
   },
   "outputs": [],
   "source": [
    "nr_df = df[df['y'] == 0]\n",
    "nr_df['Fcast'].describe()"
   ]
  },
  {
   "cell_type": "code",
   "execution_count": null,
   "metadata": {
    "ExecuteTime": {
     "end_time": "2020-10-31T12:09:28.505602Z",
     "start_time": "2020-10-31T12:09:28.496519Z"
    }
   },
   "outputs": [],
   "source": [
    "nr_df.groupby(['Algorithm', 'black'])['Fcast'].mean()"
   ]
  },
  {
   "cell_type": "code",
   "execution_count": null,
   "metadata": {
    "ExecuteTime": {
     "end_time": "2020-10-31T12:09:36.879934Z",
     "start_time": "2020-10-31T12:09:36.868014Z"
    }
   },
   "outputs": [],
   "source": [
    "nr_df.groupby(['Algorithm', 'black'])['FcastBin'].mean()"
   ]
  },
  {
   "cell_type": "code",
   "execution_count": null,
   "metadata": {},
   "outputs": [],
   "source": []
  }
 ],
 "metadata": {
  "kernelspec": {
   "display_name": "algorithm-fairness",
   "language": "python",
   "name": "algorithm-fairness"
  },
  "language_info": {
   "codemirror_mode": {
    "name": "ipython",
    "version": 3
   },
   "file_extension": ".py",
   "mimetype": "text/x-python",
   "name": "python",
   "nbconvert_exporter": "python",
   "pygments_lexer": "ipython3",
   "version": "3.6.8"
  },
  "toc": {
   "base_numbering": 1,
   "nav_menu": {},
   "number_sections": true,
   "sideBar": true,
   "skip_h1_title": false,
   "title_cell": "Table of Contents",
   "title_sidebar": "Contents",
   "toc_cell": false,
   "toc_position": {},
   "toc_section_display": true,
   "toc_window_display": false
  },
  "varInspector": {
   "cols": {
    "lenName": 16,
    "lenType": 16,
    "lenVar": 40
   },
   "kernels_config": {
    "python": {
     "delete_cmd_postfix": "",
     "delete_cmd_prefix": "del ",
     "library": "var_list.py",
     "varRefreshCmd": "print(var_dic_list())"
    },
    "r": {
     "delete_cmd_postfix": ") ",
     "delete_cmd_prefix": "rm(",
     "library": "var_list.r",
     "varRefreshCmd": "cat(var_dic_list()) "
    }
   },
   "types_to_exclude": [
    "module",
    "function",
    "builtin_function_or_method",
    "instance",
    "_Feature"
   ],
   "window_display": false
  }
 },
 "nbformat": 4,
 "nbformat_minor": 4
}
