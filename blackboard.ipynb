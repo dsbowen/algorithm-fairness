{
 "cells": [
  {
   "cell_type": "code",
   "execution_count": 1,
   "metadata": {
    "ExecuteTime": {
     "end_time": "2020-11-16T23:15:21.714557Z",
     "start_time": "2020-11-16T23:15:19.304950Z"
    }
   },
   "outputs": [],
   "source": [
    "import os\n",
    "try:\n",
    "    from yaml import load, CLoader as Loader\n",
    "except:\n",
    "    from yaml import load, Loader\n",
    "\n",
    "data = load(open('env.yaml'), Loader=Loader)\n",
    "os.environ.update({key: str(val) for key, val in data.items()})\n",
    "os.environ['DATABASE_URL'] = 'sqlite:///:memory:'\n",
    "os.environ['WSL_DISTRIBUTION'] = 'Ubuntu'\n",
    "\n",
    "from hemlock import push_app_context\n",
    "\n",
    "app = push_app_context()"
   ]
  },
  {
   "cell_type": "code",
   "execution_count": 2,
   "metadata": {
    "ExecuteTime": {
     "end_time": "2020-11-16T23:15:21.743378Z",
     "start_time": "2020-11-16T23:15:21.717525Z"
    }
   },
   "outputs": [
    {
     "data": {
      "text/plain": [
       "[]"
      ]
     },
     "execution_count": 2,
     "metadata": {},
     "output_type": "execute_result"
    }
   ],
   "source": [
    "[os.remove(t) for t in app.tmpfiles if os.path.exists(t)]"
   ]
  },
  {
   "cell_type": "code",
   "execution_count": 3,
   "metadata": {
    "ExecuteTime": {
     "end_time": "2020-11-16T23:15:22.989162Z",
     "start_time": "2020-11-16T23:15:21.751315Z"
    }
   },
   "outputs": [
    {
     "name": "stderr",
     "output_type": "stream",
     "text": [
      "/home/dsbowen/algorithm-fairness/venv/lib/python3.6/site-packages/tpot/builtins/__init__.py:36: UserWarning: Warning: optional dependency `torch` is not available. - skipping import of NN models.\n",
      "  warnings.warn(\"Warning: optional dependency `torch` is not available. - skipping import of NN models.\")\n"
     ]
    }
   ],
   "source": [
    "from survey.utils import X_test, y_test, model, gen_profile_table, explainer"
   ]
  },
  {
   "cell_type": "code",
   "execution_count": 4,
   "metadata": {
    "ExecuteTime": {
     "end_time": "2020-11-16T23:15:23.043392Z",
     "start_time": "2020-11-16T23:15:22.993352Z"
    }
   },
   "outputs": [
    {
     "data": {
      "text/plain": [
       "male                1\n",
       "age                22\n",
       "juv_fel_count       0\n",
       "juv_misd_count      1\n",
       "juv_other_count     0\n",
       "priors_count        3\n",
       "felony              1\n",
       "black               1\n",
       "married             0\n",
       "Name: 4119, dtype: int64"
      ]
     },
     "execution_count": 4,
     "metadata": {},
     "output_type": "execute_result"
    }
   ],
   "source": [
    "import random\n",
    "\n",
    "idx = random.choice(list(range(len(X_test))))\n",
    "x, y = X_test.iloc[idx], y_test.iloc[idx]\n",
    "x"
   ]
  },
  {
   "cell_type": "code",
   "execution_count": 5,
   "metadata": {
    "ExecuteTime": {
     "end_time": "2020-11-16T23:15:23.119203Z",
     "start_time": "2020-11-16T23:15:23.053257Z"
    }
   },
   "outputs": [
    {
     "data": {
      "text/plain": [
       "array([0.6563937])"
      ]
     },
     "execution_count": 5,
     "metadata": {},
     "output_type": "execute_result"
    }
   ],
   "source": [
    "output = model.predict_proba(x.values)\n",
    "output"
   ]
  },
  {
   "cell_type": "code",
   "execution_count": 6,
   "metadata": {
    "ExecuteTime": {
     "end_time": "2020-11-16T23:15:23.134817Z",
     "start_time": "2020-11-16T23:15:23.122191Z"
    }
   },
   "outputs": [
    {
     "name": "stdout",
     "output_type": "stream",
     "text": [
      "<table class=\"table table-hover\">\n",
      "    <thead>\n",
      "        <tr>\n",
      "            <th scope=\"col\">Information about the criminal population in Broward County, Florida</th>\n",
      "<th scope=\"col\">Offender profile</th>\n",
      "        </tr>\n",
      "    </thead>\n",
      "    <tbody>\n",
      "        <tr><td>The average offender has 2 prior convictions</td>\n",
      "<td><i>Number of prior convictions:</i> 3</td></tr>\n",
      "<tr><td>The average offender is 29 years old</td>\n",
      "<td><i>Age:</i> 22</td></tr>\n",
      "<tr><td>66 of every 100 offenders' most recent crime was a felony</td>\n",
      "<td><i>Most recent crime:</i> Felony</td></tr>\n",
      "<tr><td>55 of every 100 offenders are Black</td>\n",
      "<td><i>Race:</i> Black</td></tr>\n",
      "<tr><td>81 of every 100 offenders are male</td>\n",
      "<td><i>Sex:</i> Male</td></tr>\n",
      "<tr><td>The average offender has 0 juvenile felonies, 0 juvenile misdemeanors, and 0 other juvenile offenses</td>\n",
      "<td>This offender has 0 juvenile felonies, 1 juvenile misdemeanors, and 0 other juvenile offenses</td></tr>\n",
      "<tr><td>9 of every 100 offenders are married</td>\n",
      "<td><i>Marital status:</i> Unmarried</td></tr>\n",
      "    </tbody>\n",
      "</table>\n"
     ]
    }
   ],
   "source": [
    "print(gen_profile_table(x, 'Offender profile'))"
   ]
  },
  {
   "cell_type": "code",
   "execution_count": 7,
   "metadata": {
    "ExecuteTime": {
     "end_time": "2020-11-16T23:15:37.590389Z",
     "start_time": "2020-11-16T23:15:23.175591Z"
    }
   },
   "outputs": [
    {
     "data": {
      "text/plain": [
       "['<p>The average offender has a 52 in 100 chance of committing another crime within 2 years.</p><p>The most important factor when considering this specific offender is age. Younger offenders are more likely to commit future crimes. This offender is <b>much younger</b> than most offenders. This <b>increases</b> the chances the offender will commit another crime to 62 in 100.</p>\\n<p>Additionally, offenders with more juvenile offenses are more likely to commit future crimes. This offender has <b>more juvenile offenses</b> than most offenders. This <b>increases</b> the chances the offender will commit another crime to 66 in 100.</p>\\n            <p>After making small adjustments for other factors, my final estimate is that there is a <b>66 in 100</b> chance the offender will commit another crime within 2 years.</p>\\n            ']"
      ]
     },
     "execution_count": 7,
     "metadata": {},
     "output_type": "execute_result"
    }
   ],
   "source": [
    "explainer.explain_observations(x)"
   ]
  },
  {
   "cell_type": "code",
   "execution_count": 8,
   "metadata": {
    "ExecuteTime": {
     "end_time": "2020-11-16T23:20:41.588915Z",
     "start_time": "2020-11-16T23:20:41.581047Z"
    }
   },
   "outputs": [
    {
     "data": {
      "text/plain": [
       "66"
      ]
     },
     "execution_count": 8,
     "metadata": {},
     "output_type": "execute_result"
    }
   ],
   "source": [
    "round(100*output[0])"
   ]
  },
  {
   "cell_type": "code",
   "execution_count": 10,
   "metadata": {
    "ExecuteTime": {
     "end_time": "2020-11-16T23:29:43.711769Z",
     "start_time": "2020-11-16T23:29:43.701115Z"
    }
   },
   "outputs": [
    {
     "data": {
      "text/plain": [
       "a    1\n",
       "b    2\n",
       "c    3\n",
       "dtype: int64"
      ]
     },
     "execution_count": 10,
     "metadata": {},
     "output_type": "execute_result"
    }
   ],
   "source": [
    "import pandas as pd\n",
    "\n",
    "x = pd.Series([1, 2, 3], index=['a', 'b', 'c'])\n",
    "x"
   ]
  },
  {
   "cell_type": "code",
   "execution_count": 13,
   "metadata": {
    "ExecuteTime": {
     "end_time": "2020-11-16T23:35:52.047576Z",
     "start_time": "2020-11-16T23:35:52.029750Z"
    }
   },
   "outputs": [
    {
     "data": {
      "text/html": [
       "<div>\n",
       "<style scoped>\n",
       "    .dataframe tbody tr th:only-of-type {\n",
       "        vertical-align: middle;\n",
       "    }\n",
       "\n",
       "    .dataframe tbody tr th {\n",
       "        vertical-align: top;\n",
       "    }\n",
       "\n",
       "    .dataframe thead th {\n",
       "        text-align: right;\n",
       "    }\n",
       "</style>\n",
       "<table border=\"1\" class=\"dataframe\">\n",
       "  <thead>\n",
       "    <tr style=\"text-align: right;\">\n",
       "      <th></th>\n",
       "      <th>priors_count</th>\n",
       "      <th>age</th>\n",
       "      <th>felony</th>\n",
       "      <th>black</th>\n",
       "      <th>male</th>\n",
       "      <th>juv_fel_count</th>\n",
       "      <th>juv_misd_count</th>\n",
       "      <th>juv_other_count</th>\n",
       "      <th>married</th>\n",
       "    </tr>\n",
       "  </thead>\n",
       "  <tbody>\n",
       "    <tr>\n",
       "      <th>0</th>\n",
       "      <td>0</td>\n",
       "      <td>26</td>\n",
       "      <td>1</td>\n",
       "      <td>0</td>\n",
       "      <td>1</td>\n",
       "      <td>0</td>\n",
       "      <td>0</td>\n",
       "      <td>0</td>\n",
       "      <td>0</td>\n",
       "    </tr>\n",
       "  </tbody>\n",
       "</table>\n",
       "</div>"
      ],
      "text/plain": [
       "   priors_count  age  felony  black  male  juv_fel_count  juv_misd_count  \\\n",
       "0             0   26       1      0     1              0               0   \n",
       "\n",
       "   juv_other_count  married  \n",
       "0                0        0  "
      ]
     },
     "execution_count": 13,
     "metadata": {},
     "output_type": "execute_result"
    }
   ],
   "source": [
    "x = pd.Series(\n",
    "    [0, 26, 1, 0, 1, 0, 0, 0, 0],\n",
    "    index=[\n",
    "        'priors_count',\n",
    "        'age',\n",
    "        'felony',\n",
    "        'black',\n",
    "        'male',\n",
    "        'juv_fel_count',\n",
    "        'juv_misd_count',\n",
    "        'juv_other_count',\n",
    "        'married'\n",
    "    ]\n",
    ")\n",
    "x.to_frame().T"
   ]
  },
  {
   "cell_type": "code",
   "execution_count": 14,
   "metadata": {
    "ExecuteTime": {
     "end_time": "2020-11-16T23:36:16.840005Z",
     "start_time": "2020-11-16T23:36:16.828219Z"
    }
   },
   "outputs": [
    {
     "data": {
      "text/html": [
       "<div>\n",
       "<style scoped>\n",
       "    .dataframe tbody tr th:only-of-type {\n",
       "        vertical-align: middle;\n",
       "    }\n",
       "\n",
       "    .dataframe tbody tr th {\n",
       "        vertical-align: top;\n",
       "    }\n",
       "\n",
       "    .dataframe thead th {\n",
       "        text-align: right;\n",
       "    }\n",
       "</style>\n",
       "<table border=\"1\" class=\"dataframe\">\n",
       "  <thead>\n",
       "    <tr style=\"text-align: right;\">\n",
       "      <th></th>\n",
       "      <th>male</th>\n",
       "      <th>age</th>\n",
       "      <th>juv_fel_count</th>\n",
       "      <th>juv_misd_count</th>\n",
       "      <th>juv_other_count</th>\n",
       "      <th>priors_count</th>\n",
       "      <th>felony</th>\n",
       "      <th>black</th>\n",
       "      <th>married</th>\n",
       "    </tr>\n",
       "  </thead>\n",
       "  <tbody>\n",
       "    <tr>\n",
       "      <th>0</th>\n",
       "      <td>1</td>\n",
       "      <td>26</td>\n",
       "      <td>0</td>\n",
       "      <td>0</td>\n",
       "      <td>0</td>\n",
       "      <td>0</td>\n",
       "      <td>1</td>\n",
       "      <td>0</td>\n",
       "      <td>0</td>\n",
       "    </tr>\n",
       "  </tbody>\n",
       "</table>\n",
       "</div>"
      ],
      "text/plain": [
       "   male  age  juv_fel_count  juv_misd_count  juv_other_count  priors_count  \\\n",
       "0     1   26              0               0                0             0   \n",
       "\n",
       "   felony  black  married  \n",
       "0       1      0        0  "
      ]
     },
     "execution_count": 14,
     "metadata": {},
     "output_type": "execute_result"
    }
   ],
   "source": [
    "tmp = x.to_frame().T[X_test.columns]\n",
    "tmp"
   ]
  },
  {
   "cell_type": "code",
   "execution_count": 15,
   "metadata": {
    "ExecuteTime": {
     "end_time": "2020-11-16T23:41:32.213180Z",
     "start_time": "2020-11-16T23:41:32.205774Z"
    }
   },
   "outputs": [
    {
     "data": {
      "text/plain": [
       "priors_count        0\n",
       "age                26\n",
       "felony              1\n",
       "black               0\n",
       "male                1\n",
       "juv_fel_count       0\n",
       "juv_misd_count      0\n",
       "juv_other_count     0\n",
       "married             0\n",
       "dtype: int64"
      ]
     },
     "execution_count": 15,
     "metadata": {},
     "output_type": "execute_result"
    }
   ],
   "source": [
    "x.astype(int)"
   ]
  },
  {
   "cell_type": "code",
   "execution_count": 16,
   "metadata": {
    "ExecuteTime": {
     "end_time": "2020-11-16T23:44:14.678302Z",
     "start_time": "2020-11-16T23:44:14.670053Z"
    }
   },
   "outputs": [
    {
     "data": {
      "text/plain": [
       "male                1\n",
       "age                26\n",
       "juv_fel_count       0\n",
       "juv_misd_count      0\n",
       "juv_other_count     0\n",
       "priors_count        0\n",
       "felony              1\n",
       "black               0\n",
       "married             0\n",
       "dtype: int64"
      ]
     },
     "execution_count": 16,
     "metadata": {},
     "output_type": "execute_result"
    }
   ],
   "source": [
    "x = x[X_test.columns]\n",
    "x"
   ]
  },
  {
   "cell_type": "code",
   "execution_count": null,
   "metadata": {},
   "outputs": [],
   "source": []
  }
 ],
 "metadata": {
  "kernelspec": {
   "display_name": "algorithm-fairness",
   "language": "python",
   "name": "algorithm-fairness"
  },
  "language_info": {
   "codemirror_mode": {
    "name": "ipython",
    "version": 3
   },
   "file_extension": ".py",
   "mimetype": "text/x-python",
   "name": "python",
   "nbconvert_exporter": "python",
   "pygments_lexer": "ipython3",
   "version": "3.6.8"
  },
  "toc": {
   "base_numbering": 1,
   "nav_menu": {},
   "number_sections": true,
   "sideBar": true,
   "skip_h1_title": false,
   "title_cell": "Table of Contents",
   "title_sidebar": "Contents",
   "toc_cell": false,
   "toc_position": {},
   "toc_section_display": true,
   "toc_window_display": false
  },
  "varInspector": {
   "cols": {
    "lenName": 16,
    "lenType": 16,
    "lenVar": 40
   },
   "kernels_config": {
    "python": {
     "delete_cmd_postfix": "",
     "delete_cmd_prefix": "del ",
     "library": "var_list.py",
     "varRefreshCmd": "print(var_dic_list())"
    },
    "r": {
     "delete_cmd_postfix": ") ",
     "delete_cmd_prefix": "rm(",
     "library": "var_list.r",
     "varRefreshCmd": "cat(var_dic_list()) "
    }
   },
   "types_to_exclude": [
    "module",
    "function",
    "builtin_function_or_method",
    "instance",
    "_Feature"
   ],
   "window_display": false
  }
 },
 "nbformat": 4,
 "nbformat_minor": 4
}
